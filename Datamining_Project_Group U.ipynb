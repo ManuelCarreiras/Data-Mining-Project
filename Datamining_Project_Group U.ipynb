{
 "cells": [
  {
   "cell_type": "code",
   "execution_count": 1,
   "metadata": {},
   "outputs": [],
   "source": [
    "import pandas as pd\n",
    "import numpy as np\n",
    "import math\n",
    "import sqlite3\n",
    "import os\n",
    "import matplotlib.pyplot as plt\n",
    "import seaborn as sns\n",
    "from datetime import datetime\n",
    "from sklearn.impute import KNNImputer\n",
    "from sklearn.decomposition import PCA\n",
    "from sklearn.preprocessing import MinMaxScaler, StandardScaler, OneHotEncoder\n",
    "from pandas_profiling import ProfileReport\n",
    "from sklearn.cluster import MeanShift, DBSCAN, estimate_bandwidth\n",
    "from collections import Counter\n",
    "from sklearn.cluster import KMeans, AgglomerativeClustering\n",
    "from sklearn.neighbors import KNeighborsClassifier\n",
    "from sklearn.metrics import silhouette_score, silhouette_samples\n",
    "from sklearn.neighbors import NearestNeighbors\n",
    "sns.set()"
   ]
  },
  {
   "cell_type": "code",
   "execution_count": 2,
   "metadata": {},
   "outputs": [],
   "source": [
    "from os.path import join\n",
    "import pandas as pd\n",
    "import numpy as np\n",
    "import matplotlib.pyplot as plt\n",
    "import seaborn as sns\n",
    "import matplotlib.cm as cm\n",
    "from sklearn.metrics import silhouette_score, silhouette_samples\n",
    "from sklearn.cluster import KMeans\n",
    "from sklearn.base import clone\n",
    "from sklearn.manifold import TSNE"
   ]
  },
  {
   "cell_type": "code",
   "execution_count": 3,
   "metadata": {},
   "outputs": [],
   "source": [
    "import sompy\n",
    "from sompy.visualization.mapview import View2D\n",
    "from sompy.visualization.bmuhits import BmuHitsView\n",
    "from sompy.visualization.hitmap import HitMapView"
   ]
  },
  {
   "cell_type": "code",
   "execution_count": 4,
   "metadata": {},
   "outputs": [],
   "source": [
    "from collections import Counter\n",
    "from os.path import join\n",
    "import matplotlib.pyplot as plt\n",
    "import seaborn as sns\n",
    "import numpy as np\n",
    "import pandas as pd\n",
    "from sklearn.cluster import DBSCAN, KMeans, AgglomerativeClustering\n",
    "from sklearn.base import clone\n",
    "from sklearn.metrics import pairwise_distances\n",
    "from scipy.cluster.hierarchy import dendrogram\n",
    "from sklearn.manifold import TSNE\n",
    "from sklearn.tree import DecisionTreeClassifier, export_graphviz\n",
    "from sklearn.model_selection import train_test_split\n",
    "import graphviz\n",
    "\n",
    "sns.set()"
   ]
  },
  {
   "cell_type": "code",
   "execution_count": 5,
   "metadata": {},
   "outputs": [],
   "source": [
    "from os.path import join\n",
    "import pandas as pd\n",
    "import numpy as np\n",
    "\n",
    "import seaborn as sns\n",
    "import matplotlib.pyplot as plt\n",
    "\n",
    "from sklearn.cluster import KMeans, AgglomerativeClustering\n",
    "from sklearn.neighbors import KNeighborsClassifier\n",
    "\n",
    "import sompy\n",
    "from sompy.visualization.mapview import View2D\n",
    "from sompy.visualization.bmuhits import BmuHitsView\n",
    "from sompy.visualization.hitmap import HitMapView"
   ]
  },
  {
   "cell_type": "code",
   "execution_count": 6,
   "metadata": {},
   "outputs": [
    {
     "name": "stderr",
     "output_type": "stream",
     "text": [
      "C:\\Users\\mcarr\\anaconda3\\lib\\site-packages\\IPython\\core\\interactiveshell.py:3071: DtypeWarning: Columns (9,412) have mixed types.Specify dtype option on import or set low_memory=False.\n",
      "  has_raised = await self.run_ast_nodes(code_ast.body, cell_name,\n"
     ]
    }
   ],
   "source": [
    "data = pd.read_csv('donors.csv').drop(columns=['Unnamed: 0'])"
   ]
  },
  {
   "cell_type": "markdown",
   "metadata": {},
   "source": [
    "# I. Count Missing cases"
   ]
  },
  {
   "cell_type": "code",
   "execution_count": 7,
   "metadata": {},
   "outputs": [
    {
     "name": "stderr",
     "output_type": "stream",
     "text": [
      "Note: NumExpr detected 12 cores but \"NUMEXPR_MAX_THREADS\" not set, so enforcing safe limit of 8.\n",
      "NumExpr defaulting to 8 threads.\n"
     ]
    },
    {
     "data": {
      "text/plain": [
       "[0.0,\n",
       " 0.0,\n",
       " 0.0,\n",
       " 0.0,\n",
       " 0.0,\n",
       " 0.0,\n",
       " 0.0,\n",
       " 25.03144258583826,\n",
       " 0.0,\n",
       " 0.0,\n",
       " 0.0,\n",
       " 0.0,\n",
       " 0.0,\n",
       " 0.0,\n",
       " 0.0,\n",
       " 0.0,\n",
       " 0.0,\n",
       " 0.0,\n",
       " 0.0,\n",
       " 0.0,\n",
       " 87.01840439357733,\n",
       " 22.30956273843961,\n",
       " 0.0,\n",
       " 46.88299165723389,\n",
       " 0.0,\n",
       " 55.395547729845305,\n",
       " 55.395547729845305,\n",
       " 55.395547729845305,\n",
       " 55.458432901521824,\n",
       " 55.395547729845305,\n",
       " 55.395547729845305,\n",
       " 55.395547729845305,\n",
       " 55.395547729845305,\n",
       " 55.395547729845305,\n",
       " 55.395547729845305,\n",
       " 55.395547729845305,\n",
       " 55.395547729845305,\n",
       " 55.395547729845305,\n",
       " 55.395547729845305,\n",
       " 0.0,\n",
       " 0.0,\n",
       " 0.0,\n",
       " 0.0,\n",
       " 0.0,\n",
       " 0.0,\n",
       " 0.0,\n",
       " 0.0,\n",
       " 0.0,\n",
       " 0.0,\n",
       " 0.0,\n",
       " 45.930281306334635,\n",
       " 0.0,\n",
       " 0.0,\n",
       " 0.0,\n",
       " 0.0,\n",
       " 0.0,\n",
       " 0.0,\n",
       " 0.0,\n",
       " 0.0,\n",
       " 0.0,\n",
       " 0.0,\n",
       " 0.0,\n",
       " 0.0,\n",
       " 0.0,\n",
       " 0.0,\n",
       " 0.0,\n",
       " 0.0,\n",
       " 0.0,\n",
       " 0.0,\n",
       " 0.0,\n",
       " 0.0,\n",
       " 0.0,\n",
       " 0.0,\n",
       " 0.0,\n",
       " 0.0,\n",
       " 0.0,\n",
       " 0.0,\n",
       " 0.0,\n",
       " 0.0,\n",
       " 0.0,\n",
       " 0.0,\n",
       " 0.0,\n",
       " 0.0,\n",
       " 0.0,\n",
       " 0.0,\n",
       " 0.0,\n",
       " 0.0,\n",
       " 0.0,\n",
       " 0.0,\n",
       " 0.0,\n",
       " 0.0,\n",
       " 0.0,\n",
       " 0.0,\n",
       " 0.0,\n",
       " 0.0,\n",
       " 0.0,\n",
       " 0.0,\n",
       " 0.0,\n",
       " 0.0,\n",
       " 0.0,\n",
       " 0.0,\n",
       " 0.0,\n",
       " 0.0,\n",
       " 0.0,\n",
       " 0.0,\n",
       " 0.0,\n",
       " 0.0,\n",
       " 0.0,\n",
       " 0.0,\n",
       " 0.0,\n",
       " 0.0,\n",
       " 0.0,\n",
       " 0.0,\n",
       " 0.0,\n",
       " 0.0,\n",
       " 0.0,\n",
       " 0.0,\n",
       " 0.0,\n",
       " 0.0,\n",
       " 0.0,\n",
       " 0.0,\n",
       " 0.0,\n",
       " 0.0,\n",
       " 0.0,\n",
       " 0.0,\n",
       " 0.0,\n",
       " 0.0,\n",
       " 0.0,\n",
       " 0.0,\n",
       " 0.0,\n",
       " 0.0,\n",
       " 0.0,\n",
       " 0.0,\n",
       " 0.0,\n",
       " 0.0,\n",
       " 0.0,\n",
       " 0.0,\n",
       " 0.0,\n",
       " 0.0,\n",
       " 0.0,\n",
       " 0.0,\n",
       " 0.0,\n",
       " 0.0,\n",
       " 0.0,\n",
       " 0.0,\n",
       " 0.0,\n",
       " 0.0,\n",
       " 0.0,\n",
       " 0.0,\n",
       " 0.0,\n",
       " 0.0,\n",
       " 0.0,\n",
       " 0.0,\n",
       " 0.0,\n",
       " 0.0,\n",
       " 0.0,\n",
       " 0.0,\n",
       " 0.0,\n",
       " 0.0,\n",
       " 0.0,\n",
       " 0.0,\n",
       " 0.0,\n",
       " 0.0,\n",
       " 0.0,\n",
       " 0.0,\n",
       " 0.0,\n",
       " 0.0,\n",
       " 0.0,\n",
       " 0.0,\n",
       " 0.0,\n",
       " 0.0,\n",
       " 0.0,\n",
       " 0.0,\n",
       " 0.0,\n",
       " 0.0,\n",
       " 0.0,\n",
       " 0.0,\n",
       " 0.0,\n",
       " 0.0,\n",
       " 0.0,\n",
       " 0.0,\n",
       " 0.0,\n",
       " 0.0,\n",
       " 0.0,\n",
       " 0.0,\n",
       " 0.0,\n",
       " 0.0,\n",
       " 0.0,\n",
       " 0.0,\n",
       " 0.0,\n",
       " 0.0,\n",
       " 0.0,\n",
       " 0.1383473776883411,\n",
       " 0.1383473776883411,\n",
       " 0.1383473776883411,\n",
       " 0.0,\n",
       " 0.0,\n",
       " 0.0,\n",
       " 0.0,\n",
       " 0.0,\n",
       " 0.0,\n",
       " 0.0,\n",
       " 0.0,\n",
       " 0.0,\n",
       " 0.0,\n",
       " 0.0,\n",
       " 0.0,\n",
       " 0.0,\n",
       " 0.0,\n",
       " 0.0,\n",
       " 0.0,\n",
       " 0.0,\n",
       " 0.0,\n",
       " 0.0,\n",
       " 0.0,\n",
       " 0.0,\n",
       " 0.0,\n",
       " 0.0,\n",
       " 0.0,\n",
       " 0.0,\n",
       " 0.0,\n",
       " 0.0,\n",
       " 0.0,\n",
       " 0.0,\n",
       " 0.0,\n",
       " 0.0,\n",
       " 0.0,\n",
       " 0.0,\n",
       " 0.0,\n",
       " 0.0,\n",
       " 0.0,\n",
       " 0.0,\n",
       " 0.0,\n",
       " 0.0,\n",
       " 0.0,\n",
       " 0.0,\n",
       " 0.0,\n",
       " 0.0,\n",
       " 0.0,\n",
       " 0.0,\n",
       " 0.0,\n",
       " 0.0,\n",
       " 0.0,\n",
       " 0.0,\n",
       " 0.0,\n",
       " 0.0,\n",
       " 0.0,\n",
       " 0.0,\n",
       " 0.0,\n",
       " 0.0,\n",
       " 0.0,\n",
       " 0.0,\n",
       " 0.0,\n",
       " 0.0,\n",
       " 0.0,\n",
       " 0.0,\n",
       " 0.0,\n",
       " 0.0,\n",
       " 0.0,\n",
       " 0.0,\n",
       " 0.0,\n",
       " 0.0,\n",
       " 0.0,\n",
       " 0.0,\n",
       " 0.0,\n",
       " 0.0,\n",
       " 0.0,\n",
       " 0.0,\n",
       " 0.0,\n",
       " 0.0,\n",
       " 0.0,\n",
       " 0.0,\n",
       " 0.0,\n",
       " 0.0,\n",
       " 0.0,\n",
       " 0.0,\n",
       " 0.0,\n",
       " 0.0,\n",
       " 0.0,\n",
       " 0.0,\n",
       " 0.0,\n",
       " 0.0,\n",
       " 0.0,\n",
       " 0.0,\n",
       " 0.0,\n",
       " 0.0,\n",
       " 0.0,\n",
       " 0.0,\n",
       " 0.0,\n",
       " 0.0,\n",
       " 0.0,\n",
       " 0.0,\n",
       " 0.0,\n",
       " 0.0,\n",
       " 0.0,\n",
       " 0.0,\n",
       " 0.0,\n",
       " 0.0,\n",
       " 0.0,\n",
       " 0.0,\n",
       " 0.0,\n",
       " 0.0,\n",
       " 0.0,\n",
       " 0.0,\n",
       " 0.0,\n",
       " 0.0,\n",
       " 0.0,\n",
       " 0.0,\n",
       " 0.0,\n",
       " 0.0,\n",
       " 0.0,\n",
       " 0.0,\n",
       " 0.0,\n",
       " 0.0,\n",
       " 0.0,\n",
       " 0.0,\n",
       " 0.0,\n",
       " 0.0,\n",
       " 0.0,\n",
       " 0.0,\n",
       " 0.0,\n",
       " 0.0,\n",
       " 0.0,\n",
       " 0.0,\n",
       " 0.0,\n",
       " 0.0,\n",
       " 0.0,\n",
       " 0.0,\n",
       " 0.0,\n",
       " 0.0,\n",
       " 0.0,\n",
       " 0.0,\n",
       " 0.0,\n",
       " 0.0,\n",
       " 0.0,\n",
       " 0.0,\n",
       " 0.0,\n",
       " 0.0,\n",
       " 0.0,\n",
       " 0.0,\n",
       " 0.0,\n",
       " 0.0,\n",
       " 0.0,\n",
       " 0.0,\n",
       " 0.0,\n",
       " 0.0,\n",
       " 0.0,\n",
       " 0.0,\n",
       " 0.0,\n",
       " 0.0,\n",
       " 0.0,\n",
       " 0.0,\n",
       " 0.0,\n",
       " 0.0,\n",
       " 0.0,\n",
       " 0.0,\n",
       " 0.0,\n",
       " 0.0,\n",
       " 0.0,\n",
       " 2.043768079486857,\n",
       " 2.2963568523875404,\n",
       " 35.205215276904376,\n",
       " 3.728042594222949,\n",
       " 9.300716890957112,\n",
       " 3.6798306292709513,\n",
       " 11.785729258374209,\n",
       " 34.32272670104389,\n",
       " 10.923154320211294,\n",
       " 9.352073114492937,\n",
       " 42.152978660965076,\n",
       " 19.7742422336813,\n",
       " 68.62553976439023,\n",
       " 21.343227267010437,\n",
       " 28.979583280929024,\n",
       " 22.28545675596361,\n",
       " 25.65715004401962,\n",
       " 52.61392696935396,\n",
       " 36.905211084559596,\n",
       " 26.881314719322518,\n",
       " 58.975810170628435,\n",
       " 38.75089087326542,\n",
       " 0.0,\n",
       " 0.0,\n",
       " 0.0,\n",
       " 0.0,\n",
       " 0.0,\n",
       " 0.0,\n",
       " 0.0,\n",
       " 0.0,\n",
       " 0.0,\n",
       " 0.0,\n",
       " 0.0,\n",
       " 0.0,\n",
       " 0.0,\n",
       " 0.0,\n",
       " 0.0,\n",
       " 0.0,\n",
       " 0.0,\n",
       " 0.0,\n",
       " 0.0,\n",
       " 0.0,\n",
       " 0.0,\n",
       " 0.0,\n",
       " 0.0,\n",
       " 0.0,\n",
       " 0.0,\n",
       " 0.0,\n",
       " 0.0,\n",
       " 0.0,\n",
       " 99.7463631409047,\n",
       " 99.70548777931496,\n",
       " 99.99056722424852,\n",
       " 99.1866851129837,\n",
       " 90.67727329895611,\n",
       " 77.49549322936318,\n",
       " 82.46132561941894,\n",
       " 89.03597031819896,\n",
       " 84.55120949146858,\n",
       " 73.06418479855783,\n",
       " 87.1609441160441,\n",
       " 75.56177420031024,\n",
       " 92.38879805475202,\n",
       " 71.70796126273424,\n",
       " 90.14694168448413,\n",
       " 79.27095124303023,\n",
       " 83.35953548819855,\n",
       " 91.73269609692701,\n",
       " 90.02955603068797,\n",
       " 78.12329685993376,\n",
       " 91.76309059657066,\n",
       " 81.40904708003187,\n",
       " 99.7463631409047,\n",
       " 99.70548777931496,\n",
       " 99.99056722424852,\n",
       " 99.1866851129837,\n",
       " 90.67727329895611,\n",
       " 77.49549322936318,\n",
       " 82.46132561941894,\n",
       " 89.03597031819896,\n",
       " 84.55120949146858,\n",
       " 73.06418479855783,\n",
       " 87.1609441160441,\n",
       " 75.56177420031024,\n",
       " 92.38879805475202,\n",
       " 71.70796126273424,\n",
       " 90.14694168448413,\n",
       " 79.27095124303023,\n",
       " 83.35953548819855,\n",
       " 91.73269609692701,\n",
       " 90.02955603068797,\n",
       " 78.12329685993376,\n",
       " 91.76309059657066,\n",
       " 81.40904708003187,\n",
       " 0.0,\n",
       " 0.0,\n",
       " 0.0,\n",
       " 0.0,\n",
       " 0.0,\n",
       " 0.0,\n",
       " 0.0,\n",
       " 0.0,\n",
       " 0.0,\n",
       " 0.0020961723892172894,\n",
       " 10.452563618832013,\n",
       " 10.452563618832013,\n",
       " 0.0,\n",
       " 0.0,\n",
       " 0.0,\n",
       " 0.0,\n",
       " 0.0,\n",
       " 0.0,\n",
       " 0.0,\n",
       " 0.0,\n",
       " 0.0,\n",
       " 0.1383473776883411]"
      ]
     },
     "execution_count": 7,
     "metadata": {},
     "output_type": "execute_result"
    }
   ],
   "source": [
    "percent_missing = data.isnull().sum() * 100 / len(data)\n",
    "list(percent_missing )"
   ]
  },
  {
   "cell_type": "markdown",
   "metadata": {},
   "source": [
    "# II. Data Wrangling\n",
    "# 1. Cleaning Data"
   ]
  },
  {
   "cell_type": "markdown",
   "metadata": {},
   "source": [
    "## 1.1 Dropping some useless variables"
   ]
  },
  {
   "cell_type": "markdown",
   "metadata": {},
   "source": [
    "### A: After the metadata evaluation we decided to drop some variables that we considered useless, below we have the explanation for the process:\n",
    "\n",
    "#####  <span style=\"color:red\">1. OSOURCE: </span> Code indicating which mailing list the donor was originally acquired. <span style=\"color:red\"> Not relevant for the analysis </span>.\n",
    "#####  <span style=\"color:red\">2. TCODE: </span> Code indicating the Donor title code. <span style=\"color:red\"> Not relevant for the analysis </span>.\n",
    "#####  <span style=\"color:red\">3. MAILCODE: </span> Code indicating if the Address is OK or is Bad Address. <span style=\"color:red\"> Not relevant for the analysis </span>.\n",
    "#####  <span style=\"color:red\">4. ZIP: </span> Code indicating the Zipcode. <span style=\"color:red\"> Not relevant for the analysis </span>.\n",
    "#####  <span style=\"color:red\">5. PVASTATE: </span> Code Indicating if whether the donor lives in a state served by the organization's EPVA chapter. <span style=\"color:red\"> 98,45% of Missing cases </span>.\n",
    "#####  <span style=\"color:red\">6. NOEXCH: </span> Code Indicating if it is possible to Exchange Flag (For list rental). <span style=\"color:red\"> Not relevant for the analysis </span>.\n",
    "##### <span style=\"color:red\">7. RECINHSE: </span> Code Indicating if the donor is an in house record or if has given to PVA's In House program. <span style=\"color:red\"> Not relevant for the analysis </span>.\n",
    "#####  <span style=\"color:red\">8. RECP3: </span> Code Indicating if the donor has given to PVA's P3 program. <span style=\"color:red\"> Not relevant for the analysis </span>.\n",
    "#####  <span style=\"color:red\">9. RECPGVG: </span> Code Indicating if the donor has Planned Giving Record. <span style=\"color:red\"> Not relevant for the analysis </span>.\n",
    "#####  <span style=\"color:red\">10. RECSWEEP: </span> Code Indicating if the donor is Sweepstakes Record. <span style=\"color:red\"> Not relevant for the analysis </span>.\n",
    "####  <span style=\"color:red\">11. HOMEOWNR: </span> Code Indicating if the donor has Home owner or not. <span style=\"color:red\"> Not relevant for the analysis </span>.\n",
    "#####  <span style=\"color:red\">12. DATASRCE: </span> The Code Indicates which third-party data source the donor matched against. <span style=\"color:red\"> Not relevant for the analysis </span>.\n",
    "#####  <span style=\"color:red\">12. SOLP3: </span>Indicating if the donor has solicited some limitation for code P3 . <span style=\"color:red\"> Not relevant for the analysis </span>.\n",
    "#####  <span style=\"color:red\">13. SOLIH: </span>Indicating if the donor has solicited some limitation for code in house . <span style=\"color:red\"> Not relevant for the analysis </span>.\n",
    "#####  <span style=\"color:red\">14. MAJOR: </span>Indicating if the donor is Major Donor or not . <span style=\"color:red\"> Repeated variable. The same information is reported on variable \"MDMAUD\" </span>.\n",
    "#####  <span style=\"color:red\">15. GEOCODE: </span>Code indicating the level geography at which a record matches the census data, when is blank indicate that No code has been assigned or did not match at any level. <span style=\"color:red\"> 80.02% have no code assigned or did not match at any level</span>.\n",
    "#####  <span style=\"color:red\">16. LIFESRC: </span> Code Indicates source of the lifestyle variables listed above. <span style=\"color:red\"> Not relevant for the analysis and have 56.6% of missing cases </span>.\n",
    "#####  <span style=\"color:red\">17. PEPSTRFL: </span> Code Indicating if the donor has PEP Star RFA Status or not. <span style=\"color:red\"> Not relevant for the analysis</span>.\n",
    "#####  <span style=\"color:red\">18. HPHONE_D: </span> Code Indicating if Indicator for presence of a published home phone number. <span style=\"color:red\"> Not relevant for the analysis</span>.\n",
    "#####  <span style=\"color:red\">19. MDMAUD_R: </span> The code is part of the Major Donor Matrix . <span style=\"color:red\"> Repeated information. The same information is reported on summary variables </span>.\n",
    "#####  <span style=\"color:red\">20. MDMAUD_F: </span> The code is part of the Major Donor Matrix . <span style=\"color:red\"> Repeated information. The same information is reported on summary variables  </span>.\n",
    "#####  <span style=\"color:red\">21. MDMAUD_A: </span> The code is part of the Major Donor Matrix . <span style=\"color:red\"> Repeated information. The same information is reported on summary variables  </span>.\n",
    "#####  <span style=\"color:red\">22. GEOCODE2: </span> The code represents the County Size Code. <span style=\"color:red\"> The 1st byte of the variable \"DOMAIN/Cluster code\" provides better information because we do not know the meaning of \"A\", \"B\", \"C\", etc..\n",
    "#####  <span style=\"color:red\">23. MDMAUD: </span> The code represents the County Size Code. <span style=\"color:red\"> Not relevant for the analysis </span>."
   ]
  },
  {
   "cell_type": "code",
   "execution_count": 8,
   "metadata": {},
   "outputs": [],
   "source": [
    "data=data.drop(columns=['OSOURCE','MAILCODE','ZIP','PVASTATE','NOEXCH','RECINHSE','RECP3','RECPGVG','RECSWEEP',\"MDMAUD\",\\\n",
    "                        \"HOMEOWNR\",'DATASRCE','SOLP3','SOLIH','MAJOR','GEOCODE','LIFESRC','PEPSTRFL','HPHONE_D','RFA_2R',\\\n",
    "                        'MDMAUD_R','MDMAUD_F','MDMAUD_A','GEOCODE2'])"
   ]
  },
  {
   "cell_type": "markdown",
   "metadata": {},
   "source": [
    "## 1.2 Computing new variables"
   ]
  },
  {
   "cell_type": "markdown",
   "metadata": {},
   "source": [
    "### 1.2.1 Aggregating variables\n",
    "#### <span style=\"color:red\"> We noticed that some variables can be aggregate in one. This aggregation will allow to reduce the number of the variables and put them in global level. If some of this new variable be considerate relevant, they can be analysed in more details later."
   ]
  },
  {
   "cell_type": "markdown",
   "metadata": {},
   "source": [
    "#### A: 1st Aggregation.  Variable: <span style=\"color:red\">\"donor_resp_maill_offer\"</span>:\n",
    "###### Variables to be aggregated: \"HIT\", \"MBCRAFT\", \"MBGARDEN\", \"MBBOOKS\", \"MBCOLECT\", \"MAGFAML\", \"MAGFEM\", \"MAGMALE\", \"PUBGARDN\", \"PUBCULIN\", \"PUBHLTH\", \"PUBDOITY\", \"PUBNEWFN\", \"PUBPHOTO\", \"PUBOPP\" "
   ]
  },
  {
   "cell_type": "markdown",
   "metadata": {},
   "source": [
    "#### All the variables above are referent to the number of mails order offer responded by the donor (from PVA's and other from PVA's). For this analysis we are going to focus only to understand the effect of respond or not respond not on the number that the donor had responded.\n",
    "\n",
    "##### For this group of variables, we are going to create new variable <span style=\"color:red\">“donor_resp_maill_offer”</span> which is going to inform the type of mail order offer that donor chose to respond.\n",
    "##### Rule applied for the variable:\n",
    "1.\t1st Classification:  <span style=\"color:red\"> hit </span>: All the donor who have responded something different than “0” on the variable HIT and no response on any off the other types of mail order offers (\"MBCRAFT\", \"MBGARDEN\", \"MBBOOKS\", \"MBCOLECT\", \"MAGFAML\", \"MAGFEM\", \"MAGMALE\", \"PUBGARDN\", \"PUBCULIN\", \"PUBHLTH\", \"PUBDOITY\", \"PUBNEWFN\", \"PUBPHOTO\", \"PUBOPP\").\n",
    "RULE: If the donor has respond any response different than “0” on the variable HIT and none response on any off the other types of mail order offers. \n",
    "2.\t2st Classification: <span style=\"color:red\"> other types</span>: All the donor who have responded something different than “0” on the any of other types of mail order offers and have no response or responded “0” on variable HIT.\n",
    "3.\t3rd Classification: <span style=\"color:red\"> both </span>: If the donor has responded something different than “0” on “the other types of mail order offers” and “on the variable HIT”\n",
    "4.\t4th Classification: <span style=\"color:red\"> None </span>: If the donor has no response or responded “0” on both question “the other types of mail order offers” and “on the variable HIT”"
   ]
  },
  {
   "cell_type": "code",
   "execution_count": 9,
   "metadata": {},
   "outputs": [],
   "source": [
    "# Function to return 1 if the donor had responded to any mail order offer and 0 if he has not.\n",
    "def donor_resp_maill_0_1(v1):\n",
    "    if v1>0:\n",
    "        return 1\n",
    "    else:\n",
    "        return 0"
   ]
  },
  {
   "cell_type": "code",
   "execution_count": 10,
   "metadata": {},
   "outputs": [],
   "source": [
    "# Applying the function above to all the variables referent to the number of mails order offer responded.\n",
    "data[\"hit_0_1\"]= data [\"HIT\"].apply(lambda x:donor_resp_maill_0_1(x))\n",
    "data[\"MBCRAFT_0_1\"]= data [\"MBCRAFT\"].apply(lambda x:donor_resp_maill_0_1(x))\n",
    "data[\"MBGARDEN_0_1\"]= data [\"MBGARDEN\"].apply(lambda x:donor_resp_maill_0_1(x))\n",
    "data[\"MBBOOKS_0_1\"]= data [\"MBBOOKS\"].apply(lambda x:donor_resp_maill_0_1(x))\n",
    "data[\"MBCOLECT_0_1\"]= data [\"MBCOLECT\"].apply(lambda x:donor_resp_maill_0_1(x))\n",
    "data[\"MAGFAML_0_1\"]= data [\"MAGFAML\"].apply(lambda x:donor_resp_maill_0_1(x))\n",
    "data[\"MAGFEM_0_1\"]= data [\"MAGFAML\"].apply(lambda x:donor_resp_maill_0_1(x))\n",
    "data[\"MAGMALE_0_1\"]= data [\"MAGMALE\"].apply(lambda x:donor_resp_maill_0_1(x))\n",
    "data[\"PUBGARDN_0_1\"]= data [\"PUBGARDN\"].apply(lambda x:donor_resp_maill_0_1(x))\n",
    "data[\"PUBCULIN_0_1\"]= data [\"PUBCULIN\"].apply(lambda x:donor_resp_maill_0_1(x))\n",
    "data[\"PUBHLTH_0_1\"]= data [\"PUBHLTH\"].apply(lambda x:donor_resp_maill_0_1(x))\n",
    "data[\"PUBDOITY_0_1\"]= data [\"PUBDOITY\"].apply(lambda x:donor_resp_maill_0_1(x))\n",
    "data[\"PUBNEWFN_0_1\"]= data [\"PUBNEWFN\"].apply(lambda x:donor_resp_maill_0_1(x))\n",
    "data[\"PUBPHOTO_0_1\"]= data [\"PUBPHOTO\"].apply(lambda x:donor_resp_maill_0_1(x))\n",
    "data[\"PUBOPP_0_1\"]= data [\"PUBOPP\"].apply(lambda x:donor_resp_maill_0_1(x))"
   ]
  },
  {
   "cell_type": "code",
   "execution_count": 11,
   "metadata": {},
   "outputs": [],
   "source": [
    "# Creating new variable \"Pre_other_types\" which is going to aggregate all the variables above where \\\n",
    "# 0 indicate that donor does not have interest on collecting  any object\n",
    "data[\"other_types_0_1\"]= data[\"MBCRAFT_0_1\"] + data [\"MBGARDEN_0_1\"] + data [\"MBBOOKS_0_1\"] + data [\"MBCOLECT_0_1\"]\\\n",
    "                         + data [\"MAGFAML_0_1\"] + data [\"MAGFEM_0_1\"] + data [\"MAGMALE_0_1\"] + data [\"PUBGARDN_0_1\"]\\\n",
    "                         + data [\"PUBCULIN_0_1\"] + data [\"PUBHLTH_0_1\"] + data [\"PUBDOITY_0_1\"]+ data [\"PUBNEWFN_0_1\"]\\\n",
    "                         + data [\"PUBPHOTO_0_1\"] + data [\"PUBOPP_0_1\"]\n",
    "# If the sum is equal to 0 means that the donor did not respond any email for all the other types\n",
    "# If the sum is >0 means that the donor responded at least one email for other types"
   ]
  },
  {
   "cell_type": "code",
   "execution_count": 12,
   "metadata": {},
   "outputs": [],
   "source": [
    "# Function to return \"None\" if the donor does not have interest in collecting certain objects and yes if he has interest.\n",
    "def donor_resp_maill_y_n(v1, v2):\n",
    "        if (v1==0) & (v2==0):\n",
    "            return \"None\"\n",
    "        elif (v1>0) & (v2==0):\n",
    "            return \"hit\"\n",
    "        elif (v1==0) & (v2>0):\n",
    "            return \"other types\"\n",
    "        else:\n",
    "            return \"both\""
   ]
  },
  {
   "cell_type": "code",
   "execution_count": 13,
   "metadata": {},
   "outputs": [
    {
     "data": {
      "text/plain": [
       "None           55577\n",
       "both           30417\n",
       "hit             9323\n",
       "other types       95\n",
       "Name: donor_resp_maill_offer, dtype: int64"
      ]
     },
     "execution_count": 13,
     "metadata": {},
     "output_type": "execute_result"
    }
   ],
   "source": [
    "# Applying the function above to \"data[\"hit_0_1\"]\" and \"data[\"other_types_0_1\"]\" \n",
    "# Creating new variable \"donor_resp_maill_offer\"\n",
    "data[\"donor_resp_maill_offer\"]=data.apply(lambda x: donor_resp_maill_y_n(x[\"hit_0_1\"], x[\"other_types_0_1\"]), axis=1)\n",
    "data[\"donor_resp_maill_offer\"].value_counts()"
   ]
  },
  {
   "cell_type": "markdown",
   "metadata": {},
   "source": [
    "##### Dropping variables used to aggregate"
   ]
  },
  {
   "cell_type": "markdown",
   "metadata": {},
   "source": [
    "###### \"HIT\", \"MBCRAFT\", \"MBGARDEN\", \"MBBOOKS\", \"MBCOLECT\", \"MAGFAML\", \"MAGFEM\", \"MAGMALE\", \"PUBGARDN\", \"PUBCULIN\", \"PUBHLTH\", \"PUBDOITY\", \"PUBNEWFN\", \"PUBPHOTO\", \"PUBOPP\""
   ]
  },
  {
   "cell_type": "code",
   "execution_count": 14,
   "metadata": {},
   "outputs": [],
   "source": [
    "data=data.drop(columns=[\"HIT\", \"MBCRAFT\", \"MBGARDEN\", \"MBBOOKS\", \"MBCOLECT\", \"MAGFAML\", \"MAGFEM\", \"MAGMALE\",\\\n",
    "                         \"PUBGARDN\", \"PUBCULIN\", \"PUBHLTH\", \"PUBDOITY\", \"PUBNEWFN\", \"PUBPHOTO\", \"PUBOPP\"])"
   ]
  },
  {
   "cell_type": "markdown",
   "metadata": {},
   "source": [
    "###### \"hit_0_1\", \"MBCRAFT_0_1\", \"MBGARDEN_0_1\", \"MBBOOKS_0_1\", \"MBCOLECT_0_1\", \"MAGFAML_0_1\", \"MAGFEM_0_1\", \"MAGMALE_0_1\", \"PUBGARDN_0_1\", \"PUBCULIN_0_1\", \"PUBHLTH_0_1\", \"PUBDOITY_0_1\", \"PUBNEWFN_0_1\", \"PUBPHOTO_0_1\", \"PUBOPP_0_1\", \"other_types_0_1\""
   ]
  },
  {
   "cell_type": "code",
   "execution_count": 15,
   "metadata": {},
   "outputs": [],
   "source": [
    "data=data.drop(columns=[\"hit_0_1\", \"MBCRAFT_0_1\", \"MBGARDEN_0_1\", \"MBBOOKS_0_1\", \"MBCOLECT_0_1\", \"MAGFAML_0_1\",\\\n",
    "                        \"MAGFEM_0_1\", \"MAGMALE_0_1\", \"PUBGARDN_0_1\", \"PUBCULIN_0_1\", \"PUBHLTH_0_1\", \"PUBDOITY_0_1\",\\\n",
    "                        \"PUBNEWFN_0_1\", \"PUBPHOTO_0_1\", \"PUBOPP_0_1\", \"other_types_0_1\"])"
   ]
  },
  {
   "cell_type": "markdown",
   "metadata": {},
   "source": [
    "##### _________________________________________________________________________________________________________*"
   ]
  },
  {
   "cell_type": "markdown",
   "metadata": {},
   "source": [
    "#### B: 2nd Aggregation: Variable: <span style=\"color:red\">\"donor_interest_collecting\"</span>\n",
    "###### Variables to be aggregated: \"COLLECT1 \", \"VETERANS\", \"BIBLE\", \"CATLG\", \"HOMEE \", \"PETS\", \"CDPLAY\", \"STEREO\", \"PCOWNERS\", \"PHOTO\", \"CRAFTS\", \"FISHER\", \"GARDENIN\", \"BOATS\", \"WALKER\" , \"KIDSTUFF \", \"CARDS\", \"PLATES\""
   ]
  },
  {
   "cell_type": "markdown",
   "metadata": {},
   "source": [
    "#### All the variables above want to figure out if the donor has interest in collecting objects from third-party data sources.\n",
    "\n",
    "##### For this group of variables, we are going to create new variable <span style=\"color:red\">“donor_interest_collecting”</span>. This new variable is going to inform if the donor has or not, interest in collecting things from third-party data sources.\n",
    "\n",
    "Rule applied for the variable:\n",
    "If the donor has responded “yes” on one of the objects we are going to consider this donor with interest in collecting things from third party. On other and if he responded “no” for all the object, the donor does not have interest in collecting objects from third party data sources.\n",
    "Classification:  <span style=\"color:red\">Yes</span>: for all the donors with interest; <span style=\"color:red\">No</span>: All the donors with no interest.\n",
    "\n",
    "\n"
   ]
  },
  {
   "cell_type": "code",
   "execution_count": 16,
   "metadata": {},
   "outputs": [],
   "source": [
    "# Function to return 0 if the donor does not have interest in collecting certain objects and 1 if he has interest\n",
    "def donor_interest(v1):\n",
    "    if v1==' ':\n",
    "        return 0\n",
    "    else:\n",
    "        return 1"
   ]
  },
  {
   "cell_type": "code",
   "execution_count": 17,
   "metadata": {},
   "outputs": [],
   "source": [
    "# Applying the function above on the each collecting object.\n",
    "data[\"COLLECT1_0_1\"]= data [\"COLLECT1\"].apply(lambda x:donor_interest(x))\n",
    "data[\"VETERANS_0_1\"]= data [\"VETERANS\"].apply(lambda x:donor_interest(x))\n",
    "data[\"BIBLE_0_1\"]= data [\"BIBLE\"].apply(lambda x:donor_interest(x))\n",
    "data[\"CATLG_0_1\"]= data [\"CATLG\"].apply(lambda x:donor_interest(x))\n",
    "data[\"HOMEE_0_1\"]= data [\"HOMEE\"].apply(lambda x:donor_interest(x))\n",
    "data[\"PETS_0_1\"]= data [\"PETS\"].apply(lambda x:donor_interest(x))\n",
    "data[\"CDPLAY_0_1\"]= data [\"CDPLAY\"].apply(lambda x:donor_interest(x))\n",
    "data[\"STEREO_0_1\"]= data [\"STEREO\"].apply(lambda x:donor_interest(x))\n",
    "data[\"PCOWNERS_0_1\"]= data [\"PCOWNERS\"].apply(lambda x:donor_interest(x))\n",
    "data[\"PHOTO_0_1\"]= data [\"PHOTO\"].apply(lambda x:donor_interest(x))\n",
    "data[\"CRAFTS_0_1\"]= data [\"CRAFTS\"].apply(lambda x:donor_interest(x))\n",
    "data[\"FISHER_0_1\"]= data [\"FISHER\"].apply(lambda x:donor_interest(x))\n",
    "data[\"GARDENIN_0_1\"]= data [\"GARDENIN\"].apply(lambda x:donor_interest(x))\n",
    "data[\"BOATS_0_1\"]= data [\"BOATS\"].apply(lambda x:donor_interest(x))\n",
    "data[\"WALKER_0_1\"]= data [\"WALKER\"].apply(lambda x:donor_interest(x))\n",
    "data[\"KIDSTUFF_0_1\"]= data [\"KIDSTUFF\"].apply(lambda x:donor_interest(x))\n",
    "data[\"CARDS_0_1\"]= data [\"CARDS\"].apply(lambda x:donor_interest(x))\n",
    "data[\"PLATES_0_1\"]= data [\"PLATES\"].apply(lambda x:donor_interest(x))"
   ]
  },
  {
   "cell_type": "code",
   "execution_count": 18,
   "metadata": {},
   "outputs": [],
   "source": [
    "# Creating new variable which is going to aggregate all the variables above where 0 indicate that donor does not\\\n",
    "# have interest on collecting  any object\n",
    "data[\"Pre_donor_interest_collecting\"]= data[\"COLLECT1_0_1\"] + data [\"VETERANS_0_1\"]  + data [\"BIBLE_0_1\"] +\\\n",
    "                                       data [\"CATLG_0_1\"]  +  data [\"HOMEE_0_1\"] + data [\"PETS_0_1\"]  + \\\n",
    "                                       data [\"CDPLAY_0_1\"] + data [\"STEREO_0_1\"]+ data [\"PCOWNERS_0_1\"] + \\\n",
    "                                       data [\"PHOTO_0_1\"]+ data [\"CRAFTS_0_1\"]+ data [\"FISHER_0_1\"] +\\\n",
    "                                       data [\"GARDENIN_0_1\"] + data [\"BOATS_0_1\"] + data [\"WALKER_0_1\"]+\\\n",
    "                                       data [\"KIDSTUFF_0_1\"] + data [\"CARDS_0_1\"]+ data [\"PLATES_0_1\"]"
   ]
  },
  {
   "cell_type": "code",
   "execution_count": 19,
   "metadata": {},
   "outputs": [],
   "source": [
    "# Function to return \"no\" if the donor does not have interest in collecting certain objects and yes if he has interest.\n",
    "def donor_interest_y_n(v2):\n",
    "        if v2==0:\n",
    "            return \"no\"\n",
    "        else:\n",
    "            return \"yes\""
   ]
  },
  {
   "cell_type": "code",
   "execution_count": 20,
   "metadata": {},
   "outputs": [
    {
     "data": {
      "text/plain": [
       "no     63737\n",
       "yes    31675\n",
       "Name: donor_interest_collecting, dtype: int64"
      ]
     },
     "execution_count": 20,
     "metadata": {},
     "output_type": "execute_result"
    }
   ],
   "source": [
    "# Applying the function above on the Pre_donor_interest_collecting and creating the variable donor_interest_collecting.\n",
    "data[\"donor_interest_collecting\"]= data [\"Pre_donor_interest_collecting\"].apply(lambda x:donor_interest_y_n(x))\n",
    "data[\"donor_interest_collecting\"].value_counts()"
   ]
  },
  {
   "cell_type": "markdown",
   "metadata": {},
   "source": [
    "#### Dropping variables used to aggregate:"
   ]
  },
  {
   "cell_type": "markdown",
   "metadata": {},
   "source": [
    "###### \"COLLECT1\",\"VETERANS\",\"BIBLE\",\"CATLG\",\"HOMEE\",\"PETS\",\"CDPLAY\",\"STEREO\",\"PCOWNERS\",\"PHOTO\",\"CRAFTS\",\"FISHER\", \"GARDENIN\",\"BOATS\", \"WALKER\" ,\"KIDSTUFF\", \"CARDS\", \"PLATES\""
   ]
  },
  {
   "cell_type": "code",
   "execution_count": 21,
   "metadata": {},
   "outputs": [],
   "source": [
    "data=data.drop(columns=[\"COLLECT1\",\"VETERANS\", \"BIBLE\",\"CATLG\",\"HOMEE\",\"PETS\",\"CDPLAY\",\"STEREO\",\"PCOWNERS\",\"PHOTO\",\\\n",
    "                        \"CRAFTS\",\"FISHER\",\"GARDENIN\",\"BOATS\", \"WALKER\" ,\"KIDSTUFF\", \"CARDS\", \"PLATES\"])"
   ]
  },
  {
   "cell_type": "markdown",
   "metadata": {},
   "source": [
    "##### \"COLLECT1_0_1\", \"VETERANS_0_1\", \"BIBLE_0_1\",\"CATLG_0_1\", \"HOMEE_0_1\", \"PETS_0_1\", \"CDPLAY_0_1\", \"STEREO_0_1\", \"PCOWNERS_0_1\", \"PHOTO_0_1\", \"CRAFTS_0_1\", \"FISHER_0_1\", \"GARDENIN_0_1\", \"BOATS_0_1\", \"WALKER_0_1\", \"KIDSTUFF_0_1\", \"CARDS_0_1\",  \"PLATES_0_1\""
   ]
  },
  {
   "cell_type": "code",
   "execution_count": 22,
   "metadata": {},
   "outputs": [],
   "source": [
    "data=data.drop(columns=[\"COLLECT1_0_1\", \"VETERANS_0_1\", \"BIBLE_0_1\",\"CATLG_0_1\", \"HOMEE_0_1\", \"PETS_0_1\", \"CDPLAY_0_1\",\\\n",
    "                        \"STEREO_0_1\", \"PCOWNERS_0_1\", \"PHOTO_0_1\", \"CRAFTS_0_1\", \"FISHER_0_1\", \"GARDENIN_0_1\",\\\n",
    "                        \"BOATS_0_1\", \"WALKER_0_1\", \"KIDSTUFF_0_1\", \"CARDS_0_1\",  \"PLATES_0_1\"])"
   ]
  },
  {
   "cell_type": "markdown",
   "metadata": {},
   "source": [
    "#### C: 3rd Aggregation  and filling Missing cases. Variable: <span style=\"color:red\">\"donor_have_child”</span>.\n",
    "###### Variables to be aggregated: \"CHILD03\", \"CHILD07\", \"CHILD12\", \"CHILD18\", \"NUMCHLD\""
   ]
  },
  {
   "cell_type": "markdown",
   "metadata": {},
   "source": [
    "#### In Summary all the variables above inform us if the donor has or not child.\n",
    "##### For this group of variables, we are going to create new variable <span style=\"color:red\">\"donor_have_child”</span>. This new variable is going to inform if the donor has or not child we think that the number of child is not important in these stage.\n",
    "\n",
    "Rule applied for the variable:\n",
    "If the donor has responded “B”, “F”, “M”, on one of the following question “CHILD03, CHILD07, CHILD12, CHILD18” or  a number different than “0” on the “NUMCHLD” we are going to consider that the donor has a child. On other hand if the donor has not response on “CHILD03, CHILD07, CHILD12, CHILD18” and “0” on the “NUMCHLD” we are going to consider that the donor has not a child\n",
    "Classification:   <span style=\"color:red\"> Yes </span>: for all the donors who have a child;  <span style=\"color:red\">No</span>: All the donors who have not a child.\n",
    "\n",
    "###### <span style=\"color:red\"> NOTE: For all the cases that we do not have any response for all the questions we are going to figure out later if they are missing cases or the donors do not have child.\n",
    "\n"
   ]
  },
  {
   "cell_type": "code",
   "execution_count": 23,
   "metadata": {},
   "outputs": [],
   "source": [
    "# Function to return 0 if the donor does not have child and 1 if he has.\n",
    "def donor_child(v1):\n",
    "    if v1==' ':\n",
    "        return 0\n",
    "    else:\n",
    "        return 1"
   ]
  },
  {
   "cell_type": "code",
   "execution_count": 24,
   "metadata": {},
   "outputs": [],
   "source": [
    "# Applying the function above on the variables \"CHILD03\", \"CHILD07\", \"CHILD12\", \"CHILD18\".\n",
    "data[\"CHILD03_0_1\"]= data [\"CHILD03\"].apply(lambda x:donor_child(x))\n",
    "data[\"CHILD07_0_1\"]= data [\"CHILD07\"].apply(lambda x:donor_child(x))\n",
    "data[\"CHILD12_0_1\"]= data [\"CHILD12\"].apply(lambda x:donor_child(x))\n",
    "data[\"CHILD18_0_1\"]= data [\"CHILD18\"].apply(lambda x:donor_child(x))"
   ]
  },
  {
   "cell_type": "code",
   "execution_count": 25,
   "metadata": {},
   "outputs": [],
   "source": [
    "# Creating a function that recives dataframe and the column \"NUMCHLD\" and will return a series with binary values (0,1) \n",
    "# which 0 indicates no child from the donor and 1 indicates at least 1 child from the donor. \n",
    "def binary_values_numchild (data_frame, column):\n",
    "    import math\n",
    "    b=[]\n",
    "    for i in data_frame [column]:\n",
    "        if math.isnan(i) is True:\n",
    "            a=0\n",
    "        else:\n",
    "            a=1\n",
    "        b.append(a)\n",
    "    data_frame[column+\"binary\"]=b"
   ]
  },
  {
   "cell_type": "code",
   "execution_count": 26,
   "metadata": {},
   "outputs": [
    {
     "data": {
      "text/plain": [
       "0    83026\n",
       "1    12386\n",
       "Name: NUMCHLDbinary, dtype: int64"
      ]
     },
     "execution_count": 26,
     "metadata": {},
     "output_type": "execute_result"
    }
   ],
   "source": [
    "binary_values_numchild(data, \"NUMCHLD\")\n",
    "data['NUMCHLDbinary'].value_counts()"
   ]
  },
  {
   "cell_type": "code",
   "execution_count": 27,
   "metadata": {},
   "outputs": [
    {
     "data": {
      "text/plain": [
       "0    83026\n",
       "1    12386\n",
       "Name: NUMCHLDbinary, dtype: int64"
      ]
     },
     "execution_count": 27,
     "metadata": {},
     "output_type": "execute_result"
    }
   ],
   "source": [
    "data['NUMCHLDbinary'].value_counts()"
   ]
  },
  {
   "cell_type": "code",
   "execution_count": 28,
   "metadata": {},
   "outputs": [],
   "source": [
    "# Creating a function that recives dataframe, 5 columns and will return a series with binary values (0,1) \n",
    "# which 0 indicates no child from the donor and 1 indicates at least 1 child from the donor. \n",
    "def binary_values_ (data_frame, column1, column2, column3, column4, column5):\n",
    "    import math\n",
    "    b=[]\n",
    "    for i in list(range (0, len(data_frame))):\n",
    "        if (data_frame[column1][i] + data_frame[column2][i] + data_frame[column3][i] + data_frame[column4][i]\\\n",
    "            + data_frame[column5][i])==0:\n",
    "            a= 0\n",
    "        else:\n",
    "            a= 1\n",
    "        b.append(a)\n",
    "    data_frame['donor_have_child_y_n']=b"
   ]
  },
  {
   "cell_type": "code",
   "execution_count": 29,
   "metadata": {},
   "outputs": [
    {
     "data": {
      "text/plain": [
       "0    81482\n",
       "1    13930\n",
       "Name: donor_have_child_y_n, dtype: int64"
      ]
     },
     "execution_count": 29,
     "metadata": {},
     "output_type": "execute_result"
    }
   ],
   "source": [
    "# Applying the function above on the variables \"CHILD03_0_1\", \"CHILD07_0_1\", \"CHILD12_0_1\", \"CHILD18_0_1\", \"NUMCHLDbinary\".\n",
    "binary_values_(data, \"CHILD03_0_1\", \"CHILD07_0_1\", \"CHILD12_0_1\", \"CHILD18_0_1\", \"NUMCHLDbinary\")\n",
    "data['donor_have_child_y_n'].value_counts()"
   ]
  },
  {
   "cell_type": "markdown",
   "metadata": {},
   "source": [
    "#### C1: Filling Missing cases: Variable: <span style=\"color:red\">\"donor_have_child_y_n\"</span>\n",
    "#### <span style=\"color:red\">We aggregated all the question related with children. The purpose of this aggregation was to create new variable which inform if the donor has or not child</span>\n",
    "##### After filling 1 on all the possible cases with evidence that the donor has child. According with the new variable, 83026 did not provide any information related with children so, we are going to considerate those cases as a missing case.To fill these cases we are going use characteristics of the donors neighbourhood. For this procedure we are going to use the following variables:\n",
    "\n",
    "<span style=\"color:red\">CHIL1:</span> Percent Children Under Age 7\n",
    "<span style=\"color:red\">CHIL2:</span> Percent Children Age 7 - 13\n",
    "<span style=\"color:red\">CHIL3:</span> Percent Children Age 14-17\n",
    "\n",
    "<span style=\"color:red\">Rule to be applied:</span>\n",
    "    •\tIf CHIL1+ CHIL2+ CHIL1 is between 90 and 110: The donor has child (1)\n",
    "    •\tElse: The donor has not child (0)"
   ]
  },
  {
   "cell_type": "code",
   "execution_count": 30,
   "metadata": {},
   "outputs": [],
   "source": [
    "# Creating a function that recives dataframe, 3 columns and will return a series with binary values (0,1)  \n",
    "# which 0 indicates no child from the donor and 1 indicates at least 1 child from the donor. \n",
    "def binary_values_3 (data_frame, column1, column2, column3):\n",
    "    import math\n",
    "    b=[]\n",
    "    for i in list(range (0, len(data_frame))):\n",
    "        if (data_frame[column1][i] + data_frame[column2][i] + data_frame[column3][i])>=90 and (data_frame[column1][i]\\\n",
    "            + data_frame[column2][i] + data_frame[column3][i])<=110:\n",
    "            a= 1\n",
    "        else:\n",
    "            a= 0\n",
    "        b.append(a)\n",
    "    data_frame['donor_have_child_y_n']=b"
   ]
  },
  {
   "cell_type": "code",
   "execution_count": 31,
   "metadata": {},
   "outputs": [
    {
     "data": {
      "text/plain": [
       "1    94420\n",
       "0      992\n",
       "Name: donor_have_child_y_n, dtype: int64"
      ]
     },
     "execution_count": 31,
     "metadata": {},
     "output_type": "execute_result"
    }
   ],
   "source": [
    "# Applying the function above on the variables \"CHIL1\", \"CHIL2\", \"CHIL3\".\n",
    "binary_values_3(data, \"CHIL1\", \"CHIL2\", \"CHIL3\")\n",
    "data['donor_have_child_y_n'].value_counts()"
   ]
  },
  {
   "cell_type": "code",
   "execution_count": 32,
   "metadata": {},
   "outputs": [],
   "source": [
    "# Function to return \"no\" if the donor does not have interest in collecting certain objects and yes if he has interest.\n",
    "def child_y_n(v2):\n",
    "        if v2==0:\n",
    "            return \"no\"\n",
    "        else:\n",
    "            return \"yes\""
   ]
  },
  {
   "cell_type": "code",
   "execution_count": 33,
   "metadata": {},
   "outputs": [
    {
     "data": {
      "text/plain": [
       "yes    94420\n",
       "no       992\n",
       "Name: donor_have_child_y_n, dtype: int64"
      ]
     },
     "execution_count": 33,
     "metadata": {},
     "output_type": "execute_result"
    }
   ],
   "source": [
    "# Applying the function above on the donor_have_child_y_n.\n",
    "data[\"donor_have_child_y_n\"]= data [\"donor_have_child_y_n\"].apply(lambda x:child_y_n(x))\n",
    "data[\"donor_have_child_y_n\"].value_counts()"
   ]
  },
  {
   "cell_type": "markdown",
   "metadata": {},
   "source": [
    "#### <span style=\"color:red\"> After using characteristics of the donors neighbourhood we are going to consider that 992 donor do not have any child"
   ]
  },
  {
   "cell_type": "markdown",
   "metadata": {},
   "source": [
    "##### Dropping variables used to aggregate"
   ]
  },
  {
   "cell_type": "markdown",
   "metadata": {},
   "source": [
    "###### \"CHILD03\", \"CHILD07\", \"CHILD12\", \"CHILD18\", \"NUMCHLD\""
   ]
  },
  {
   "cell_type": "code",
   "execution_count": 34,
   "metadata": {
    "scrolled": true
   },
   "outputs": [],
   "source": [
    "data=data.drop(columns=[\"CHILD03\", \"CHILD07\", \"CHILD12\", \"CHILD18\", \"NUMCHLD\"])"
   ]
  },
  {
   "cell_type": "markdown",
   "metadata": {},
   "source": [
    "###### \"CHILD03_0_1\", \"CHILD07_0_1\", \"CHILD12_0_1\",  \"CHILD18_0_1\", \"NUMCHLDbinary\""
   ]
  },
  {
   "cell_type": "code",
   "execution_count": 35,
   "metadata": {},
   "outputs": [],
   "source": [
    "data=data.drop(columns=[\"CHILD03_0_1\", \"CHILD07_0_1\", \"CHILD12_0_1\", \"CHILD18_0_1\", \"NUMCHLDbinary\"])"
   ]
  },
  {
   "cell_type": "markdown",
   "metadata": {},
   "source": [
    "### 1.2.2 Disaggregating variables"
   ]
  },
  {
   "cell_type": "markdown",
   "metadata": {},
   "source": [
    "#### <span style=\"color:red\"> We noticed that some variables are aggregate and contains relevant insights. For these variables we decided to disaggregate them.\n",
    "    "
   ]
  },
  {
   "cell_type": "markdown",
   "metadata": {},
   "source": [
    "#### A: 1st Disaggregation\n",
    "##### In this step we decided to split the variable  <span style=\"color:red\"> 'DOMAIN' </span> in  two different variables. <span style=\"color:red\"> 'urban_city_level'  </span> which stores Urbanicity level of the donor's neighborhood and <span style=\"color:red\"> 'social_economical_status'  </span> which stores Socio-Economic status of the neighborhood. \n",
    "##### We did this so that we could better visualize the information in this variable and also work with it separately."
   ]
  },
  {
   "cell_type": "code",
   "execution_count": 36,
   "metadata": {},
   "outputs": [],
   "source": [
    "#Variable that stores the urban city level from the disaggregation of DOMAIN corresponding to the first byte\n",
    "data['urban_city_level'] = [data['DOMAIN'][i][0] for i in range(len(data))]"
   ]
  },
  {
   "cell_type": "code",
   "execution_count": 37,
   "metadata": {},
   "outputs": [
    {
     "data": {
      "text/plain": [
       "Suburban    24240\n",
       "Rural       19790\n",
       "City        19689\n",
       "Town        19527\n",
       "Urban       12166\n",
       "Name: urban_city_level, dtype: int64"
      ]
     },
     "execution_count": 37,
     "metadata": {},
     "output_type": "execute_result"
    }
   ],
   "source": [
    "#Updating the former variable data['urban_city_level'] with a name instead of the code\n",
    "D=[]\n",
    "for i in range(len(data['urban_city_level'])):\n",
    "    if data['urban_city_level'][i] == 'C':\n",
    "        D.append('City')\n",
    "    elif data['urban_city_level'][i] == 'S':\n",
    "        D.append('Suburban')\n",
    "    elif data['urban_city_level'][i] == 'T':\n",
    "        D.append('Town')\n",
    "    elif data['urban_city_level'][i] == 'R':\n",
    "        D.append('Rural')\n",
    "    elif data['urban_city_level'][i] == 'U':\n",
    "        D.append('Urban')\n",
    "    else:\n",
    "        D.append('Suburban')\n",
    "data['urban_city_level']=D\n",
    "data['urban_city_level'].value_counts()"
   ]
  },
  {
   "cell_type": "code",
   "execution_count": null,
   "metadata": {},
   "outputs": [],
   "source": []
  },
  {
   "cell_type": "code",
   "execution_count": 38,
   "metadata": {},
   "outputs": [],
   "source": [
    "#Variable that stores the urban city level from the disaggregation of DOMAIN corresponding to the second byte\n",
    "B=[]\n",
    "for o in range(len(data)):\n",
    "    if data['DOMAIN'][o]!=' ':\n",
    "        B.append(data['DOMAIN'][o][1])\n",
    "    else:\n",
    "        B.append(0)\n",
    "data['social_economical_status']=B"
   ]
  },
  {
   "cell_type": "code",
   "execution_count": 39,
   "metadata": {},
   "outputs": [
    {
     "data": {
      "text/plain": [
       "'2'"
      ]
     },
     "execution_count": 39,
     "metadata": {},
     "output_type": "execute_result"
    }
   ],
   "source": [
    "modes = data['social_economical_status'].mode().loc[0]\n",
    "modes"
   ]
  },
  {
   "cell_type": "code",
   "execution_count": 40,
   "metadata": {},
   "outputs": [
    {
     "data": {
      "text/plain": [
       "Above average SES    48356\n",
       "Highest SES          28498\n",
       "Below average SES    16754\n",
       "Lowest SES            1804\n",
       "Name: social_economical_status, dtype: int64"
      ]
     },
     "execution_count": 40,
     "metadata": {},
     "output_type": "execute_result"
    }
   ],
   "source": [
    "#Updating the former variable data['social_economical_status'] with a name instead of the code\n",
    "E=[]\n",
    "for o in range(len(data['social_economical_status'])):\n",
    "    if data['social_economical_status'][o] == '1':\n",
    "        E.append('Highest SES')\n",
    "    elif data['social_economical_status'][o] == '2':\n",
    "        E.append('Above average SES')\n",
    "    elif data['social_economical_status'][o] == '3':\n",
    "        E.append('Below average SES')\n",
    "    elif data['social_economical_status'][o] == '4':\n",
    "        E.append('Lowest SES')\n",
    "    else:\n",
    "        E.append('Above average SES')\n",
    "data['social_economical_status']=E\n",
    "data['social_economical_status'].value_counts()"
   ]
  },
  {
   "cell_type": "markdown",
   "metadata": {},
   "source": [
    "##### Dropping variable 'DOMAIN'"
   ]
  },
  {
   "cell_type": "code",
   "execution_count": 41,
   "metadata": {},
   "outputs": [],
   "source": [
    "data=data.drop(columns=['DOMAIN'])"
   ]
  },
  {
   "cell_type": "markdown",
   "metadata": {},
   "source": [
    "### 1.2.3 Transforming Variables and filling Missing cases\n",
    "#### A: 1st Transformation and filling Missing cases: Variable: <span style=\"color:red\">\"Age\"</span>\n",
    "#### <span style=\"color:red\">In this step we are going transform some variables in order to be easier to interpret them. Such as:\n",
    "•\t<span style=\"color:red\">\"DOB”</span>: Date of birth with the following format “YYMM, Year/Month format” - The new variable will be <span style=\"color:red\">\"Age\"</span> and will only take in account the donor's year of birth relative to 2020.\n",
    "\n",
    "•\tDuring this stage we found 2593 NaN in DO.B. In order to solve this problem, we decided to use the mean age per State. We proceeded this way because we found that the wealth varies from state to state and we will use this variable, <span style=\"color:red\">\"wealth 2\"</span>, later on the project. "
   ]
  },
  {
   "cell_type": "code",
   "execution_count": 42,
   "metadata": {},
   "outputs": [],
   "source": [
    "# Here we are using a for loop to create a new variable storing the age considering that the present year is 2018\n",
    "x=[]\n",
    "for i in data['DOB']:\n",
    "    if i is np.nan:\n",
    "        x.append(0)\n",
    "    else:\n",
    "        x.append(2020-int(i.split('-')[0]))\n",
    "data['Age']=x"
   ]
  },
  {
   "cell_type": "code",
   "execution_count": 43,
   "metadata": {
    "scrolled": false
   },
   "outputs": [],
   "source": [
    "# Calculating the mean age per State\n",
    "avg_age_per_state = data.loc[data[\"Age\"]>=0].groupby([\"STATE\"])[\"Age\"].mean().sort_values(ascending=False)"
   ]
  },
  {
   "cell_type": "markdown",
   "metadata": {},
   "source": [
    "###### <span style=\"color:red\"> NOTE: We noticed that two states (AS, VI) have mean of age equal to zero. For that reason we decided to replace the zeros using some information from the 2010 US Census. The variable that we are taking in account is 'AGE904', Average Age of Population."
   ]
  },
  {
   "cell_type": "code",
   "execution_count": 44,
   "metadata": {},
   "outputs": [],
   "source": [
    "#Here we are using a for loop to fill all the missing cases using the average age per state\n",
    "F=[]\n",
    "for i in range(0,len(data['Age'])):\n",
    "    if data['Age'][i] == 0:\n",
    "        for j in avg_age_per_state.index:\n",
    "            if data['STATE'][i] == j:\n",
    "                a = avg_age_per_state[j].astype(int) \n",
    "                F.append(a)\n",
    "    else:\n",
    "        a = data['Age'][i]\n",
    "        F.append(a)  \n",
    "data['Age']=F"
   ]
  },
  {
   "cell_type": "code",
   "execution_count": 45,
   "metadata": {},
   "outputs": [
    {
     "name": "stderr",
     "output_type": "stream",
     "text": [
      "<ipython-input-45-b43bb96215a6>:6: SettingWithCopyWarning: \n",
      "A value is trying to be set on a copy of a slice from a DataFrame\n",
      "\n",
      "See the caveats in the documentation: https://pandas.pydata.org/pandas-docs/stable/user_guide/indexing.html#returning-a-view-versus-a-copy\n",
      "  data['Age'][i]=data['Age'][i]\n",
      "<ipython-input-45-b43bb96215a6>:4: SettingWithCopyWarning: \n",
      "A value is trying to be set on a copy of a slice from a DataFrame\n",
      "\n",
      "See the caveats in the documentation: https://pandas.pydata.org/pandas-docs/stable/user_guide/indexing.html#returning-a-view-versus-a-copy\n",
      "  data['Age'][i] = data['AGE904'][i]\n"
     ]
    }
   ],
   "source": [
    "# Here we are using a for loop to fill all the missing cases with the average age of the neighboor\n",
    "for i in range(0,len(data['Age'])):\n",
    "    if data['Age'][i]==0:\n",
    "        data['Age'][i] = data['AGE904'][i]\n",
    "    else:\n",
    "        data['Age'][i]=data['Age'][i]"
   ]
  },
  {
   "cell_type": "code",
   "execution_count": 46,
   "metadata": {},
   "outputs": [],
   "source": [
    "# Grouping Age values into Classes: 01) underage : Age 0- 17 anos; 02) young : Age 18 - 65;  \n",
    "# 03) middle age: Age 66 - 79;  04) elderly : Age 80 - 99; 05) long-term elderly : Age > 102\n"
   ]
  },
  {
   "cell_type": "code",
   "execution_count": 47,
   "metadata": {},
   "outputs": [
    {
     "data": {
      "text/plain": [
       "44    6794\n",
       "48    3988\n",
       "49    3909\n",
       "50    3595\n",
       "42    3458\n",
       "      ... \n",
       "8        1\n",
       "11       1\n",
       "12       1\n",
       "15       1\n",
       "17       1\n",
       "Name: Age, Length: 88, dtype: int64"
      ]
     },
     "execution_count": 47,
     "metadata": {},
     "output_type": "execute_result"
    }
   ],
   "source": [
    "data['Age']= data['Age'].astype(int)\n",
    "data['Age'].value_counts()"
   ]
  },
  {
   "cell_type": "code",
   "execution_count": 48,
   "metadata": {},
   "outputs": [
    {
     "data": {
      "text/plain": [
       "Age 45-54    24492\n",
       "Age >= 75    21624\n",
       "Age 35-44    21061\n",
       "Age 55-64    12444\n",
       "Age 65-74    11655\n",
       "Age 25-34     2941\n",
       "Age 18-24      668\n",
       "Age 0-18       527\n",
       "Name: Group_age, dtype: int64"
      ]
     },
     "execution_count": 48,
     "metadata": {},
     "output_type": "execute_result"
    }
   ],
   "source": [
    "i=[]\n",
    "for o in range(len(data['Age'])):\n",
    "    if data['Age'][o] >=0 and data['Age'][o]<19:\n",
    "        i.append('Age 0-18')\n",
    "    elif data['Age'][o]>=19 and data['Age'][o]<25:\n",
    "        i.append('Age 18-24')\n",
    "    elif data['Age'][o]>=25 and data['Age'][o]<35:\n",
    "        i.append('Age 25-34')\n",
    "    elif data['Age'][o]>=35 and data['Age'][o]<45:\n",
    "        i.append(\"Age 35-44\")\n",
    "    elif data['Age'][o]>=45 and data['Age'][o]<55:\n",
    "        i.append(\"Age 45-54\")\n",
    "    elif data['Age'][o]>=55 and data['Age'][o]<65:\n",
    "        i.append(\"Age 55-64\")    \n",
    "    elif data['Age'][o]>=65 and data['Age'][o]<74:\n",
    "        i.append(\"Age 65-74\")       \n",
    "    else:\n",
    "        i.append('Age >= 75')\n",
    "data['Group_age']=i\n",
    "data['Group_age'].value_counts()"
   ]
  },
  {
   "cell_type": "code",
   "execution_count": 49,
   "metadata": {},
   "outputs": [
    {
     "data": {
      "text/html": [
       "<div>\n",
       "<style scoped>\n",
       "    .dataframe tbody tr th:only-of-type {\n",
       "        vertical-align: middle;\n",
       "    }\n",
       "\n",
       "    .dataframe tbody tr th {\n",
       "        vertical-align: top;\n",
       "    }\n",
       "\n",
       "    .dataframe thead th {\n",
       "        text-align: right;\n",
       "    }\n",
       "</style>\n",
       "<table border=\"1\" class=\"dataframe\">\n",
       "  <thead>\n",
       "    <tr style=\"text-align: right;\">\n",
       "      <th></th>\n",
       "      <th>ODATEDW</th>\n",
       "      <th>TCODE</th>\n",
       "      <th>STATE</th>\n",
       "      <th>DOB</th>\n",
       "      <th>INCOME</th>\n",
       "      <th>GENDER</th>\n",
       "      <th>WEALTH1</th>\n",
       "      <th>MALEMILI</th>\n",
       "      <th>MALEVET</th>\n",
       "      <th>VIETVETS</th>\n",
       "      <th>...</th>\n",
       "      <th>RFA_2F</th>\n",
       "      <th>RFA_2A</th>\n",
       "      <th>donor_resp_maill_offer</th>\n",
       "      <th>Pre_donor_interest_collecting</th>\n",
       "      <th>donor_interest_collecting</th>\n",
       "      <th>donor_have_child_y_n</th>\n",
       "      <th>urban_city_level</th>\n",
       "      <th>social_economical_status</th>\n",
       "      <th>Age</th>\n",
       "      <th>Group_age</th>\n",
       "    </tr>\n",
       "  </thead>\n",
       "  <tbody>\n",
       "    <tr>\n",
       "      <th>18715</th>\n",
       "      <td>2016-01-01</td>\n",
       "      <td>28</td>\n",
       "      <td>AS</td>\n",
       "      <td>NaN</td>\n",
       "      <td>NaN</td>\n",
       "      <td>F</td>\n",
       "      <td>NaN</td>\n",
       "      <td>0</td>\n",
       "      <td>0</td>\n",
       "      <td>0</td>\n",
       "      <td>...</td>\n",
       "      <td>1</td>\n",
       "      <td>G</td>\n",
       "      <td>None</td>\n",
       "      <td>0</td>\n",
       "      <td>no</td>\n",
       "      <td>no</td>\n",
       "      <td>Suburban</td>\n",
       "      <td>Above average SES</td>\n",
       "      <td>0</td>\n",
       "      <td>Age 0-18</td>\n",
       "    </tr>\n",
       "    <tr>\n",
       "      <th>37117</th>\n",
       "      <td>2015-01-01</td>\n",
       "      <td>1</td>\n",
       "      <td>VI</td>\n",
       "      <td>NaN</td>\n",
       "      <td>NaN</td>\n",
       "      <td>M</td>\n",
       "      <td>NaN</td>\n",
       "      <td>0</td>\n",
       "      <td>40</td>\n",
       "      <td>29</td>\n",
       "      <td>...</td>\n",
       "      <td>2</td>\n",
       "      <td>F</td>\n",
       "      <td>None</td>\n",
       "      <td>0</td>\n",
       "      <td>no</td>\n",
       "      <td>no</td>\n",
       "      <td>Suburban</td>\n",
       "      <td>Above average SES</td>\n",
       "      <td>0</td>\n",
       "      <td>Age 0-18</td>\n",
       "    </tr>\n",
       "    <tr>\n",
       "      <th>64356</th>\n",
       "      <td>2010-01-01</td>\n",
       "      <td>2</td>\n",
       "      <td>VI</td>\n",
       "      <td>NaN</td>\n",
       "      <td>NaN</td>\n",
       "      <td>F</td>\n",
       "      <td>NaN</td>\n",
       "      <td>0</td>\n",
       "      <td>0</td>\n",
       "      <td>0</td>\n",
       "      <td>...</td>\n",
       "      <td>2</td>\n",
       "      <td>F</td>\n",
       "      <td>None</td>\n",
       "      <td>0</td>\n",
       "      <td>no</td>\n",
       "      <td>no</td>\n",
       "      <td>Suburban</td>\n",
       "      <td>Above average SES</td>\n",
       "      <td>0</td>\n",
       "      <td>Age 0-18</td>\n",
       "    </tr>\n",
       "    <tr>\n",
       "      <th>65358</th>\n",
       "      <td>2016-01-01</td>\n",
       "      <td>1</td>\n",
       "      <td>VI</td>\n",
       "      <td>NaN</td>\n",
       "      <td>NaN</td>\n",
       "      <td>M</td>\n",
       "      <td>NaN</td>\n",
       "      <td>0</td>\n",
       "      <td>0</td>\n",
       "      <td>0</td>\n",
       "      <td>...</td>\n",
       "      <td>3</td>\n",
       "      <td>E</td>\n",
       "      <td>None</td>\n",
       "      <td>0</td>\n",
       "      <td>no</td>\n",
       "      <td>no</td>\n",
       "      <td>Suburban</td>\n",
       "      <td>Above average SES</td>\n",
       "      <td>0</td>\n",
       "      <td>Age 0-18</td>\n",
       "    </tr>\n",
       "    <tr>\n",
       "      <th>68255</th>\n",
       "      <td>2011-01-01</td>\n",
       "      <td>0</td>\n",
       "      <td>VI</td>\n",
       "      <td>NaN</td>\n",
       "      <td>NaN</td>\n",
       "      <td>F</td>\n",
       "      <td>NaN</td>\n",
       "      <td>0</td>\n",
       "      <td>0</td>\n",
       "      <td>0</td>\n",
       "      <td>...</td>\n",
       "      <td>2</td>\n",
       "      <td>F</td>\n",
       "      <td>None</td>\n",
       "      <td>0</td>\n",
       "      <td>no</td>\n",
       "      <td>no</td>\n",
       "      <td>Suburban</td>\n",
       "      <td>Above average SES</td>\n",
       "      <td>0</td>\n",
       "      <td>Age 0-18</td>\n",
       "    </tr>\n",
       "    <tr>\n",
       "      <th>84821</th>\n",
       "      <td>2014-01-01</td>\n",
       "      <td>2</td>\n",
       "      <td>VI</td>\n",
       "      <td>NaN</td>\n",
       "      <td>NaN</td>\n",
       "      <td>F</td>\n",
       "      <td>NaN</td>\n",
       "      <td>0</td>\n",
       "      <td>0</td>\n",
       "      <td>0</td>\n",
       "      <td>...</td>\n",
       "      <td>1</td>\n",
       "      <td>G</td>\n",
       "      <td>None</td>\n",
       "      <td>0</td>\n",
       "      <td>no</td>\n",
       "      <td>no</td>\n",
       "      <td>Suburban</td>\n",
       "      <td>Above average SES</td>\n",
       "      <td>0</td>\n",
       "      <td>Age 0-18</td>\n",
       "    </tr>\n",
       "  </tbody>\n",
       "</table>\n",
       "<p>6 rows × 420 columns</p>\n",
       "</div>"
      ],
      "text/plain": [
       "          ODATEDW  TCODE STATE  DOB  INCOME GENDER  WEALTH1  MALEMILI  \\\n",
       "18715  2016-01-01     28    AS  NaN     NaN      F      NaN         0   \n",
       "37117  2015-01-01      1    VI  NaN     NaN      M      NaN         0   \n",
       "64356  2010-01-01      2    VI  NaN     NaN      F      NaN         0   \n",
       "65358  2016-01-01      1    VI  NaN     NaN      M      NaN         0   \n",
       "68255  2011-01-01      0    VI  NaN     NaN      F      NaN         0   \n",
       "84821  2014-01-01      2    VI  NaN     NaN      F      NaN         0   \n",
       "\n",
       "       MALEVET  VIETVETS  ...  RFA_2F  RFA_2A  donor_resp_maill_offer  \\\n",
       "18715        0         0  ...       1       G                    None   \n",
       "37117       40        29  ...       2       F                    None   \n",
       "64356        0         0  ...       2       F                    None   \n",
       "65358        0         0  ...       3       E                    None   \n",
       "68255        0         0  ...       2       F                    None   \n",
       "84821        0         0  ...       1       G                    None   \n",
       "\n",
       "       Pre_donor_interest_collecting  donor_interest_collecting  \\\n",
       "18715                              0                         no   \n",
       "37117                              0                         no   \n",
       "64356                              0                         no   \n",
       "65358                              0                         no   \n",
       "68255                              0                         no   \n",
       "84821                              0                         no   \n",
       "\n",
       "       donor_have_child_y_n  urban_city_level  social_economical_status  Age  \\\n",
       "18715                    no          Suburban         Above average SES    0   \n",
       "37117                    no          Suburban         Above average SES    0   \n",
       "64356                    no          Suburban         Above average SES    0   \n",
       "65358                    no          Suburban         Above average SES    0   \n",
       "68255                    no          Suburban         Above average SES    0   \n",
       "84821                    no          Suburban         Above average SES    0   \n",
       "\n",
       "       Group_age  \n",
       "18715   Age 0-18  \n",
       "37117   Age 0-18  \n",
       "64356   Age 0-18  \n",
       "65358   Age 0-18  \n",
       "68255   Age 0-18  \n",
       "84821   Age 0-18  \n",
       "\n",
       "[6 rows x 420 columns]"
      ]
     },
     "execution_count": 49,
     "metadata": {},
     "output_type": "execute_result"
    }
   ],
   "source": [
    "data.loc[data[\"Age\"]==0]"
   ]
  },
  {
   "cell_type": "markdown",
   "metadata": {},
   "source": [
    "##### <span style=\"color:red\"> NOTE: After this stage we noticed that some cases remained zero. This happens because also the neighboors have zero in the average age aswell. This occurs in the following states:AS and VI. We searched this information in other variables but still we couldnt find. We also noticed that most variables had no consistence for future analysis, so we decided to drop this six observations (CONTROLN:173966,28195,14976,14973,14974,14971)."
   ]
  },
  {
   "cell_type": "markdown",
   "metadata": {},
   "source": [
    "##### Dropping unconsistent observations (173966,28195,14976,14973,14974,14971)"
   ]
  },
  {
   "cell_type": "code",
   "execution_count": 50,
   "metadata": {},
   "outputs": [],
   "source": [
    "# data=data.loc[~data[\"CONTROLN\"].isin([173966,28195,14976,14973,14974,14971])].reset_index\n",
    "data=data.drop([18715,37117,64356,65358,68255,84821],axis=0).reset_index(drop=True)\n",
    "# .reset_index"
   ]
  },
  {
   "cell_type": "code",
   "execution_count": null,
   "metadata": {},
   "outputs": [],
   "source": []
  },
  {
   "cell_type": "markdown",
   "metadata": {},
   "source": [
    "##### Dropping variable 'DOB'"
   ]
  },
  {
   "cell_type": "code",
   "execution_count": 51,
   "metadata": {},
   "outputs": [],
   "source": [
    "data=data.drop(columns=['DOB'])"
   ]
  },
  {
   "cell_type": "markdown",
   "metadata": {},
   "source": [
    "#### B: 2nd Transformation and filling Missing cases: Variable: <span style=\"color:red\">\"WEALTH2\"</span>\n",
    "#### <span style=\"color:red\">Here we are going to update a variable that measures the wealth of every donor.\n",
    "For that we will use three variables <span style=\"color:red\">\"WEALTH1”</span>,<span style=\"color:red\">\"WEALTH2”</span> and eventualy <span style=\"color:red\">\"INCOME”</span>.\n",
    "    \n",
    "    •WEALTH1 -  Wealth Rating\n",
    "    \n",
    "    •WEALTH2 - Wealth rating uses median family income and population statistics from each area to index relative wealth  \n",
    "    within each state\n",
    "    \n",
    "    •First step Compare the missing cases between \"WEALTH1\" (44732 NaN) and \"WEALTH2\" (43823 NaN):\n",
    "    "
   ]
  },
  {
   "cell_type": "code",
   "execution_count": 52,
   "metadata": {},
   "outputs": [
    {
     "name": "stdout",
     "output_type": "stream",
     "text": [
      "Number of missing cases in Wealth 1 is : 44726\n",
      "Number of missing cases in Wealth 2 is : 43818\n"
     ]
    }
   ],
   "source": [
    "print(\"Number of missing cases in Wealth 1 is :\", data['WEALTH1'].isnull().sum())\n",
    "print(\"Number of missing cases in Wealth 2 is :\", data['WEALTH2'].isnull().sum())"
   ]
  },
  {
   "cell_type": "code",
   "execution_count": 53,
   "metadata": {},
   "outputs": [],
   "source": [
    "NA2=list(data['WEALTH2'].isna()) #list of nans from wealth2\n",
    "NA1=list(data['WEALTH1'].isna()) #list of nans from wealth1"
   ]
  },
  {
   "cell_type": "code",
   "execution_count": null,
   "metadata": {},
   "outputs": [],
   "source": []
  },
  {
   "cell_type": "code",
   "execution_count": 54,
   "metadata": {},
   "outputs": [],
   "source": [
    "# aaa=data.loc[(data[\"WEALTH2\"]>=0) & (data[\"INCOME\"]>=0)&(data[\"STATE\"]==\"AR\")]"
   ]
  },
  {
   "cell_type": "markdown",
   "metadata": {},
   "source": [
    "•\tOff all missing cases of wealth1 and wealht2, 21843 are in common, which leaves us with with 43823 - (44732-21843) = 20943 possible values to reduce number of NaN at WEALTH2\n",
    "\n",
    "•\tFor this reason we might this values(no NaN values) to complete WEALTH2 (feature with less number of NaN and also with a more significant ranking)\n",
    "\n",
    "•\tCompleting the WEALTH2 with this values from WEALTH would result on a reduction of 21980/43823 = 49% of the NaN present in WEALTH2\n",
    "\n",
    "•\tTo use this method we will need to check if the information from both rankings are consistent, for that reason, we will need to compute the median rank for each state according to WEALTH2 observations and measure the difference between WEALTH1 observations and median , as follows:"
   ]
  },
  {
   "cell_type": "code",
   "execution_count": 55,
   "metadata": {},
   "outputs": [
    {
     "data": {
      "text/plain": [
       "[array([2.5, 3. , 4. , 6. , 6. , 5. , 5. , 5. , 5. , 8. , 5. , 5. , 5. ,\n",
       "        4. , 5. , 5. , 5. , 5. , 5. , 4. , 5. , 5. , 3. , 5. , 6. , 5. ,\n",
       "        4. , 5. , 5. , 5. , 5. , 5. , 5. , 1. , 7. , 5. , 6. , 4. , 7. ,\n",
       "        4. , 4. , 7. , 6. , 5. , 4. , 5. , 5. , 5. , 4. , 6.5, 5. , 5. ,\n",
       "        4. , 4. ])]"
      ]
     },
     "execution_count": 55,
     "metadata": {},
     "output_type": "execute_result"
    }
   ],
   "source": [
    "ranking_per_state_w2=pd.pivot_table(data,columns=['STATE'],values='WEALTH2',aggfunc=np.median)\n",
    "ranking_per_state_w1=pd.pivot_table(data,columns=['STATE'],values='WEALTH1',aggfunc=np.median)\n",
    "list(ranking_per_state_w2.values)"
   ]
  },
  {
   "cell_type": "code",
   "execution_count": 56,
   "metadata": {},
   "outputs": [
    {
     "data": {
      "text/plain": [
       "[array([3. , 6. , 5. , 6. , 6. , 6. , 6. , 6. , 5. , 7.5, 5. , 5. , 6. ,\n",
       "        6. , 5. , 6. , 6. , 6. , 5. , 6. , 6. , 4.5, 5.5, 7. , 5. , 5. ,\n",
       "        6. , 7. , 5. , 6. , 5. , 5. , 4. , 7. , 6. , 7. , 5. , 7. , 6. ,\n",
       "        5. , 5. , 6.5, 6. , 5. , 6. , 6. , 6. , 6. , 7. , 5. , 5. , 4.5,\n",
       "        4.5])]"
      ]
     },
     "execution_count": 56,
     "metadata": {},
     "output_type": "execute_result"
    }
   ],
   "source": [
    "list(ranking_per_state_w1.values)"
   ]
  },
  {
   "cell_type": "markdown",
   "metadata": {},
   "source": [
    "• As we may see between both columns (WEALTH1 & WEALTH2) there isnt much difference in median values per state. For that reason we will use the values from WEALTH1 to complete some missing cases from WEALTH2"
   ]
  },
  {
   "cell_type": "code",
   "execution_count": 57,
   "metadata": {},
   "outputs": [
    {
     "name": "stdout",
     "output_type": "stream",
     "text": [
      "With this we reduced the number of NaNs from 43823 to 21838\n"
     ]
    },
    {
     "data": {
      "text/plain": [
       "False    73568\n",
       "True     21838\n",
       "Name: WEALTH2, dtype: int64"
      ]
     },
     "execution_count": 57,
     "metadata": {},
     "output_type": "execute_result"
    }
   ],
   "source": [
    "l = []\n",
    "\n",
    "for i in range(0,len(data['WEALTH2'])):\n",
    "    if NA1[i]!=True and NA2[i]==True:\n",
    "        a=data['WEALTH1'][i]\n",
    "        l.append(a)\n",
    "    if NA2[i] == True and NA1[i]==True:\n",
    "        b = np.nan\n",
    "        l.append(b)\n",
    "    if NA2[i] == False:\n",
    "        c=data['WEALTH2'][i]\n",
    "        l.append(c)\n",
    "data['WEALTH2']=l\n",
    "print (\"With this we reduced the number of NaNs from 43823 to 21838\")\n",
    "data['WEALTH2'].isna().value_counts()"
   ]
  },
  {
   "cell_type": "markdown",
   "metadata": {},
   "source": [
    "With this we reduced the number of NaNs from 43823 to 21838"
   ]
  },
  {
   "cell_type": "markdown",
   "metadata": {},
   "source": [
    "To solve this we are going to use the median wealth2 per state as follows:"
   ]
  },
  {
   "cell_type": "code",
   "execution_count": 58,
   "metadata": {},
   "outputs": [
    {
     "data": {
      "text/plain": [
       "[array([2. , 4.5, 5. , 6. , 6. , 5. , 6. , 6. , 5. , 8. , 5. , 5. , 6. ,\n",
       "        4. , 6. , 5. , 5. , 5. , 5. , 5. , 5. , 6. , 4. , 5. , 6. , 5. ,\n",
       "        5. , 5. , 6. , 5. , 5. , 5. , 5. , 1. , 7. , 5. , 6. , 4.5, 7. ,\n",
       "        5. , 4. , 6.5, 6.5, 6. , 4. , 5. , 6. , 6. , 6. , 6. , 5. , 5. ,\n",
       "        4. , 4. ])]"
      ]
     },
     "execution_count": 58,
     "metadata": {},
     "output_type": "execute_result"
    }
   ],
   "source": [
    "median_wealht_pivot = pd.pivot_table(data,values='WEALTH2',columns=['STATE'], aggfunc=(np.median))\n",
    "list(median_wealht_pivot.values)"
   ]
  },
  {
   "cell_type": "code",
   "execution_count": 59,
   "metadata": {},
   "outputs": [],
   "source": [
    "a=median_wealht_pivot.values\n",
    "b=median_wealht_pivot.columns\n",
    "a = [int(median_wealht_pivot[i]) for i in b]\n",
    "median_wealht_per_state = {'ESTADOS':b,'WEALTH_MEDIAN':a}\n",
    "median_wealht_per_state=pd.DataFrame(median_wealht_per_state)\n"
   ]
  },
  {
   "cell_type": "code",
   "execution_count": 60,
   "metadata": {},
   "outputs": [
    {
     "data": {
      "text/plain": [
       "False    95405\n",
       "True         1\n",
       "Name: WEALTH2, dtype: int64"
      ]
     },
     "execution_count": 60,
     "metadata": {},
     "output_type": "execute_result"
    }
   ],
   "source": [
    "h=[]\n",
    "NA3=list(data['WEALTH2'].isna())\n",
    "for i in range(0,len(data['WEALTH2'])):\n",
    "    if NA3[i]==True:\n",
    "        for j in range(0,len(median_wealht_per_state)):\n",
    "            if median_wealht_per_state['ESTADOS'][j] == data['STATE'][i]:\n",
    "                k = (median_wealht_per_state['WEALTH_MEDIAN'][j])\n",
    "                h.append(k)\n",
    "    ver4= data['STATE'][i]=='DC'\n",
    "    if NA3[i]==False or ver4==True:\n",
    "        J=data['WEALTH2'][i]\n",
    "        h.append(J)\n",
    "data['WEALTH2']=h\n",
    "data['WEALTH2'].isna().value_counts()"
   ]
  },
  {
   "cell_type": "code",
   "execution_count": 61,
   "metadata": {},
   "outputs": [
    {
     "data": {
      "text/html": [
       "<div>\n",
       "<style scoped>\n",
       "    .dataframe tbody tr th:only-of-type {\n",
       "        vertical-align: middle;\n",
       "    }\n",
       "\n",
       "    .dataframe tbody tr th {\n",
       "        vertical-align: top;\n",
       "    }\n",
       "\n",
       "    .dataframe thead th {\n",
       "        text-align: right;\n",
       "    }\n",
       "</style>\n",
       "<table border=\"1\" class=\"dataframe\">\n",
       "  <thead>\n",
       "    <tr style=\"text-align: right;\">\n",
       "      <th></th>\n",
       "      <th>ODATEDW</th>\n",
       "      <th>TCODE</th>\n",
       "      <th>STATE</th>\n",
       "      <th>INCOME</th>\n",
       "      <th>GENDER</th>\n",
       "      <th>WEALTH1</th>\n",
       "      <th>MALEMILI</th>\n",
       "      <th>MALEVET</th>\n",
       "      <th>VIETVETS</th>\n",
       "      <th>WWIIVETS</th>\n",
       "      <th>...</th>\n",
       "      <th>RFA_2F</th>\n",
       "      <th>RFA_2A</th>\n",
       "      <th>donor_resp_maill_offer</th>\n",
       "      <th>Pre_donor_interest_collecting</th>\n",
       "      <th>donor_interest_collecting</th>\n",
       "      <th>donor_have_child_y_n</th>\n",
       "      <th>urban_city_level</th>\n",
       "      <th>social_economical_status</th>\n",
       "      <th>Age</th>\n",
       "      <th>Group_age</th>\n",
       "    </tr>\n",
       "  </thead>\n",
       "  <tbody>\n",
       "    <tr>\n",
       "      <th>5237</th>\n",
       "      <td>2016-01-01</td>\n",
       "      <td>0</td>\n",
       "      <td>DC</td>\n",
       "      <td>NaN</td>\n",
       "      <td>F</td>\n",
       "      <td>NaN</td>\n",
       "      <td>0</td>\n",
       "      <td>14</td>\n",
       "      <td>24</td>\n",
       "      <td>24</td>\n",
       "      <td>...</td>\n",
       "      <td>1</td>\n",
       "      <td>F</td>\n",
       "      <td>None</td>\n",
       "      <td>0</td>\n",
       "      <td>no</td>\n",
       "      <td>yes</td>\n",
       "      <td>Urban</td>\n",
       "      <td>Highest SES</td>\n",
       "      <td>39</td>\n",
       "      <td>Age 35-44</td>\n",
       "    </tr>\n",
       "  </tbody>\n",
       "</table>\n",
       "<p>1 rows × 419 columns</p>\n",
       "</div>"
      ],
      "text/plain": [
       "         ODATEDW  TCODE STATE  INCOME GENDER  WEALTH1  MALEMILI  MALEVET  \\\n",
       "5237  2016-01-01      0    DC     NaN      F      NaN         0       14   \n",
       "\n",
       "      VIETVETS  WWIIVETS  ...  RFA_2F  RFA_2A  donor_resp_maill_offer  \\\n",
       "5237        24        24  ...       1       F                    None   \n",
       "\n",
       "      Pre_donor_interest_collecting  donor_interest_collecting  \\\n",
       "5237                              0                         no   \n",
       "\n",
       "      donor_have_child_y_n  urban_city_level  social_economical_status  Age  \\\n",
       "5237                   yes             Urban               Highest SES   39   \n",
       "\n",
       "      Group_age  \n",
       "5237  Age 35-44  \n",
       "\n",
       "[1 rows x 419 columns]"
      ]
     },
     "execution_count": 61,
     "metadata": {},
     "output_type": "execute_result"
    }
   ],
   "source": [
    "data.loc[data['WEALTH2'].isnull()]"
   ]
  },
  {
   "cell_type": "markdown",
   "metadata": {},
   "source": [
    "##### <span style=\"color:red\"> NOTE: After this stage we noticed that one case remained null. This happens because it is unique donors in DC. Because the wealth is calculate diferentely in each state and We also noticed that most variables had no consistence for future analysis, so we decided to drop this observation (CONTROLN:92970, index: 5237)"
   ]
  },
  {
   "cell_type": "code",
   "execution_count": 62,
   "metadata": {},
   "outputs": [],
   "source": [
    "data=data.drop([5237],axis=0).reset_index(drop=True)"
   ]
  },
  {
   "cell_type": "code",
   "execution_count": 63,
   "metadata": {},
   "outputs": [
    {
     "data": {
      "text/plain": [
       "False    95405\n",
       "Name: WEALTH2, dtype: int64"
      ]
     },
     "execution_count": 63,
     "metadata": {},
     "output_type": "execute_result"
    }
   ],
   "source": [
    "data['WEALTH2'].isna().value_counts()"
   ]
  },
  {
   "cell_type": "markdown",
   "metadata": {},
   "source": [
    "#####  Dropping variable 'INCOME','WEALTH1'\n",
    "\n",
    "#### <span style=\"color:red\">After using the income to fill some missing cases on wealth 2 we decided to drop due to the variable have too many missing cases (21286) and have only Seven possible values to income (0 to 7). This variable does not provide any information for good interpretation. The variables related to income from the donor’s neighbourhood provide Better information with good quality. \n"
   ]
  },
  {
   "cell_type": "code",
   "execution_count": 64,
   "metadata": {},
   "outputs": [],
   "source": [
    "data=data.drop(columns=['INCOME','WEALTH1'])"
   ]
  },
  {
   "cell_type": "markdown",
   "metadata": {},
   "source": [
    "#### C: 3rd Transformation and filling Missing cases: Variable: <span style=\"color:red\">\"Gender\"</span>\n",
    "\n",
    "#### <span style=\"color:red\">In this step we are going transform and filling missing cases on variable Gender using the following steps:"
   ]
  },
  {
   "cell_type": "markdown",
   "metadata": {},
   "source": [
    "1.\tWe are going to replace all the values different from <span style=\"color:red\"> M-male and F-female </span> with standard Missing values:\n",
    "2.\tWe are going to use the variable T-code to fill the missing cases:\n",
    "    •\tThe variable T-code refers to the donor title where all the code <span style=\"color:red\"> 1, 4, 6, 9, 13, 14, 18 </span>: suggest that the donor is a Male and code <span style=\"color:red\"> 2,3, 22,   28, 72, 116,  1002, 4002, 13002, 14002, 17002, 28028, 72002 </span>: suggest that the donor is a Female;\n",
    "3.\tIf we continue with missing cases, we are going to use the variables of the donors neighbourhood, namely:\n",
    "    •\tPOP90C4: Percent Male;\n",
    "    •\tPOP90C5: Percent Female.\n",
    "    •\tRule to be applied:\n",
    "        i.\tIf <span style=\"color:red\"> POP90C4> POP90C5 the donor will be considered Male </span>;\n",
    "        ii.\tIf <span style=\"color:red\"> Else the donor will be considered Female </span>;.\n"
   ]
  },
  {
   "cell_type": "markdown",
   "metadata": {},
   "source": [
    "#### C.1: Step 1:  Code to replace all the values different from <span style=\"color:red\"> M-male and F-female </span> with standard Missing values."
   ]
  },
  {
   "cell_type": "code",
   "execution_count": 65,
   "metadata": {},
   "outputs": [
    {
     "data": {
      "text/plain": [
       "False    90364\n",
       "True      5041\n",
       "Name: GENDER, dtype: int64"
      ]
     },
     "execution_count": 65,
     "metadata": {},
     "output_type": "execute_result"
    }
   ],
   "source": [
    "data['GENDER'].value_counts() #counting all the values in the column Gender;\n",
    "data['GENDER']=data['GENDER'].replace(' ', np.NaN) #replacing all the blank spaces with missing cases;\n",
    "data['GENDER']=data['GENDER'].replace('U', np.NaN) #replacing all the U values with missing cases;\n",
    "data['GENDER']=data['GENDER'].replace('J', np.NaN) #replacing all the J values with missing cases;\n",
    "data['GENDER']=data['GENDER'].replace('C', np.NaN) #replacing all the C values with missing cases;\n",
    "data['GENDER']=data['GENDER'].replace('A', np.NaN) #replacing all the A values with missing cases;\n",
    "data['GENDER'].isna().value_counts() # Counting Missing cases"
   ]
  },
  {
   "cell_type": "markdown",
   "metadata": {},
   "source": [
    "#### C.2: Step 2: Using T-code: T-code refers to the donor title where all the code <span style=\"color:red\"> 1, 4, 6, 9, 13, 14, 18 </span>: suggest that the donor is a Male and code <span style=\"color:red\"> 2,3, 22,   28, 72, 116,  1002, 4002, 13002, 14002, 17002, 28028, 72002 </span>: suggest that the donor is a Female;"
   ]
  },
  {
   "cell_type": "code",
   "execution_count": 66,
   "metadata": {},
   "outputs": [],
   "source": [
    "# First lets fill all the Missing cases with U = Unknown\n",
    "data[\"GENDER\"].fillna(\"U\", inplace = True)\n"
   ]
  },
  {
   "cell_type": "code",
   "execution_count": 67,
   "metadata": {},
   "outputs": [],
   "source": [
    "# Second lets fill all the possibles U cases using the T-code\n",
    "b=[]\n",
    "male=[1, 4, 6, 9, 13, 14, 18]\n",
    "female= [2,3, 22, 28, 72, 116, 1002, 4002, 13002, 14002, 17002, 28028, 72002]\n",
    "\n",
    "for i in range(0,len(data)):\n",
    "    if data['GENDER'][i]=='U' and data[\"TCODE\"][i] in male:\n",
    "        b.append(\"M\") \n",
    "    elif data['GENDER'][i]=='U' and data[\"TCODE\"][i] in female:\n",
    "        b.append(\"F\")\n",
    "    else:\n",
    "        b.append(data['GENDER'][i])\n",
    "data['GENDER']=b"
   ]
  },
  {
   "cell_type": "markdown",
   "metadata": {},
   "source": [
    "####  <span style=\"color:red\"> At the begginig we had 5041 unknown cases in gender. With step 2 we reduced this number to 2940. Now lets apply the 3rd step </span>"
   ]
  },
  {
   "cell_type": "markdown",
   "metadata": {},
   "source": [
    "#### C.3: Step 3: Using the variables of the donors neighbourhood, namely:\n",
    "    •\tPOP90C4: Percent Male;\n",
    "    •\tPOP90C5: Percent Female.\n",
    "    •\tRule to be applied:\n",
    "        i.\tIf POP90C4> POP90C5 the donor will be considered Male;\n",
    "        ii.\tElse the donor will be considered Female;."
   ]
  },
  {
   "cell_type": "code",
   "execution_count": 68,
   "metadata": {},
   "outputs": [
    {
     "data": {
      "text/plain": [
       "F    54630\n",
       "M    40173\n",
       "U      602\n",
       "Name: GENDER, dtype: int64"
      ]
     },
     "execution_count": 68,
     "metadata": {},
     "output_type": "execute_result"
    }
   ],
   "source": [
    "b=[]\n",
    "for i in range(0,len(data)):\n",
    "    if data['GENDER'][i]=='U' and data[\"POP90C4\"][i] > data[\"POP90C5\"][i]:\n",
    "        b.append(\"M\") \n",
    "    elif data['GENDER'][i]=='U' and data[\"POP90C4\"][i] < data[\"POP90C5\"][i]:\n",
    "        b.append(\"F\")\n",
    "    else:\n",
    "        b.append(data['GENDER'][i])\n",
    "data['GENDER']=b\n",
    "data['GENDER'].value_counts()"
   ]
  },
  {
   "cell_type": "markdown",
   "metadata": {},
   "source": [
    "####  <span style=\"color:red\"> At step 2 we had 2940 unknown cases in gender. With step 3 we reduced this number to 602.</span>"
   ]
  },
  {
   "cell_type": "markdown",
   "metadata": {},
   "source": [
    "#### D:  Computing new variables: Variable: <span style=\"color:red\">\"DONOR_TYPE\"</span>\n",
    "\n",
    "#### Now we are going to calculate the distance (in months) since last gist and last promotion was emailed to every donor in the dataset: •LASTDATE represents the date of the last gift per donor; •ADATE_2 represents the date when the last promotion was emailed to every donor in the dataset (17NK).\n",
    "\n",
    "we are going to classify every donor according with following the criteria below:\n",
    "\n",
    "• A=ACTIVE DONOR: Anyone who made their last donation at least 12 months ago before the email of the last promotion;\n",
    "\n",
    "• L=LAPSING DONOR: Anyone who made their last donation between 13-24 months ago before the email of the last promotion;\n",
    "\n",
    "• I=INACTIVE DONOR: Anyone who made their last donation 25+ months ago before the email of the last promotion."
   ]
  },
  {
   "cell_type": "code",
   "execution_count": 69,
   "metadata": {},
   "outputs": [],
   "source": [
    "g=map(lambda x: str(x), data['LASTDATE'])\n",
    "last_gift=list(g)\n",
    "year_last_gift=[]\n",
    "month_last_gift=[]\n",
    "for i in last_gift:\n",
    "    x=i.split('-')[0]\n",
    "    year_last_gift.append(x)\n",
    "    y=i.split('-')[1]\n",
    "    month_last_gift.append(y)\n",
    "#year_last_gift represents the year of th last gift per donor\n",
    "#month_last_gift represents the month of the last gift per donor\n"
   ]
  },
  {
   "cell_type": "code",
   "execution_count": 70,
   "metadata": {},
   "outputs": [],
   "source": [
    "data[\"month_of_last_gift\"]=month_last_gift\n",
    "data[\"month_of_last_gift\"]=data[\"month_of_last_gift\"].astype(int)"
   ]
  },
  {
   "cell_type": "code",
   "execution_count": 71,
   "metadata": {},
   "outputs": [],
   "source": [
    "d=map(lambda x: str(x), data['ADATE_2'])\n",
    "last_mail=list(d)\n",
    "year_last_email=[]\n",
    "month_last_email=[]\n",
    "for i in last_mail:\n",
    "    x=i.split('-')[0]\n",
    "    year_last_email.append(x)\n",
    "    y=i.split('-')[1]\n",
    "    month_last_email.append(y)\n",
    "#year_last_email represents the year of the last promotion sent\n",
    "#month_last_email represents the month of the last promotion sent"
   ]
  },
  {
   "cell_type": "code",
   "execution_count": 72,
   "metadata": {},
   "outputs": [],
   "source": [
    "year_last_email = list(map(int, year_last_email))\n",
    "month_last_email= list(map(int, month_last_email))\n",
    "recency_lastdate_adate2=[]\n",
    "difference_year2m=[]\n",
    "difference_m=[]\n",
    "for i in range(0,len(data['ADATE_2'])):\n",
    "    x = (int(year_last_email[i])-int(year_last_gift[i]))*12\n",
    "    difference_year2m.append(x)\n",
    "    y = int(month_last_email[i])-int(month_last_gift[i])\n",
    "    difference=x+y\n",
    "    recency_lastdate_adate2.append(difference)\n",
    "#creates a list that stores the difference in months between last gift and last email\n",
    "data[\"months_lastgift\"]=recency_lastdate_adate2"
   ]
  },
  {
   "cell_type": "code",
   "execution_count": 73,
   "metadata": {},
   "outputs": [],
   "source": [
    "ç=[]\n",
    "for i in recency_lastdate_adate2:\n",
    "    if i <= 12:\n",
    "        q='ACTIVE DONOR'\n",
    "        ç.append(q)\n",
    "    if 12 < i <= 24:\n",
    "        w='LAPSING DONOR'\n",
    "        ç.append(w)\n",
    "    if i > 24:\n",
    "        t='INACTIVE DONOR'\n",
    "        ç.append(t)\n"
   ]
  },
  {
   "cell_type": "code",
   "execution_count": 74,
   "metadata": {
    "scrolled": true
   },
   "outputs": [
    {
     "data": {
      "text/plain": [
       "LAPSING DONOR     84125\n",
       "INACTIVE DONOR     7315\n",
       "ACTIVE DONOR       3965\n",
       "Name: DONOR_TYPE, dtype: int64"
      ]
     },
     "execution_count": 74,
     "metadata": {},
     "output_type": "execute_result"
    }
   ],
   "source": [
    "data['DONOR_TYPE']=ç\n",
    "data['DONOR_TYPE'].value_counts()"
   ]
  },
  {
   "cell_type": "markdown",
   "metadata": {},
   "source": [
    "#### D:  Computing two new variables: Variable: <span style=\"color:red\">\"month_largest_gift\" and \"month_of_minimum_gift\"</span>"
   ]
  },
  {
   "cell_type": "code",
   "execution_count": 75,
   "metadata": {},
   "outputs": [],
   "source": [
    "b=map(lambda x: str(x),data['MAXRDATE'])\n",
    "largest_gift=list(b)\n",
    "month_largest_gift=[]\n",
    "for i in largest_gift:\n",
    "    y=i.split('-')[1]\n",
    "    month_largest_gift.append(y)"
   ]
  },
  {
   "cell_type": "code",
   "execution_count": 76,
   "metadata": {},
   "outputs": [],
   "source": [
    "data[\"month_largest_gift\"]=month_largest_gift\n",
    "data[\"month_largest_gift\"]=data[\"month_largest_gift\"].astype(int)"
   ]
  },
  {
   "cell_type": "code",
   "execution_count": 77,
   "metadata": {},
   "outputs": [],
   "source": [
    "b=map(lambda x: str(x),data['MINRDATE'])\n",
    "minimum_gift=list(b)\n",
    "month_minimum_gift=[]\n",
    "for i in minimum_gift:\n",
    "    y=i.split('-')[1]\n",
    "    month_minimum_gift.append(y)"
   ]
  },
  {
   "cell_type": "code",
   "execution_count": 78,
   "metadata": {},
   "outputs": [],
   "source": [
    "data[\"month_minimum_gift\"]=month_minimum_gift\n",
    "data[\"month_minimum_gift\"]=data[\"month_minimum_gift\"].astype(int)"
   ]
  },
  {
   "cell_type": "markdown",
   "metadata": {},
   "source": [
    "# III. Defining Cluster Variables"
   ]
  },
  {
   "cell_type": "markdown",
   "metadata": {},
   "source": [
    "#  <span style=\"color:red\"> Our dataset contains a lot of variables lets select only the variables that we consider important for this study.\n",
    "### To make easy the analysis lets create one subset <span style=\"color:red\">\"clusterdataset\"</span> with the most important variables. We still have the <span style=\"color:red\"> \"CONTROLN\" </span> to link the two datasets."
   ]
  },
  {
   "cell_type": "code",
   "execution_count": 79,
   "metadata": {},
   "outputs": [],
   "source": [
    "data1=data.copy()"
   ]
  },
  {
   "cell_type": "code",
   "execution_count": 80,
   "metadata": {},
   "outputs": [],
   "source": [
    "# Set CONTROLN as index\n",
    "data1=data1.set_index(\"CONTROLN\")"
   ]
  },
  {
   "cell_type": "markdown",
   "metadata": {},
   "source": [
    "# 1 Filtering the data according with DONOR_TYPE"
   ]
  },
  {
   "cell_type": "code",
   "execution_count": 81,
   "metadata": {},
   "outputs": [],
   "source": [
    "# Creating a daset for lapsed Donor\n",
    "datasetlapsed=data1.loc[data1[\"DONOR_TYPE\"]==\"LAPSING DONOR\"]\n",
    "# Creating a daset for Active Donor\n",
    "datasetactive=data1.loc[data1[\"DONOR_TYPE\"]==\"ACTIVE DONOR\"]\n",
    "# Creating a daset for Inactive Donor\n",
    "datasetinactive=data1.loc[data1[\"DONOR_TYPE\"]==\"INACTIVE DONOR\"]"
   ]
  },
  {
   "cell_type": "markdown",
   "metadata": {},
   "source": [
    "# 2 Defining metric features"
   ]
  },
  {
   "cell_type": "code",
   "execution_count": 82,
   "metadata": {},
   "outputs": [],
   "source": [
    "metric_features=[\"RAMNTALL\",\"MINRAMNT\", \"MAXRAMNT\",\"IC5\", \"month_of_last_gift\",\\\n",
    "                 \"month_minimum_gift\", \"month_largest_gift\", \"WEALTH2\", \"IC1\", \\\n",
    "                 \"IC2\",\"IC3\",\"IC4\", \"AVGGIFT\", \"months_lastgift\"]"
   ]
  },
  {
   "cell_type": "code",
   "execution_count": 83,
   "metadata": {},
   "outputs": [
    {
     "name": "stderr",
     "output_type": "stream",
     "text": [
      "locator: <matplotlib.colorbar._ColorbarAutoLocator object at 0x000001442C556EE0>\n",
      "Using auto colorbar locator on colorbar\n",
      "locator: <matplotlib.colorbar._ColorbarAutoLocator object at 0x000001442C556EE0>\n",
      "Setting pcolormesh\n",
      "findfont: Matching sans\\-serif:style=normal:variant=normal:weight=normal:stretch=normal:size=11.0.\n",
      "findfont: score(<Font 'STIXNonUnicode' (STIXNonUniBol.ttf) normal normal 700 normal>) = 10.335\n",
      "findfont: score(<Font 'cmr10' (cmr10.ttf) normal normal 400 normal>) = 10.05\n",
      "findfont: score(<Font 'STIXGeneral' (STIXGeneralItalic.ttf) italic normal 400 normal>) = 11.05\n",
      "findfont: score(<Font 'STIXGeneral' (STIXGeneralBolIta.ttf) italic normal 700 normal>) = 11.335\n",
      "findfont: score(<Font 'DejaVu Sans Mono' (DejaVuSansMono-Oblique.ttf) oblique normal 400 normal>) = 11.05\n",
      "findfont: score(<Font 'DejaVu Sans Mono' (DejaVuSansMono.ttf) normal normal 400 normal>) = 10.05\n",
      "findfont: score(<Font 'DejaVu Sans' (DejaVuSans-Oblique.ttf) oblique normal 400 normal>) = 3.05\n",
      "findfont: score(<Font 'DejaVu Serif' (DejaVuSerif-BoldItalic.ttf) italic normal 700 normal>) = 11.335\n",
      "findfont: score(<Font 'DejaVu Serif' (DejaVuSerif-Italic.ttf) italic normal 400 normal>) = 11.05\n",
      "findfont: score(<Font 'STIXGeneral' (STIXGeneral.ttf) normal normal regular normal>) = 10.05\n",
      "findfont: score(<Font 'cmss10' (cmss10.ttf) normal normal 400 normal>) = 10.05\n",
      "findfont: score(<Font 'STIXSizeFiveSym' (STIXSizFiveSymReg.ttf) normal normal regular normal>) = 10.05\n",
      "findfont: score(<Font 'STIXSizeThreeSym' (STIXSizThreeSymReg.ttf) normal normal regular normal>) = 10.05\n",
      "findfont: score(<Font 'STIXSizeTwoSym' (STIXSizTwoSymReg.ttf) normal normal regular normal>) = 10.05\n",
      "findfont: score(<Font 'DejaVu Sans' (DejaVuSans.ttf) normal normal 400 normal>) = 2.05\n",
      "findfont: score(<Font 'cmtt10' (cmtt10.ttf) normal normal 400 normal>) = 10.05\n",
      "findfont: score(<Font 'cmex10' (cmex10.ttf) normal normal 400 normal>) = 10.05\n",
      "findfont: score(<Font 'STIXNonUnicode' (STIXNonUniIta.ttf) italic normal 400 normal>) = 11.05\n",
      "findfont: score(<Font 'DejaVu Serif Display' (DejaVuSerifDisplay.ttf) normal normal 400 normal>) = 10.05\n",
      "findfont: score(<Font 'STIXNonUnicode' (STIXNonUniBolIta.ttf) italic normal 700 normal>) = 11.335\n",
      "findfont: score(<Font 'DejaVu Sans' (DejaVuSans-Bold.ttf) normal normal 700 normal>) = 2.335\n",
      "findfont: score(<Font 'DejaVu Serif' (DejaVuSerif.ttf) normal normal 400 normal>) = 10.05\n",
      "findfont: score(<Font 'cmmi10' (cmmi10.ttf) normal normal 400 normal>) = 10.05\n",
      "findfont: score(<Font 'STIXNonUnicode' (STIXNonUni.ttf) normal normal regular normal>) = 10.05\n",
      "findfont: score(<Font 'STIXSizeFourSym' (STIXSizFourSymReg.ttf) normal normal regular normal>) = 10.05\n",
      "findfont: score(<Font 'STIXSizeOneSym' (STIXSizOneSymBol.ttf) normal normal 700 normal>) = 10.335\n",
      "findfont: score(<Font 'DejaVu Sans Display' (DejaVuSansDisplay.ttf) normal normal 400 normal>) = 10.05\n",
      "findfont: score(<Font 'DejaVu Sans Mono' (DejaVuSansMono-Bold.ttf) normal normal 700 normal>) = 10.335\n",
      "findfont: score(<Font 'STIXSizeOneSym' (STIXSizOneSymReg.ttf) normal normal regular normal>) = 10.05\n",
      "findfont: score(<Font 'DejaVu Sans' (DejaVuSans-BoldOblique.ttf) oblique normal 700 normal>) = 3.335\n",
      "findfont: score(<Font 'cmsy10' (cmsy10.ttf) normal normal 400 normal>) = 10.05\n",
      "findfont: score(<Font 'STIXSizeFourSym' (STIXSizFourSymBol.ttf) normal normal 700 normal>) = 10.335\n",
      "findfont: score(<Font 'DejaVu Serif' (DejaVuSerif-Bold.ttf) normal normal 700 normal>) = 10.335\n",
      "findfont: score(<Font 'STIXGeneral' (STIXGeneralBol.ttf) normal normal 700 normal>) = 10.335\n",
      "findfont: score(<Font 'STIXSizeTwoSym' (STIXSizTwoSymBol.ttf) normal normal 700 normal>) = 10.335\n",
      "findfont: score(<Font 'STIXSizeThreeSym' (STIXSizThreeSymBol.ttf) normal normal 700 normal>) = 10.335\n",
      "findfont: score(<Font 'DejaVu Sans Mono' (DejaVuSansMono-BoldOblique.ttf) oblique normal 700 normal>) = 11.335\n",
      "findfont: score(<Font 'cmb10' (cmb10.ttf) normal normal 400 normal>) = 10.05\n",
      "findfont: score(<Font 'SWItalc' (switalc.ttf) normal normal 400 normal>) = 10.05\n",
      "findfont: score(<Font 'HoloLens MDL2 Assets' (holomdl2.ttf) normal normal 400 normal>) = 10.05\n",
      "findfont: score(<Font 'Bodoni MT' (BOD_R.TTF) normal normal 400 normal>) = 10.05\n",
      "findfont: score(<Font 'Courant' (COB_____.ttf) normal normal 700 normal>) = 10.335\n",
      "findfont: score(<Font 'Yu Gothic' (YuGothR.ttc) normal normal regular normal>) = 10.05\n",
      "findfont: score(<Font 'SimSun' (simsun.ttc) normal normal 400 normal>) = 10.05\n",
      "findfont: score(<Font 'Jokerman' (JOKERMAN.TTF) normal normal 400 normal>) = 10.05\n",
      "findfont: score(<Font 'Candara' (Candaral.ttf) normal normal light normal>) = 10.24\n",
      "findfont: score(<Font 'Webdings' (webdings.ttf) normal normal 400 normal>) = 10.05\n",
      "findfont: score(<Font 'SWLink' (swlink.ttf) normal normal 400 normal>) = 10.05\n",
      "findfont: score(<Font 'ESSTIXEleven' (ESSTIX11.TTF) normal normal 400 normal>) = 10.05\n",
      "findfont: score(<Font 'SWGrekc' (swgrekc.ttf) normal normal 400 normal>) = 10.05\n",
      "findfont: score(<Font 'Cambria' (cambria.ttc) normal normal 400 normal>) = 10.05\n",
      "findfont: score(<Font 'Tw Cen MT' (TCBI____.TTF) italic normal 700 normal>) = 11.335\n",
      "findfont: score(<Font 'DejaVu Sans' (DejaVuSans-BoldOblique.ttf) oblique normal 700 normal>) = 3.335\n",
      "findfont: score(<Font 'Century Gothic' (GOTHICI.TTF) italic normal 400 normal>) = 11.05\n",
      "findfont: score(<Font 'Bodoni MT' (BOD_BI.TTF) italic normal 700 normal>) = 11.335\n",
      "findfont: score(<Font 'Book Antiqua' (ANTQUAI.TTF) italic normal book normal>) = 11.05\n",
      "findfont: score(<Font 'Lato' (Lato-Black.ttf) normal normal black normal>) = 10.525\n",
      "findfont: score(<Font 'Consolas' (consolai.ttf) italic normal 400 normal>) = 11.05\n",
      "findfont: score(<Font 'Gill Sans MT' (GILI____.TTF) italic normal 400 normal>) = 11.05\n",
      "findfont: score(<Font 'Leelawadee UI' (LeelawUI.ttf) normal normal 400 normal>) = 10.05\n",
      "findfont: score(<Font 'Courier New' (courbi.ttf) italic normal 700 normal>) = 11.335\n",
      "findfont: score(<Font 'Candara' (Candarab.ttf) normal normal 700 normal>) = 10.335\n",
      "findfont: score(<Font 'Century Schoolbook' (SCHLBKB.TTF) normal normal 700 normal>) = 10.335\n",
      "findfont: score(<Font 'Lucida Sans' (LSANSI.TTF) italic normal 400 normal>) = 11.05\n",
      "findfont: score(<Font 'Gloucester MT Extra Condensed' (GLECB.TTF) normal normal 400 condensed>) = 10.25\n",
      "findfont: score(<Font 'Britannic Bold' (BRITANIC.TTF) normal normal bold normal>) = 10.335\n",
      "findfont: score(<Font 'Yu Gothic' (YuGothL.ttc) normal normal light normal>) = 10.24\n",
      "findfont: score(<Font 'Bernard MT Condensed' (BERNHC.TTF) normal normal 400 condensed>) = 10.25\n",
      "findfont: score(<Font 'Lato' (Lato-Regular.ttf) normal normal regular normal>) = 10.05\n",
      "findfont: score(<Font 'SWGothi' (swgothi.ttf) normal normal 400 normal>) = 10.05\n",
      "findfont: score(<Font 'Kristen ITC' (ITCKRIST.TTF) normal normal 400 normal>) = 10.05\n",
      "findfont: score(<Font 'Segoe UI' (segoeuii.ttf) italic normal 400 normal>) = 11.05\n",
      "findfont: score(<Font 'Consolas' (consola.ttf) normal normal 400 normal>) = 10.05\n",
      "findfont: score(<Font 'SWGDT' (swgdt.ttf) normal normal 400 normal>) = 10.05\n",
      "findfont: score(<Font 'Modern No. 20' (MOD20.TTF) normal normal 400 normal>) = 10.05\n",
      "findfont: score(<Font 'Californian FB' (CALIFI.TTF) italic normal 400 normal>) = 11.05\n",
      "findfont: score(<Font 'Calibri' (calibri.ttf) normal normal 400 normal>) = 10.05\n",
      "findfont: score(<Font 'Franklin Gothic Medium' (framd.ttf) normal normal medium normal>) = 10.145\n",
      "findfont: score(<Font 'Lucida Bright' (LBRITED.TTF) normal normal 700 normal>) = 10.335\n",
      "findfont: score(<Font 'Adobe Myungjo Std' (adobemyungjostd-medium.otf) normal normal 400 normal>) = 10.05\n",
      "findfont: score(<Font 'Franklin Gothic Book' (FRABK.TTF) normal normal book normal>) = 10.05\n",
      "findfont: score(<Font 'Gill Sans MT' (GILB____.TTF) normal normal 700 normal>) = 10.335\n",
      "findfont: score(<Font 'DejaVu Serif' (DejaVuSerif-Bold.ttf) normal normal 700 normal>) = 10.335\n",
      "findfont: score(<Font 'Constantia' (constani.ttf) italic normal 400 normal>) = 11.05\n",
      "findfont: score(<Font 'Adobe Ming Std' (adobemingstd-light.otf) normal normal 400 normal>) = 10.05\n",
      "findfont: score(<Font 'Leelawadee' (LEELAWAD.TTF) normal normal 400 normal>) = 10.05\n",
      "findfont: score(<Font 'ESSTIXThirteen' (ESSTIX13.TTF) normal normal 400 normal>) = 10.05\n"
     ]
    },
    {
     "name": "stderr",
     "output_type": "stream",
     "text": [
      "findfont: score(<Font 'Rockwell' (ROCKBI.TTF) italic normal 700 normal>) = 11.335\n",
      "findfont: score(<Font 'MS Gothic' (msgothic.ttc) normal normal 400 normal>) = 10.05\n",
      "findfont: score(<Font 'Bodoni MT' (BOD_I.TTF) italic normal 400 normal>) = 11.05\n",
      "findfont: score(<Font 'Lucida Fax' (LFAXI.TTF) italic normal 400 normal>) = 11.05\n",
      "findfont: score(<Font 'Tempus Sans ITC' (TEMPSITC.TTF) normal normal 400 normal>) = 10.05\n",
      "findfont: score(<Font 'Niagara Solid' (NIAGSOL.TTF) normal normal 400 normal>) = 10.05\n",
      "findfont: score(<Font 'SWIsot3' (swisot3.ttf) normal normal 400 normal>) = 10.05\n",
      "findfont: score(<Font 'Arial' (ARIALNI.TTF) italic normal 400 condensed>) = 1.25\n",
      "findfont: score(<Font 'Copperplate Gothic Light' (COPRGTL.TTF) normal normal light normal>) = 10.24\n",
      "findfont: score(<Font 'DejaVu Serif' (DejaVuSerif-Italic.ttf) italic normal 400 normal>) = 11.05\n",
      "findfont: score(<Font 'Franklin Gothic Medium' (framdit.ttf) italic normal medium normal>) = 11.145\n",
      "findfont: score(<Font 'SWGothg' (swgothg.ttf) normal normal 400 normal>) = 10.05\n",
      "findfont: score(<Font 'Dosis' (Dosis-SemiBold.ttf) normal normal semibold normal>) = 10.24\n",
      "findfont: score(<Font 'Comic Sans MS' (comici.ttf) italic normal 400 normal>) = 11.05\n",
      "findfont: score(<Font 'Gill Sans Ultra Bold Condensed' (GILLUBCD.TTF) normal normal bold condensed>) = 10.535\n",
      "findfont: score(<Font 'Playbill' (PLAYBILL.TTF) normal normal 400 normal>) = 10.05\n",
      "findfont: score(<Font 'Microsoft Uighur' (MSUIGHUB.TTF) normal normal 700 normal>) = 10.335\n",
      "findfont: score(<Font 'Adobe Pi Std' (adobepistd.otf) normal normal 400 normal>) = 10.05\n",
      "findfont: score(<Font 'DejaVu Serif' (DejaVuSerif.ttf) normal normal 400 normal>) = 10.05\n",
      "findfont: score(<Font 'Marlett' (marlett.ttf) normal normal 400 normal>) = 10.05\n",
      "findfont: score(<Font 'Arial' (arial.ttf) normal normal 400 normal>) = 0.05\n",
      "findfont: score(<Font 'Corbel' (corbeli.ttf) italic normal 400 normal>) = 11.05\n",
      "findfont: score(<Font 'SWIsop1' (swisop1.ttf) normal normal 400 normal>) = 10.05\n",
      "findfont: score(<Font 'Brush Script MT' (BRUSHSCI.TTF) italic normal 400 normal>) = 11.05\n",
      "findfont: score(<Font 'Corbel' (corbelz.ttf) italic normal 700 normal>) = 11.335\n",
      "findfont: score(<Font 'Courier Std' (courierstd-boldoblique.otf) oblique normal 700 normal>) = 11.335\n",
      "findfont: score(<Font 'Garamond' (GARAIT.TTF) italic normal 400 normal>) = 11.05\n",
      "findfont: score(<Font 'Helonia' (HEBO____.ttf) italic normal 700 normal>) = 11.335\n",
      "findfont: score(<Font 'DejaVu Sans Mono' (DejaVuSansMono-BoldOblique.ttf) oblique normal 700 normal>) = 11.335\n",
      "findfont: score(<Font 'Calisto MT' (CALISTB.TTF) normal normal 700 normal>) = 10.335\n",
      "findfont: score(<Font 'Times New Roman' (times.ttf) normal normal roman normal>) = 10.145\n",
      "findfont: score(<Font 'ESSTIXTwo' (ESSTIX2_.TTF) normal normal 400 normal>) = 10.05\n",
      "findfont: score(<Font 'Palatino Linotype' (palab.ttf) normal normal 700 normal>) = 10.335\n",
      "findfont: score(<Font 'Onyx' (ONYX.TTF) normal normal 400 normal>) = 10.05\n",
      "findfont: score(<Font 'Harrington' (HARNGTON.TTF) normal normal 400 normal>) = 10.05\n",
      "findfont: score(<Font 'SWAstro' (swastro.ttf) normal normal 400 normal>) = 10.05\n",
      "findfont: score(<Font 'Chiller' (CHILLER.TTF) normal normal 400 normal>) = 10.05\n",
      "findfont: score(<Font 'ESSTIXSeventeen' (ESSTIX17.TTF) normal normal 400 normal>) = 10.05\n",
      "findfont: score(<Font 'Segoe UI Symbol' (seguisym.ttf) normal normal 400 normal>) = 10.05\n",
      "findfont: score(<Font 'Pristina' (PRISTINA.TTF) normal normal 400 normal>) = 10.05\n",
      "findfont: score(<Font 'Gill Sans MT' (GIL_____.TTF) normal normal 400 normal>) = 10.05\n",
      "findfont: score(<Font 'Rage Italic' (RAGE.TTF) italic normal 400 normal>) = 11.05\n",
      "findfont: score(<Font 'ESSTIXTwelve' (ESSTIX12.TTF) normal normal 400 normal>) = 10.05\n",
      "findfont: score(<Font 'Gabriola' (Gabriola.ttf) normal normal 400 normal>) = 10.05\n",
      "findfont: score(<Font 'Mistral' (MISTRAL.TTF) normal normal 400 normal>) = 10.05\n",
      "findfont: score(<Font 'Verdana' (verdanab.ttf) normal normal 700 normal>) = 10.335\n",
      "findfont: score(<Font 'Stencil' (STENCIL.TTF) normal normal 400 normal>) = 10.05\n",
      "findfont: score(<Font 'Rockwell' (ROCKB.TTF) normal normal 700 normal>) = 10.335\n",
      "findfont: score(<Font 'Bauhaus 93' (BAUHS93.TTF) normal normal 400 normal>) = 10.05\n",
      "findfont: score(<Font 'SWMath' (swmath.ttf) normal normal 400 normal>) = 10.05\n",
      "findfont: score(<Font 'Montserrat' (Montserrat-Regular.ttf) normal normal regular normal>) = 10.05\n",
      "findfont: score(<Font 'Impact' (impact.ttf) normal normal 400 normal>) = 10.05\n",
      "findfont: score(<Font 'Californian FB' (CALIFB.TTF) normal normal 700 normal>) = 10.335\n",
      "findfont: score(<Font 'Goudy Old Style' (GOUDOS.TTF) normal normal 400 normal>) = 10.05\n",
      "findfont: score(<Font 'Perpetua Titling MT' (PERTILI.TTF) normal normal light normal>) = 10.24\n",
      "findfont: score(<Font 'Times New Roman' (timesbd.ttf) normal normal 700 normal>) = 10.335\n",
      "findfont: score(<Font 'Arial' (arialbi.ttf) italic normal 700 normal>) = 1.335\n",
      "findfont: score(<Font 'Niagara Engraved' (NIAGENG.TTF) normal normal 400 normal>) = 10.05\n",
      "findfont: score(<Font 'Segoe UI' (segoeuil.ttf) normal normal light normal>) = 10.24\n",
      "findfont: score(<Font 'Bodoni MT' (BOD_CR.TTF) normal normal 400 condensed>) = 10.25\n",
      "findfont: score(<Font 'Book Antiqua' (ANTQUABI.TTF) italic normal 700 normal>) = 11.335\n",
      "findfont: score(<Font 'Microsoft YaHei' (msyhl.ttc) normal normal light normal>) = 10.24\n",
      "findfont: score(<Font 'DejaVu Sans' (DejaVuSansCondensed.ttf) normal normal 400 condensed>) = 2.25\n",
      "findfont: score(<Font 'Helonia' (HEB_____.ttf) normal normal 700 normal>) = 10.335\n",
      "findfont: score(<Font 'ESSTIXThree' (ESSTIX3_.TTF) normal normal 400 normal>) = 10.05\n",
      "findfont: score(<Font 'Cambria' (cambriaz.ttf) italic normal 700 normal>) = 11.335\n",
      "findfont: score(<Font 'Snap ITC' (SNAP____.TTF) normal normal 400 normal>) = 10.05\n",
      "findfont: score(<Font 'Corbel' (corbelli.ttf) italic normal light normal>) = 11.24\n",
      "findfont: score(<Font 'Century' (CENTURY.TTF) normal normal 400 normal>) = 10.05\n",
      "findfont: score(<Font 'DejaVu Serif' (DejaVuSerifCondensed-Italic.ttf) italic normal 400 condensed>) = 11.25\n",
      "findfont: score(<Font 'Haettenschweiler' (HATTEN.TTF) normal normal 400 normal>) = 10.05\n",
      "findfont: score(<Font 'Tahoma' (tahomabd.ttf) normal normal 700 normal>) = 10.335\n",
      "findfont: score(<Font 'Vivaldi' (VIVALDII.TTF) italic normal 400 normal>) = 11.05\n",
      "findfont: score(<Font 'Constantia' (constan.ttf) normal normal 400 normal>) = 10.05\n",
      "findfont: score(<Font 'Maiandra GD' (MAIAN.TTF) normal normal 400 normal>) = 10.05\n",
      "findfont: score(<Font 'Microsoft YaHei' (msyh.ttc) normal normal 400 normal>) = 10.05\n",
      "findfont: score(<Font 'Eras Bold ITC' (ERASBD.TTF) normal normal bold normal>) = 10.335\n",
      "findfont: score(<Font 'Agency FB' (AGENCYB.TTF) normal normal 700 normal>) = 10.335\n",
      "findfont: score(<Font 'OCR A Extended' (OCRAEXT.TTF) normal normal 400 expanded>) = 10.25\n",
      "findfont: score(<Font 'Gill Sans Ultra Bold' (GILSANUB.TTF) normal normal bold normal>) = 10.335\n",
      "findfont: score(<Font 'Arial' (ARIALNB.TTF) normal normal 700 condensed>) = 0.5349999999999999\n",
      "findfont: score(<Font 'Candara' (Candaraz.ttf) italic normal 700 normal>) = 11.335\n",
      "findfont: score(<Font 'ESSTIXOne' (ESSTIX1_.TTF) normal normal 400 normal>) = 10.05\n",
      "findfont: score(<Font 'DejaVu Sans Mono' (DejaVuSansMono-Bold.ttf) normal normal 700 normal>) = 10.335\n",
      "findfont: score(<Font 'DejaVu Sans' (DejaVuSansCondensed-BoldOblique.ttf) oblique normal 700 condensed>) = 3.535\n",
      "findfont: score(<Font 'Georgia' (georgia.ttf) normal normal 400 normal>) = 10.05\n",
      "findfont: score(<Font 'Bodoni MT' (BOD_CI.TTF) italic normal 400 condensed>) = 11.25\n",
      "findfont: score(<Font 'Courier Std' (courierstd-oblique.otf) oblique normal medium normal>) = 11.145\n",
      "findfont: score(<Font 'Segoe Print' (segoeprb.ttf) normal normal 700 normal>) = 10.335\n",
      "findfont: score(<Font 'Bookman Old Style' (BOOKOSB.TTF) normal normal 700 normal>) = 10.335\n",
      "findfont: score(<Font 'Calisto MT' (CALISTI.TTF) italic normal 400 normal>) = 11.05\n",
      "findfont: score(<Font 'Trebuchet MS' (trebucit.ttf) italic normal 400 normal>) = 11.05\n",
      "findfont: score(<Font 'Baskerville Old Face' (BASKVILL.TTF) normal normal 400 normal>) = 10.05\n",
      "findfont: score(<Font 'DejaVu Sans Mono' (DejaVuSansMono-Oblique.ttf) oblique normal 400 normal>) = 11.05\n"
     ]
    },
    {
     "name": "stderr",
     "output_type": "stream",
     "text": [
      "findfont: score(<Font 'Sitka Small' (SitkaZ.ttc) italic normal 700 normal>) = 11.335\n",
      "findfont: score(<Font 'Calibri' (calibrili.ttf) italic normal light normal>) = 11.24\n",
      "findfont: score(<Font 'Sitka Small' (SitkaI.ttc) italic normal 400 normal>) = 11.05\n",
      "findfont: score(<Font 'Corbel' (corbelb.ttf) normal normal 700 normal>) = 10.335\n",
      "findfont: score(<Font 'Microsoft Uighur' (MSUIGHUR.TTF) normal normal 400 normal>) = 10.05\n",
      "findfont: score(<Font 'SWItalt' (switalt.ttf) normal normal 400 normal>) = 10.05\n",
      "findfont: score(<Font 'SymbolPi' (SYP_____.ttf) normal normal normal normal>) = 10.0\n",
      "findfont: score(<Font 'Book Antiqua' (ANTQUAB.TTF) normal normal 700 normal>) = 10.335\n",
      "findfont: score(<Font 'DejaVu Serif' (DejaVuSerif-BoldItalic.ttf) italic normal 700 normal>) = 11.335\n",
      "findfont: score(<Font 'Sylfaen' (sylfaen.ttf) normal normal 400 normal>) = 10.05\n",
      "findfont: score(<Font 'Bookman Old Style' (BOOKOSI.TTF) italic normal book normal>) = 11.05\n",
      "findfont: score(<Font 'Ravie' (RAVIE.TTF) normal normal 400 normal>) = 10.05\n",
      "findfont: score(<Font 'Segoe UI Emoji' (seguiemj.ttf) normal normal 400 normal>) = 10.05\n",
      "findfont: score(<Font 'Perpetua' (PERBI___.TTF) italic normal 700 normal>) = 11.335\n",
      "findfont: score(<Font 'Lucida Fax' (LFAXDI.TTF) italic normal 700 normal>) = 11.335\n",
      "findfont: score(<Font 'SWSimp' (swsimp.ttf) normal normal 400 normal>) = 10.05\n",
      "findfont: score(<Font 'Microsoft Himalaya' (himalaya.ttf) normal normal 400 normal>) = 10.05\n",
      "findfont: score(<Font 'Courant' (CON_____.ttf) normal normal 400 normal>) = 10.05\n",
      "findfont: score(<Font 'Edwardian Script ITC' (ITCEDSCR.TTF) normal normal 400 normal>) = 10.05\n",
      "findfont: score(<Font 'ESSTIXFive' (ESSTIX5_.TTF) normal normal 400 normal>) = 10.05\n",
      "findfont: score(<Font 'Palatino Linotype' (palabi.ttf) italic normal 700 normal>) = 11.335\n",
      "findfont: score(<Font 'Segoe UI' (seguili.ttf) italic normal light normal>) = 11.24\n",
      "findfont: score(<Font 'Microsoft New Tai Lue' (ntailu.ttf) normal normal 400 normal>) = 10.05\n",
      "findfont: score(<Font 'Dubai' (DUBAI-BOLD.TTF) normal normal 700 normal>) = 10.335\n",
      "findfont: score(<Font 'Tw Cen MT' (TCB_____.TTF) normal normal 700 normal>) = 10.335\n",
      "findfont: score(<Font 'Myanmar Text' (mmrtextb.ttf) normal normal 700 normal>) = 10.335\n",
      "findfont: score(<Font 'ESSTIXSeven' (ESSTIX7_.TTF) normal normal 400 normal>) = 10.05\n",
      "findfont: score(<Font 'Lucida Sans Typewriter' (LTYPE.TTF) normal normal regular normal>) = 10.05\n",
      "findfont: score(<Font 'Comic Sans MS' (comic.ttf) normal normal 400 normal>) = 10.05\n",
      "findfont: score(<Font 'Century Gothic' (GOTHICBI.TTF) italic normal 700 normal>) = 11.335\n",
      "findfont: score(<Font 'Old English Text MT' (OLDENGL.TTF) normal normal 400 normal>) = 10.05\n",
      "findfont: score(<Font 'Myriad CAD' (myriadcad.otf) normal normal 400 normal>) = 10.05\n",
      "findfont: score(<Font 'Calisto MT' (CALISTBI.TTF) italic normal 700 normal>) = 11.335\n",
      "findfont: score(<Font 'Elephant' (ELEPHNTI.TTF) italic normal 400 normal>) = 11.05\n",
      "findfont: score(<Font 'SWTxt' (swtxt.ttf) normal normal 400 normal>) = 10.05\n",
      "findfont: score(<Font 'Lucida Sans Typewriter' (LTYPEBO.TTF) oblique normal 700 normal>) = 11.335\n",
      "findfont: score(<Font 'Monotype Corsiva' (MTCORSVA.TTF) normal normal 400 normal>) = 10.05\n",
      "findfont: score(<Font 'Wide Latin' (LATINWD.TTF) normal normal 400 expanded>) = 10.25\n",
      "findfont: score(<Font 'MV Boli' (mvboli.ttf) normal normal 400 normal>) = 10.05\n",
      "findfont: score(<Font 'Berlin Sans FB' (BRLNSB.TTF) normal normal 700 normal>) = 10.335\n",
      "findfont: score(<Font 'Georgia' (georgiai.ttf) italic normal 400 normal>) = 11.05\n",
      "findfont: score(<Font 'Garamond' (GARABD.TTF) normal normal 700 normal>) = 10.335\n",
      "findfont: score(<Font 'MaplePi' (MaplePi.ttf) normal normal 400 normal>) = 10.05\n",
      "findfont: score(<Font 'Constantia' (constanz.ttf) italic normal 700 normal>) = 11.335\n",
      "findfont: score(<Font 'Perpetua' (PERI____.TTF) italic normal 400 normal>) = 11.05\n",
      "findfont: score(<Font 'Bodoni MT' (BOD_CB.TTF) normal normal 700 condensed>) = 10.535\n",
      "findfont: score(<Font 'Bodoni MT' (BOD_CBI.TTF) italic normal 700 condensed>) = 11.535\n",
      "findfont: score(<Font 'Century Schoolbook' (CENSCBK.TTF) normal normal book normal>) = 10.05\n",
      "findfont: score(<Font 'Footlight MT Light' (FTLTLT.TTF) normal normal light normal>) = 10.24\n",
      "findfont: score(<Font 'ESSTIXSixteen' (ESSTIX16.TTF) normal normal 400 normal>) = 10.05\n",
      "findfont: score(<Font 'Microsoft JhengHei' (msjhl.ttc) normal normal light normal>) = 10.24\n",
      "findfont: score(<Font 'Bookshelf Symbol 7' (BSSYM7.TTF) normal normal book normal>) = 10.05\n",
      "findfont: score(<Font 'Lucida Fax' (LFAXD.TTF) normal normal 700 normal>) = 10.335\n",
      "findfont: score(<Font 'Blackadder ITC' (ITCBLKAD.TTF) normal normal black normal>) = 10.525\n",
      "findfont: score(<Font 'Consolas' (consolaz.ttf) italic normal 700 normal>) = 11.335\n",
      "findfont: score(<Font 'Myanmar Text' (mmrtext.ttf) normal normal 400 normal>) = 10.05\n",
      "findfont: score(<Font 'Franklin Gothic Book' (FRABKIT.TTF) italic normal book normal>) = 11.05\n",
      "findfont: score(<Font 'SWGothe' (swgothe.ttf) normal normal 400 normal>) = 10.05\n",
      "findfont: score(<Font 'Vladimir Script' (VLADIMIR.TTF) normal normal 400 normal>) = 10.05\n",
      "findfont: score(<Font 'Segoe UI Historic' (seguihis.ttf) normal normal 400 normal>) = 10.05\n",
      "findfont: score(<Font 'DejaVu Sans' (DejaVuSans-Bold.ttf) normal normal 700 normal>) = 2.335\n",
      "findfont: score(<Font 'DejaVu Sans' (DejaVuSans-Oblique.ttf) oblique normal 400 normal>) = 3.05\n",
      "findfont: score(<Font 'Segoe UI' (seguibli.ttf) italic normal black normal>) = 11.525\n",
      "findfont: score(<Font 'MingLiU-ExtB' (mingliub.ttc) normal normal 400 normal>) = 10.05\n",
      "findfont: score(<Font 'Lucida Sans' (LSANS.TTF) normal normal regular normal>) = 10.05\n",
      "findfont: score(<Font 'Lucida Sans' (LSANSDI.TTF) italic normal 700 normal>) = 11.335\n",
      "findfont: score(<Font 'Garamond' (GARA.TTF) normal normal 400 normal>) = 10.05\n",
      "findfont: score(<Font 'Perpetua Titling MT' (PERTIBD.TTF) normal normal 700 normal>) = 10.335\n",
      "findfont: score(<Font 'Goudy Old Style' (GOUDOSI.TTF) italic normal 400 normal>) = 11.05\n",
      "findfont: score(<Font 'DejaVu Serif' (DejaVuSerifCondensed.ttf) normal normal 400 condensed>) = 10.25\n",
      "findfont: score(<Font 'Georgia' (georgiab.ttf) normal normal 700 normal>) = 10.335\n",
      "findfont: score(<Font 'Segoe UI' (segoeuiz.ttf) italic normal 700 normal>) = 11.335\n",
      "findfont: score(<Font 'Bell MT' (BELLI.TTF) italic normal 400 normal>) = 11.05\n",
      "findfont: score(<Font '3ds' (3ds Light.otf) normal normal light normal>) = 10.24\n",
      "findfont: score(<Font 'SWIsot2' (swisot2.ttf) normal normal 400 normal>) = 10.05\n",
      "findfont: score(<Font 'Bodoni MT' (BOD_BLAR.TTF) normal normal black normal>) = 10.525\n",
      "findfont: score(<Font 'Microsoft PhagsPa' (phagspa.ttf) normal normal 400 normal>) = 10.05\n",
      "findfont: score(<Font 'Magneto' (MAGNETOB.TTF) normal normal 700 normal>) = 10.335\n",
      "findfont: score(<Font 'Copperplate Gothic Bold' (COPRGTB.TTF) normal normal bold normal>) = 10.335\n",
      "findfont: score(<Font 'Eras Medium ITC' (ERASMD.TTF) normal normal medium normal>) = 10.145\n",
      "findfont: score(<Font 'Segoe UI' (seguisli.ttf) italic normal light normal>) = 11.24\n",
      "findfont: score(<Font 'Calibri' (calibriz.ttf) italic normal 700 normal>) = 11.335\n",
      "findfont: score(<Font 'Corbel' (corbel.ttf) normal normal 400 normal>) = 10.05\n",
      "findfont: score(<Font 'Thames' (THBI____.ttf) italic normal 700 normal>) = 11.335\n",
      "findfont: score(<Font 'Ebrima' (ebrimabd.ttf) normal normal 700 normal>) = 10.335\n",
      "findfont: score(<Font 'Eras Light ITC' (ERASLGHT.TTF) normal normal light normal>) = 10.24\n",
      "findfont: score(<Font 'Rockwell Condensed' (ROCCB___.TTF) normal normal 700 condensed>) = 10.535\n",
      "findfont: score(<Font 'Freestyle Script' (FREESCPT.TTF) normal normal 400 normal>) = 10.05\n",
      "findfont: score(<Font 'French Script MT' (FRSCRIPT.TTF) normal normal 400 normal>) = 10.05\n",
      "findfont: score(<Font 'Thames' (THB_____.ttf) normal normal 700 normal>) = 10.335\n",
      "findfont: score(<Font 'Gill Sans MT' (GILBI___.TTF) italic normal 700 normal>) = 11.335\n",
      "findfont: score(<Font 'Arial' (ARIALN.TTF) normal normal 400 condensed>) = 0.25\n",
      "findfont: score(<Font 'SWMusic' (swmusic.ttf) normal normal 400 normal>) = 10.05\n",
      "findfont: score(<Font 'Arial' (ARIALNBI.TTF) italic normal 700 condensed>) = 1.535\n",
      "findfont: score(<Font 'DejaVu Sans' (DejaVuSans.ttf) normal normal 400 normal>) = 2.05\n"
     ]
    },
    {
     "name": "stderr",
     "output_type": "stream",
     "text": [
      "findfont: score(<Font 'ESSTIXEight' (ESSTIX8_.TTF) normal normal 400 normal>) = 10.05\n",
      "findfont: score(<Font 'Curlz MT' (CURLZ___.TTF) normal normal 400 normal>) = 10.05\n",
      "findfont: score(<Font 'Segoe Print' (segoepr.ttf) normal normal 400 normal>) = 10.05\n",
      "findfont: score(<Font 'Dubai' (DUBAI-LIGHT.TTF) normal normal light normal>) = 10.24\n",
      "findfont: score(<Font 'Perpetua' (PER_____.TTF) normal normal 400 normal>) = 10.05\n",
      "findfont: score(<Font 'Wingdings' (wingding.ttf) normal normal 400 normal>) = 10.05\n",
      "findfont: score(<Font 'ESSTIXFifteen' (ESSTIX15.TTF) normal normal 400 normal>) = 10.05\n",
      "findfont: score(<Font 'Eras Demi ITC' (ERASDEMI.TTF) normal normal demi normal>) = 10.24\n",
      "findfont: score(<Font 'Tw Cen MT Condensed Extra Bold' (TCCEB.TTF) normal normal bold condensed>) = 10.535\n",
      "findfont: score(<Font 'SimSun-ExtB' (simsunb.ttf) normal normal 400 normal>) = 10.05\n",
      "findfont: score(<Font 'Bahnschrift' (bahnschrift.ttf) normal normal 400 normal>) = 10.05\n",
      "findfont: score(<Font 'Lucida Fax' (LFAX.TTF) normal normal regular normal>) = 10.05\n",
      "findfont: score(<Font 'Verdana' (verdana.ttf) normal normal 400 normal>) = 10.05\n",
      "findfont: score(<Font 'Goudy Old Style' (GOUDOSB.TTF) normal normal 700 normal>) = 10.335\n",
      "findfont: score(<Font 'Broadway' (BROADW.TTF) normal normal 400 normal>) = 10.05\n",
      "findfont: score(<Font 'Candara' (Candara.ttf) normal normal 400 normal>) = 10.05\n",
      "findfont: score(<Font 'Bodoni MT' (BOD_PSTC.TTF) normal normal 400 normal>) = 10.05\n",
      "findfont: score(<Font 'Lato' (Lato-Bold.ttf) normal normal 700 normal>) = 10.335\n",
      "findfont: score(<Font 'Thames' (THI_____.ttf) italic normal 400 normal>) = 11.05\n",
      "findfont: score(<Font 'Arial' (ariali.ttf) italic normal 400 normal>) = 1.05\n",
      "findfont: score(<Font 'Berlin Sans FB' (BRLNSR.TTF) normal normal 400 normal>) = 10.05\n",
      "findfont: score(<Font 'Segoe UI' (segoeuib.ttf) normal normal 700 normal>) = 10.335\n",
      "findfont: score(<Font 'Courier New' (courbd.ttf) normal normal 700 normal>) = 10.335\n",
      "findfont: score(<Font 'Lucida Sans Unicode' (l_10646.ttf) normal normal 400 normal>) = 10.05\n",
      "findfont: score(<Font 'Agency FB' (AGENCYR.TTF) normal normal 400 normal>) = 10.05\n",
      "findfont: score(<Font 'Gigi' (GIGI.TTF) normal normal 400 normal>) = 10.05\n",
      "findfont: score(<Font 'Courier New' (couri.ttf) italic normal 400 normal>) = 11.05\n",
      "findfont: score(<Font 'Showcard Gothic' (SHOWG.TTF) normal normal 400 normal>) = 10.05\n",
      "findfont: score(<Font 'Arial' (ariblk.ttf) normal normal black normal>) = 0.525\n",
      "findfont: score(<Font 'DejaVu Sans' (DejaVuSans-ExtraLight.ttf) normal normal light normal>) = 2.24\n",
      "findfont: score(<Font 'Cambria' (cambriai.ttf) italic normal 400 normal>) = 11.05\n",
      "findfont: score(<Font 'Kozuka Mincho Pr6N' (kozminpr6n-regular.otf) normal normal 400 normal>) = 10.05\n",
      "findfont: score(<Font 'Segoe UI' (seguisb.ttf) normal normal semibold normal>) = 10.24\n",
      "findfont: score(<Font 'Wingdings 2' (WINGDNG2.TTF) normal normal 400 normal>) = 10.05\n",
      "findfont: score(<Font 'Microsoft Tai Le' (taile.ttf) normal normal 400 normal>) = 10.05\n",
      "findfont: score(<Font 'DejaVu Sans' (DejaVuSansCondensed-Oblique.ttf) oblique normal 400 condensed>) = 3.25\n",
      "findfont: score(<Font 'Malgun Gothic' (malgunbd.ttf) normal normal 700 normal>) = 10.335\n",
      "findfont: score(<Font 'Franklin Gothic Heavy' (FRAHV.TTF) normal normal heavy normal>) = 10.43\n",
      "findfont: score(<Font 'Californian FB' (CALIFR.TTF) normal normal 400 normal>) = 10.05\n",
      "findfont: score(<Font 'SWMap' (swmap.ttf) normal normal 400 normal>) = 10.05\n",
      "findfont: score(<Font 'Lucida Calligraphy' (LCALLIG.TTF) italic normal 400 normal>) = 11.05\n",
      "findfont: score(<Font 'Rockwell' (ROCKI.TTF) italic normal 400 normal>) = 11.05\n",
      "findfont: score(<Font 'Adobe Song Std' (adobesongstd-light.otf) normal normal 400 normal>) = 10.05\n",
      "findfont: score(<Font 'Courier New' (cour.ttf) normal normal 400 normal>) = 10.05\n",
      "findfont: score(<Font 'ESSTIXSix' (ESSTIX6_.TTF) normal normal 400 normal>) = 10.05\n",
      "findfont: score(<Font 'Arial Rounded MT Bold' (ARLRDBD.TTF) normal normal bold normal>) = 10.335\n",
      "findfont: score(<Font 'Tahoma' (tahoma.ttf) normal normal 400 normal>) = 10.05\n",
      "findfont: score(<Font 'Segoe UI' (seguisbi.ttf) italic normal semibold normal>) = 11.24\n",
      "findfont: score(<Font 'Microsoft Tai Le' (taileb.ttf) normal normal 700 normal>) = 10.335\n",
      "findfont: score(<Font 'SWScrps' (swscrps.ttf) normal normal 400 normal>) = 10.05\n",
      "findfont: score(<Font 'OLF SimpleSansOC' (olfsimplesansoc-regular.ttf) normal normal regular normal>) = 10.05\n",
      "findfont: score(<Font 'Candara' (Candarali.ttf) italic normal light normal>) = 11.24\n",
      "findfont: score(<Font 'Rockwell Extra Bold' (ROCKEB.TTF) normal normal bold normal>) = 10.335\n",
      "findfont: score(<Font 'ESSTIXFour' (ESSTIX4_.TTF) normal normal 400 normal>) = 10.05\n",
      "findfont: score(<Font 'Georgia' (georgiaz.ttf) italic normal 700 normal>) = 11.335\n",
      "findfont: score(<Font 'Bradley Hand ITC' (BRADHITC.TTF) normal normal 400 normal>) = 10.05\n",
      "findfont: score(<Font 'Lucida Sans Typewriter' (LTYPEO.TTF) oblique normal 400 normal>) = 11.05\n",
      "findfont: score(<Font 'Lucida Bright' (LBRITEI.TTF) italic normal 400 normal>) = 11.05\n",
      "findfont: score(<Font 'Malgun Gothic' (malgun.ttf) normal normal 400 normal>) = 10.05\n",
      "findfont: score(<Font 'Bookman Old Style' (BOOKOSBI.TTF) italic normal 700 normal>) = 11.335\n",
      "findfont: score(<Font 'Lucida Console' (lucon.ttf) normal normal 400 normal>) = 10.05\n",
      "findfont: score(<Font 'Viner Hand ITC' (VINERITC.TTF) normal normal 400 normal>) = 10.05\n",
      "findfont: score(<Font 'Verdana' (verdanai.ttf) italic normal 400 normal>) = 11.05\n",
      "findfont: score(<Font 'Symbol' (symbol.ttf) normal normal 400 normal>) = 10.05\n",
      "findfont: score(<Font 'Microsoft Yi Baiti' (msyi.ttf) normal normal 400 normal>) = 10.05\n",
      "findfont: score(<Font 'Colonna MT' (COLONNA.TTF) normal normal 400 normal>) = 10.05\n",
      "findfont: score(<Font 'DejaVu Serif' (DejaVuSerifCondensed-BoldItalic.ttf) italic normal 700 condensed>) = 11.535\n",
      "findfont: score(<Font 'Matura MT Script Capitals' (MATURASC.TTF) normal normal 400 normal>) = 10.05\n",
      "findfont: score(<Font 'Kunstler Script' (KUNSTLER.TTF) normal normal 400 normal>) = 10.05\n",
      "findfont: score(<Font 'ESSTIXNine' (ESSTIX9_.TTF) normal normal 400 normal>) = 10.05\n",
      "findfont: score(<Font 'Ebrima' (ebrima.ttf) normal normal 400 normal>) = 10.05\n",
      "findfont: score(<Font 'Segoe UI' (segoeuisl.ttf) normal normal light normal>) = 10.24\n",
      "findfont: score(<Font 'Comic Sans MS' (comicbd.ttf) normal normal 700 normal>) = 10.335\n",
      "findfont: score(<Font 'Yu Gothic' (YuGothB.ttc) normal normal 700 normal>) = 10.335\n",
      "findfont: score(<Font 'Segoe UI' (seguibl.ttf) normal normal black normal>) = 10.525\n",
      "findfont: score(<Font 'SWComp' (swcomp.ttf) normal normal 400 normal>) = 10.05\n",
      "findfont: score(<Font 'Lucida Handwriting' (LHANDW.TTF) italic normal 400 normal>) = 11.05\n",
      "findfont: score(<Font 'Leelawadee UI' (LeelaUIb.ttf) normal normal 700 normal>) = 10.335\n",
      "findfont: score(<Font 'ESSTIXTen' (ESSTIX10.TTF) normal normal 400 normal>) = 10.05\n",
      "findfont: score(<Font 'Candara' (Candarai.ttf) italic normal 400 normal>) = 11.05\n",
      "findfont: score(<Font 'Helonia' (HEO_____.ttf) italic normal 400 normal>) = 11.05\n",
      "findfont: score(<Font 'Cooper Black' (COOPBL.TTF) normal normal black normal>) = 10.525\n",
      "findfont: score(<Font 'Thames' (THR_____.ttf) normal normal 400 normal>) = 10.05\n",
      "findfont: score(<Font 'Lucida Sans Typewriter' (LTYPEB.TTF) normal normal 700 normal>) = 10.335\n",
      "findfont: score(<Font 'Elephant' (ELEPHNT.TTF) normal normal 400 normal>) = 10.05\n",
      "findfont: score(<Font 'Gill Sans MT Ext Condensed Bold' (GLSNECB.TTF) normal normal bold condensed>) = 10.535\n",
      "findfont: score(<Font 'SWMeteo' (swmeteo.ttf) normal normal 400 normal>) = 10.05\n",
      "findfont: score(<Font 'Gill Sans MT Condensed' (GILC____.TTF) normal normal 400 condensed>) = 10.25\n",
      "findfont: score(<Font 'Segoe Script' (segoescb.ttf) normal normal 700 normal>) = 10.335\n",
      "findfont: score(<Font 'High Tower Text' (HTOWERTI.TTF) italic normal 400 normal>) = 11.05\n",
      "findfont: score(<Font 'Rockwell' (ROCK.TTF) normal normal 400 normal>) = 10.05\n",
      "findfont: score(<Font 'Leelawadee UI' (LeelUIsl.ttf) normal normal light normal>) = 10.24\n",
      "findfont: score(<Font 'Lucida Sans' (LSANSD.TTF) normal normal 700 normal>) = 10.335\n",
      "findfont: score(<Font 'DejaVu Serif' (DejaVuSerifCondensed-Bold.ttf) normal normal 700 condensed>) = 10.535\n"
     ]
    },
    {
     "name": "stderr",
     "output_type": "stream",
     "text": [
      "findfont: score(<Font 'Helonia' (HEN_____.ttf) normal normal 400 normal>) = 10.05\n",
      "findfont: score(<Font 'SWRomnt' (swromnt.ttf) normal normal 400 normal>) = 10.05\n",
      "findfont: score(<Font 'DejaVu Sans Mono' (DejaVuSansMono.ttf) normal normal 400 normal>) = 10.05\n",
      "findfont: score(<Font 'Source Sans Pro' (SourceSansPro-Semibold.ttf) normal normal semibold normal>) = 10.24\n",
      "findfont: score(<Font 'Nirmala UI' (NirmalaB.ttf) normal normal 700 normal>) = 10.335\n",
      "findfont: score(<Font 'Century Schoolbook' (SCHLBKI.TTF) italic normal book normal>) = 11.05\n",
      "findfont: score(<Font 'Calibri' (calibrib.ttf) normal normal 700 normal>) = 10.335\n",
      "findfont: score(<Font 'Centaur' (CENTAUR.TTF) normal normal 400 normal>) = 10.05\n",
      "findfont: score(<Font 'Franklin Gothic Medium Cond' (FRAMDCN.TTF) normal normal medium condensed>) = 10.344999999999999\n",
      "findfont: score(<Font 'Corbel' (corbell.ttf) normal normal light normal>) = 10.24\n",
      "findfont: score(<Font 'Gadugi' (gadugib.ttf) normal normal 700 normal>) = 10.335\n",
      "findfont: score(<Font 'MS Outlook' (OUTLOOK.TTF) normal normal 400 normal>) = 10.05\n",
      "findfont: score(<Font 'Castellar' (CASTELAR.TTF) normal normal 400 normal>) = 10.05\n",
      "findfont: score(<Font 'Microsoft JhengHei' (msjhbd.ttc) normal normal 700 normal>) = 10.335\n",
      "findfont: score(<Font 'Franklin Gothic Demi' (FRADMIT.TTF) italic normal demi normal>) = 11.24\n",
      "findfont: score(<Font 'Imprint MT Shadow' (IMPRISHA.TTF) normal normal 400 normal>) = 10.05\n",
      "findfont: score(<Font 'Sitka Small' (SitkaB.ttc) normal normal 700 normal>) = 10.335\n",
      "findfont: score(<Font 'Engravers MT' (ENGR.TTF) normal normal 400 normal>) = 10.05\n",
      "findfont: score(<Font 'HYSWLongFangSong' (hyswlongfangsong.ttf) normal normal 400 normal>) = 10.05\n",
      "findfont: score(<Font 'MS Reference Sans Serif' (REFSAN.TTF) normal normal 400 normal>) = 10.05\n",
      "findfont: score(<Font 'Segoe UI' (segoeui.ttf) normal normal 400 normal>) = 10.05\n",
      "findfont: score(<Font 'Goudy Stout' (GOUDYSTO.TTF) normal normal 400 normal>) = 10.05\n",
      "findfont: score(<Font 'Malgun Gothic' (malgunsl.ttf) normal normal light normal>) = 10.24\n",
      "findfont: score(<Font 'Source Sans Pro' (SourceSansPro-Black.otf) normal normal black normal>) = 10.525\n",
      "findfont: score(<Font 'Dubai' (DUBAI-MEDIUM.TTF) normal normal medium normal>) = 10.145\n",
      "findfont: score(<Font 'Calibri' (calibrii.ttf) italic normal 400 normal>) = 11.05\n",
      "findfont: score(<Font 'Ink Free' (Inkfree.ttf) normal normal 400 normal>) = 10.05\n",
      "findfont: score(<Font 'DejaVu Sans' (DejaVuSansCondensed-Bold.ttf) normal normal 700 condensed>) = 2.535\n",
      "findfont: score(<Font 'Microsoft JhengHei' (msjh.ttc) normal normal 400 normal>) = 10.05\n",
      "findfont: score(<Font 'Times New Roman' (timesi.ttf) italic normal roman normal>) = 11.145\n",
      "findfont: score(<Font 'Juice ITC' (JUICE___.TTF) normal normal 400 normal>) = 10.05\n",
      "findfont: score(<Font 'Berlin Sans FB Demi' (BRLNSDB.TTF) normal normal 700 normal>) = 10.335\n",
      "findfont: score(<Font 'Comic Sans MS' (comicz.ttf) italic normal 700 normal>) = 11.335\n",
      "findfont: score(<Font 'Parchment' (PARCHM.TTF) normal normal 400 normal>) = 10.05\n",
      "findfont: score(<Font 'Bookman Old Style' (BOOKOS.TTF) normal normal book normal>) = 10.05\n",
      "findfont: score(<Font 'Algerian' (ALGER.TTF) normal normal 400 normal>) = 10.05\n",
      "findfont: score(<Font 'Microsoft Sans Serif' (micross.ttf) normal normal 400 normal>) = 10.05\n",
      "findfont: score(<Font 'Wingdings 3' (WINGDNG3.TTF) normal normal 400 normal>) = 10.05\n",
      "findfont: score(<Font 'Calibri' (calibril.ttf) normal normal light normal>) = 10.24\n",
      "findfont: score(<Font 'SWRomnd' (swromnd.ttf) normal normal 400 normal>) = 10.05\n",
      "findfont: score(<Font 'Franklin Gothic Heavy' (FRAHVIT.TTF) italic normal heavy normal>) = 11.43\n",
      "findfont: score(<Font 'Trebuchet MS' (trebucbi.ttf) italic normal 700 normal>) = 11.335\n",
      "findfont: score(<Font 'Bell MT' (BELLB.TTF) normal normal 700 normal>) = 10.335\n",
      "findfont: score(<Font 'Nirmala UI' (Nirmala.ttf) normal normal 400 normal>) = 10.05\n",
      "findfont: score(<Font 'Segoe Script' (segoesc.ttf) normal normal 400 normal>) = 10.05\n",
      "findfont: score(<Font 'MaplePi' (MP______.ttf) normal normal 400 normal>) = 10.05\n",
      "findfont: score(<Font 'Bodoni MT' (BOD_B.TTF) normal normal 700 normal>) = 10.335\n",
      "findfont: score(<Font 'Century Schoolbook' (SCHLBKBI.TTF) italic normal 700 normal>) = 11.335\n",
      "findfont: score(<Font 'MT Extra' (MTEXTRA.TTF) normal normal 400 normal>) = 10.05\n",
      "findfont: score(<Font 'Oswald' (Oswald-Regular.ttf) normal normal regular normal>) = 10.05\n",
      "findfont: score(<Font 'SWIsop3' (swisop3.ttf) normal normal 400 normal>) = 10.05\n",
      "findfont: score(<Font 'SWMono' (swmono.ttf) normal normal 400 normal>) = 10.05\n",
      "findfont: score(<Font 'Microsoft PhagsPa' (phagspab.ttf) normal normal 700 normal>) = 10.335\n",
      "findfont: score(<Font 'Century Gothic' (Gothic.ttf) normal normal 400 normal>) = 10.05\n",
      "findfont: score(<Font 'Franklin Gothic Demi' (FRADM.TTF) normal normal demi normal>) = 10.24\n",
      "findfont: score(<Font 'Javanese Text' (javatext.ttf) normal normal 400 normal>) = 10.05\n",
      "findfont: score(<Font 'Times New Roman' (timesbi.ttf) italic normal 700 normal>) = 11.335\n",
      "findfont: score(<Font 'Microsoft YaHei' (msyhbd.ttc) normal normal 700 normal>) = 10.335\n",
      "findfont: score(<Font 'SWScrpc' (swscrpc.ttf) normal normal 400 normal>) = 10.05\n",
      "findfont: score(<Font 'Microsoft New Tai Lue' (ntailub.ttf) normal normal 700 normal>) = 10.335\n",
      "findfont: score(<Font 'SWItal' (swital.ttf) normal normal 400 normal>) = 10.05\n",
      "findfont: score(<Font 'Courant' (COO_____.ttf) italic normal 400 normal>) = 11.05\n",
      "findfont: score(<Font 'Cambria' (cambriab.ttf) normal normal 700 normal>) = 10.335\n",
      "findfont: score(<Font 'Palatino Linotype' (palai.ttf) italic normal 400 normal>) = 11.05\n",
      "findfont: score(<Font 'Segoe MDL2 Assets' (segmdl2.ttf) normal normal 400 normal>) = 10.05\n",
      "findfont: score(<Font 'Century Gothic' (GOTHICB.TTF) normal normal 700 normal>) = 10.335\n",
      "findfont: score(<Font 'Courier Std' (courierstd.otf) normal normal medium normal>) = 10.145\n",
      "findfont: score(<Font 'Rockwell Condensed' (ROCC____.TTF) normal normal 400 condensed>) = 10.25\n",
      "findfont: score(<Font 'Forte' (FORTE.TTF) normal normal 400 normal>) = 10.05\n",
      "findfont: score(<Font 'Calisto MT' (CALIST.TTF) normal normal 400 normal>) = 10.05\n",
      "findfont: score(<Font 'Perpetua' (PERB____.TTF) normal normal 700 normal>) = 10.335\n",
      "findfont: score(<Font 'MS Reference Specialty' (REFSPCL.TTF) normal normal 400 normal>) = 10.05\n",
      "findfont: score(<Font 'SWRomnc' (swromnc.ttf) normal normal 400 normal>) = 10.05\n",
      "findfont: score(<Font 'Trebuchet MS' (trebuc.ttf) normal normal 400 normal>) = 10.05\n",
      "findfont: score(<Font 'Informal Roman' (INFROMAN.TTF) normal normal roman normal>) = 10.145\n",
      "findfont: score(<Font 'SWGreks' (swgreks.ttf) normal normal 400 normal>) = 10.05\n",
      "findfont: score(<Font 'Lucida Bright' (LBRITE.TTF) normal normal 400 normal>) = 10.05\n",
      "findfont: score(<Font 'SWIsot1' (swisot1.ttf) normal normal 400 normal>) = 10.05\n",
      "findfont: score(<Font 'Nirmala UI' (NirmalaS.ttf) normal normal light normal>) = 10.24\n",
      "findfont: score(<Font 'Felix Titling' (FELIXTI.TTF) normal normal 400 normal>) = 10.05\n",
      "findfont: score(<Font 'Yu Gothic' (YuGothM.ttc) normal normal medium normal>) = 10.145\n",
      "findfont: score(<Font 'Courant' (COBO____.ttf) italic normal 700 normal>) = 11.335\n",
      "findfont: score(<Font 'Palace Script MT' (PALSCRI.TTF) normal normal 400 normal>) = 10.05\n",
      "findfont: score(<Font 'Tw Cen MT Condensed' (TCCM____.TTF) normal normal 400 condensed>) = 10.25\n",
      "findfont: score(<Font 'SWIsop2' (swisop2.ttf) normal normal 400 normal>) = 10.05\n",
      "findfont: score(<Font 'Palatino Linotype' (pala.ttf) normal normal 400 normal>) = 10.05\n",
      "findfont: score(<Font 'Mongolian Baiti' (monbaiti.ttf) normal normal 400 normal>) = 10.05\n",
      "findfont: score(<Font 'High Tower Text' (HTOWERT.TTF) normal normal 400 normal>) = 10.05\n",
      "findfont: score(<Font 'Poor Richard' (POORICH.TTF) normal normal 400 normal>) = 10.05\n",
      "findfont: score(<Font 'Lucida Bright' (LBRITEDI.TTF) italic normal 700 normal>) = 11.335\n",
      "findfont: score(<Font 'Franklin Gothic Demi Cond' (FRADMCN.TTF) normal normal demi condensed>) = 10.44\n",
      "findfont: score(<Font 'Bell MT' (BELL.TTF) normal normal 400 normal>) = 10.05\n",
      "findfont: score(<Font 'Consolas' (consolab.ttf) normal normal 700 normal>) = 10.335\n",
      "findfont: score(<Font 'Constantia' (constanb.ttf) normal normal 700 normal>) = 10.335\n"
     ]
    },
    {
     "name": "stderr",
     "output_type": "stream",
     "text": [
      "findfont: score(<Font 'Trebuchet MS' (trebucbd.ttf) normal normal 700 normal>) = 10.335\n",
      "findfont: score(<Font 'Gadugi' (gadugi.ttf) normal normal 400 normal>) = 10.05\n",
      "findfont: score(<Font 'Script MT Bold' (SCRIPTBL.TTF) normal normal bold normal>) = 10.335\n",
      "findfont: score(<Font 'Tw Cen MT Condensed' (TCCB____.TTF) normal normal 700 condensed>) = 10.535\n",
      "findfont: score(<Font 'Tw Cen MT' (TCM_____.TTF) normal normal 400 normal>) = 10.05\n",
      "findfont: score(<Font 'Papyrus' (PAPYRUS.TTF) normal normal 400 normal>) = 10.05\n",
      "findfont: score(<Font 'Leelawadee' (LEELAWDB.TTF) normal normal 700 normal>) = 10.335\n",
      "findfont: score(<Font 'Arial' (arialbd.ttf) normal normal 700 normal>) = 0.33499999999999996\n",
      "findfont: score(<Font 'Kozuka Gothic Pr6N' (kozgopr6n-medium.otf) normal normal 400 normal>) = 10.05\n",
      "findfont: score(<Font 'Sitka Small' (Sitka.ttc) normal normal 400 normal>) = 10.05\n",
      "findfont: score(<Font 'Harlow Solid Italic' (HARLOWSI.TTF) italic normal 400 normal>) = 11.05\n",
      "findfont: score(<Font 'Book Antiqua' (BKANT.TTF) normal normal book normal>) = 10.05\n",
      "findfont: score(<Font 'Courier Std' (courierstd-bold.otf) normal normal 700 normal>) = 10.335\n",
      "findfont: score(<Font 'SWRomns' (swromns.ttf) normal normal 400 normal>) = 10.05\n",
      "findfont: score(<Font 'Dubai' (DUBAI-REGULAR.TTF) normal normal regular normal>) = 10.05\n",
      "findfont: score(<Font 'Adobe Heiti Std' (adobeheitistd-regular.otf) normal normal 400 normal>) = 10.05\n",
      "findfont: score(<Font 'ESSTIXFourteen' (ESSTIX14.TTF) normal normal 400 normal>) = 10.05\n",
      "findfont: score(<Font 'Verdana' (verdanaz.ttf) italic normal 700 normal>) = 11.335\n",
      "findfont: score(<Font 'Bodoni MT' (BOD_BLAI.TTF) italic normal black normal>) = 11.525\n",
      "findfont: score(<Font 'Tw Cen MT' (TCMI____.TTF) italic normal 400 normal>) = 11.05\n",
      "findfont: Matching sans\\-serif:style=normal:variant=normal:weight=normal:stretch=normal:size=11.0 to Arial ('C:\\\\Windows\\\\Fonts\\\\arial.ttf') with score of 0.050000.\n",
      "findfont: Matching sans\\-serif:style=normal:variant=normal:weight=normal:stretch=normal:size=12.0.\n",
      "findfont: score(<Font 'STIXNonUnicode' (STIXNonUniBol.ttf) normal normal 700 normal>) = 10.335\n",
      "findfont: score(<Font 'cmr10' (cmr10.ttf) normal normal 400 normal>) = 10.05\n",
      "findfont: score(<Font 'STIXGeneral' (STIXGeneralItalic.ttf) italic normal 400 normal>) = 11.05\n",
      "findfont: score(<Font 'STIXGeneral' (STIXGeneralBolIta.ttf) italic normal 700 normal>) = 11.335\n",
      "findfont: score(<Font 'DejaVu Sans Mono' (DejaVuSansMono-Oblique.ttf) oblique normal 400 normal>) = 11.05\n",
      "findfont: score(<Font 'DejaVu Sans Mono' (DejaVuSansMono.ttf) normal normal 400 normal>) = 10.05\n",
      "findfont: score(<Font 'DejaVu Sans' (DejaVuSans-Oblique.ttf) oblique normal 400 normal>) = 3.05\n",
      "findfont: score(<Font 'DejaVu Serif' (DejaVuSerif-BoldItalic.ttf) italic normal 700 normal>) = 11.335\n",
      "findfont: score(<Font 'DejaVu Serif' (DejaVuSerif-Italic.ttf) italic normal 400 normal>) = 11.05\n",
      "findfont: score(<Font 'STIXGeneral' (STIXGeneral.ttf) normal normal regular normal>) = 10.05\n",
      "findfont: score(<Font 'cmss10' (cmss10.ttf) normal normal 400 normal>) = 10.05\n",
      "findfont: score(<Font 'STIXSizeFiveSym' (STIXSizFiveSymReg.ttf) normal normal regular normal>) = 10.05\n",
      "findfont: score(<Font 'STIXSizeThreeSym' (STIXSizThreeSymReg.ttf) normal normal regular normal>) = 10.05\n",
      "findfont: score(<Font 'STIXSizeTwoSym' (STIXSizTwoSymReg.ttf) normal normal regular normal>) = 10.05\n",
      "findfont: score(<Font 'DejaVu Sans' (DejaVuSans.ttf) normal normal 400 normal>) = 2.05\n",
      "findfont: score(<Font 'cmtt10' (cmtt10.ttf) normal normal 400 normal>) = 10.05\n",
      "findfont: score(<Font 'cmex10' (cmex10.ttf) normal normal 400 normal>) = 10.05\n",
      "findfont: score(<Font 'STIXNonUnicode' (STIXNonUniIta.ttf) italic normal 400 normal>) = 11.05\n",
      "findfont: score(<Font 'DejaVu Serif Display' (DejaVuSerifDisplay.ttf) normal normal 400 normal>) = 10.05\n",
      "findfont: score(<Font 'STIXNonUnicode' (STIXNonUniBolIta.ttf) italic normal 700 normal>) = 11.335\n",
      "findfont: score(<Font 'DejaVu Sans' (DejaVuSans-Bold.ttf) normal normal 700 normal>) = 2.335\n",
      "findfont: score(<Font 'DejaVu Serif' (DejaVuSerif.ttf) normal normal 400 normal>) = 10.05\n",
      "findfont: score(<Font 'cmmi10' (cmmi10.ttf) normal normal 400 normal>) = 10.05\n",
      "findfont: score(<Font 'STIXNonUnicode' (STIXNonUni.ttf) normal normal regular normal>) = 10.05\n",
      "findfont: score(<Font 'STIXSizeFourSym' (STIXSizFourSymReg.ttf) normal normal regular normal>) = 10.05\n",
      "findfont: score(<Font 'STIXSizeOneSym' (STIXSizOneSymBol.ttf) normal normal 700 normal>) = 10.335\n",
      "findfont: score(<Font 'DejaVu Sans Display' (DejaVuSansDisplay.ttf) normal normal 400 normal>) = 10.05\n",
      "findfont: score(<Font 'DejaVu Sans Mono' (DejaVuSansMono-Bold.ttf) normal normal 700 normal>) = 10.335\n",
      "findfont: score(<Font 'STIXSizeOneSym' (STIXSizOneSymReg.ttf) normal normal regular normal>) = 10.05\n",
      "findfont: score(<Font 'DejaVu Sans' (DejaVuSans-BoldOblique.ttf) oblique normal 700 normal>) = 3.335\n",
      "findfont: score(<Font 'cmsy10' (cmsy10.ttf) normal normal 400 normal>) = 10.05\n",
      "findfont: score(<Font 'STIXSizeFourSym' (STIXSizFourSymBol.ttf) normal normal 700 normal>) = 10.335\n",
      "findfont: score(<Font 'DejaVu Serif' (DejaVuSerif-Bold.ttf) normal normal 700 normal>) = 10.335\n",
      "findfont: score(<Font 'STIXGeneral' (STIXGeneralBol.ttf) normal normal 700 normal>) = 10.335\n",
      "findfont: score(<Font 'STIXSizeTwoSym' (STIXSizTwoSymBol.ttf) normal normal 700 normal>) = 10.335\n",
      "findfont: score(<Font 'STIXSizeThreeSym' (STIXSizThreeSymBol.ttf) normal normal 700 normal>) = 10.335\n",
      "findfont: score(<Font 'DejaVu Sans Mono' (DejaVuSansMono-BoldOblique.ttf) oblique normal 700 normal>) = 11.335\n",
      "findfont: score(<Font 'cmb10' (cmb10.ttf) normal normal 400 normal>) = 10.05\n",
      "findfont: score(<Font 'SWItalc' (switalc.ttf) normal normal 400 normal>) = 10.05\n",
      "findfont: score(<Font 'HoloLens MDL2 Assets' (holomdl2.ttf) normal normal 400 normal>) = 10.05\n",
      "findfont: score(<Font 'Bodoni MT' (BOD_R.TTF) normal normal 400 normal>) = 10.05\n",
      "findfont: score(<Font 'Courant' (COB_____.ttf) normal normal 700 normal>) = 10.335\n",
      "findfont: score(<Font 'Yu Gothic' (YuGothR.ttc) normal normal regular normal>) = 10.05\n",
      "findfont: score(<Font 'SimSun' (simsun.ttc) normal normal 400 normal>) = 10.05\n",
      "findfont: score(<Font 'Jokerman' (JOKERMAN.TTF) normal normal 400 normal>) = 10.05\n",
      "findfont: score(<Font 'Candara' (Candaral.ttf) normal normal light normal>) = 10.24\n",
      "findfont: score(<Font 'Webdings' (webdings.ttf) normal normal 400 normal>) = 10.05\n",
      "findfont: score(<Font 'SWLink' (swlink.ttf) normal normal 400 normal>) = 10.05\n",
      "findfont: score(<Font 'ESSTIXEleven' (ESSTIX11.TTF) normal normal 400 normal>) = 10.05\n",
      "findfont: score(<Font 'SWGrekc' (swgrekc.ttf) normal normal 400 normal>) = 10.05\n",
      "findfont: score(<Font 'Cambria' (cambria.ttc) normal normal 400 normal>) = 10.05\n",
      "findfont: score(<Font 'Tw Cen MT' (TCBI____.TTF) italic normal 700 normal>) = 11.335\n",
      "findfont: score(<Font 'DejaVu Sans' (DejaVuSans-BoldOblique.ttf) oblique normal 700 normal>) = 3.335\n",
      "findfont: score(<Font 'Century Gothic' (GOTHICI.TTF) italic normal 400 normal>) = 11.05\n",
      "findfont: score(<Font 'Bodoni MT' (BOD_BI.TTF) italic normal 700 normal>) = 11.335\n",
      "findfont: score(<Font 'Book Antiqua' (ANTQUAI.TTF) italic normal book normal>) = 11.05\n",
      "findfont: score(<Font 'Lato' (Lato-Black.ttf) normal normal black normal>) = 10.525\n",
      "findfont: score(<Font 'Consolas' (consolai.ttf) italic normal 400 normal>) = 11.05\n",
      "findfont: score(<Font 'Gill Sans MT' (GILI____.TTF) italic normal 400 normal>) = 11.05\n",
      "findfont: score(<Font 'Leelawadee UI' (LeelawUI.ttf) normal normal 400 normal>) = 10.05\n",
      "findfont: score(<Font 'Courier New' (courbi.ttf) italic normal 700 normal>) = 11.335\n",
      "findfont: score(<Font 'Candara' (Candarab.ttf) normal normal 700 normal>) = 10.335\n",
      "findfont: score(<Font 'Century Schoolbook' (SCHLBKB.TTF) normal normal 700 normal>) = 10.335\n",
      "findfont: score(<Font 'Lucida Sans' (LSANSI.TTF) italic normal 400 normal>) = 11.05\n",
      "findfont: score(<Font 'Gloucester MT Extra Condensed' (GLECB.TTF) normal normal 400 condensed>) = 10.25\n",
      "findfont: score(<Font 'Britannic Bold' (BRITANIC.TTF) normal normal bold normal>) = 10.335\n",
      "findfont: score(<Font 'Yu Gothic' (YuGothL.ttc) normal normal light normal>) = 10.24\n",
      "findfont: score(<Font 'Bernard MT Condensed' (BERNHC.TTF) normal normal 400 condensed>) = 10.25\n"
     ]
    },
    {
     "name": "stderr",
     "output_type": "stream",
     "text": [
      "findfont: score(<Font 'Lato' (Lato-Regular.ttf) normal normal regular normal>) = 10.05\n",
      "findfont: score(<Font 'SWGothi' (swgothi.ttf) normal normal 400 normal>) = 10.05\n",
      "findfont: score(<Font 'Kristen ITC' (ITCKRIST.TTF) normal normal 400 normal>) = 10.05\n",
      "findfont: score(<Font 'Segoe UI' (segoeuii.ttf) italic normal 400 normal>) = 11.05\n",
      "findfont: score(<Font 'Consolas' (consola.ttf) normal normal 400 normal>) = 10.05\n",
      "findfont: score(<Font 'SWGDT' (swgdt.ttf) normal normal 400 normal>) = 10.05\n",
      "findfont: score(<Font 'Modern No. 20' (MOD20.TTF) normal normal 400 normal>) = 10.05\n",
      "findfont: score(<Font 'Californian FB' (CALIFI.TTF) italic normal 400 normal>) = 11.05\n",
      "findfont: score(<Font 'Calibri' (calibri.ttf) normal normal 400 normal>) = 10.05\n",
      "findfont: score(<Font 'Franklin Gothic Medium' (framd.ttf) normal normal medium normal>) = 10.145\n",
      "findfont: score(<Font 'Lucida Bright' (LBRITED.TTF) normal normal 700 normal>) = 10.335\n",
      "findfont: score(<Font 'Adobe Myungjo Std' (adobemyungjostd-medium.otf) normal normal 400 normal>) = 10.05\n",
      "findfont: score(<Font 'Franklin Gothic Book' (FRABK.TTF) normal normal book normal>) = 10.05\n",
      "findfont: score(<Font 'Gill Sans MT' (GILB____.TTF) normal normal 700 normal>) = 10.335\n",
      "findfont: score(<Font 'DejaVu Serif' (DejaVuSerif-Bold.ttf) normal normal 700 normal>) = 10.335\n",
      "findfont: score(<Font 'Constantia' (constani.ttf) italic normal 400 normal>) = 11.05\n",
      "findfont: score(<Font 'Adobe Ming Std' (adobemingstd-light.otf) normal normal 400 normal>) = 10.05\n",
      "findfont: score(<Font 'Leelawadee' (LEELAWAD.TTF) normal normal 400 normal>) = 10.05\n",
      "findfont: score(<Font 'ESSTIXThirteen' (ESSTIX13.TTF) normal normal 400 normal>) = 10.05\n",
      "findfont: score(<Font 'Rockwell' (ROCKBI.TTF) italic normal 700 normal>) = 11.335\n",
      "findfont: score(<Font 'MS Gothic' (msgothic.ttc) normal normal 400 normal>) = 10.05\n",
      "findfont: score(<Font 'Bodoni MT' (BOD_I.TTF) italic normal 400 normal>) = 11.05\n",
      "findfont: score(<Font 'Lucida Fax' (LFAXI.TTF) italic normal 400 normal>) = 11.05\n",
      "findfont: score(<Font 'Tempus Sans ITC' (TEMPSITC.TTF) normal normal 400 normal>) = 10.05\n",
      "findfont: score(<Font 'Niagara Solid' (NIAGSOL.TTF) normal normal 400 normal>) = 10.05\n",
      "findfont: score(<Font 'SWIsot3' (swisot3.ttf) normal normal 400 normal>) = 10.05\n",
      "findfont: score(<Font 'Arial' (ARIALNI.TTF) italic normal 400 condensed>) = 1.25\n",
      "findfont: score(<Font 'Copperplate Gothic Light' (COPRGTL.TTF) normal normal light normal>) = 10.24\n",
      "findfont: score(<Font 'DejaVu Serif' (DejaVuSerif-Italic.ttf) italic normal 400 normal>) = 11.05\n",
      "findfont: score(<Font 'Franklin Gothic Medium' (framdit.ttf) italic normal medium normal>) = 11.145\n",
      "findfont: score(<Font 'SWGothg' (swgothg.ttf) normal normal 400 normal>) = 10.05\n",
      "findfont: score(<Font 'Dosis' (Dosis-SemiBold.ttf) normal normal semibold normal>) = 10.24\n",
      "findfont: score(<Font 'Comic Sans MS' (comici.ttf) italic normal 400 normal>) = 11.05\n",
      "findfont: score(<Font 'Gill Sans Ultra Bold Condensed' (GILLUBCD.TTF) normal normal bold condensed>) = 10.535\n",
      "findfont: score(<Font 'Playbill' (PLAYBILL.TTF) normal normal 400 normal>) = 10.05\n",
      "findfont: score(<Font 'Microsoft Uighur' (MSUIGHUB.TTF) normal normal 700 normal>) = 10.335\n",
      "findfont: score(<Font 'Adobe Pi Std' (adobepistd.otf) normal normal 400 normal>) = 10.05\n",
      "findfont: score(<Font 'DejaVu Serif' (DejaVuSerif.ttf) normal normal 400 normal>) = 10.05\n",
      "findfont: score(<Font 'Marlett' (marlett.ttf) normal normal 400 normal>) = 10.05\n",
      "findfont: score(<Font 'Arial' (arial.ttf) normal normal 400 normal>) = 0.05\n",
      "findfont: score(<Font 'Corbel' (corbeli.ttf) italic normal 400 normal>) = 11.05\n",
      "findfont: score(<Font 'SWIsop1' (swisop1.ttf) normal normal 400 normal>) = 10.05\n",
      "findfont: score(<Font 'Brush Script MT' (BRUSHSCI.TTF) italic normal 400 normal>) = 11.05\n",
      "findfont: score(<Font 'Corbel' (corbelz.ttf) italic normal 700 normal>) = 11.335\n",
      "findfont: score(<Font 'Courier Std' (courierstd-boldoblique.otf) oblique normal 700 normal>) = 11.335\n",
      "findfont: score(<Font 'Garamond' (GARAIT.TTF) italic normal 400 normal>) = 11.05\n",
      "findfont: score(<Font 'Helonia' (HEBO____.ttf) italic normal 700 normal>) = 11.335\n",
      "findfont: score(<Font 'DejaVu Sans Mono' (DejaVuSansMono-BoldOblique.ttf) oblique normal 700 normal>) = 11.335\n",
      "findfont: score(<Font 'Calisto MT' (CALISTB.TTF) normal normal 700 normal>) = 10.335\n",
      "findfont: score(<Font 'Times New Roman' (times.ttf) normal normal roman normal>) = 10.145\n",
      "findfont: score(<Font 'ESSTIXTwo' (ESSTIX2_.TTF) normal normal 400 normal>) = 10.05\n",
      "findfont: score(<Font 'Palatino Linotype' (palab.ttf) normal normal 700 normal>) = 10.335\n",
      "findfont: score(<Font 'Onyx' (ONYX.TTF) normal normal 400 normal>) = 10.05\n",
      "findfont: score(<Font 'Harrington' (HARNGTON.TTF) normal normal 400 normal>) = 10.05\n",
      "findfont: score(<Font 'SWAstro' (swastro.ttf) normal normal 400 normal>) = 10.05\n",
      "findfont: score(<Font 'Chiller' (CHILLER.TTF) normal normal 400 normal>) = 10.05\n",
      "findfont: score(<Font 'ESSTIXSeventeen' (ESSTIX17.TTF) normal normal 400 normal>) = 10.05\n",
      "findfont: score(<Font 'Segoe UI Symbol' (seguisym.ttf) normal normal 400 normal>) = 10.05\n",
      "findfont: score(<Font 'Pristina' (PRISTINA.TTF) normal normal 400 normal>) = 10.05\n",
      "findfont: score(<Font 'Gill Sans MT' (GIL_____.TTF) normal normal 400 normal>) = 10.05\n",
      "findfont: score(<Font 'Rage Italic' (RAGE.TTF) italic normal 400 normal>) = 11.05\n",
      "findfont: score(<Font 'ESSTIXTwelve' (ESSTIX12.TTF) normal normal 400 normal>) = 10.05\n",
      "findfont: score(<Font 'Gabriola' (Gabriola.ttf) normal normal 400 normal>) = 10.05\n",
      "findfont: score(<Font 'Mistral' (MISTRAL.TTF) normal normal 400 normal>) = 10.05\n",
      "findfont: score(<Font 'Verdana' (verdanab.ttf) normal normal 700 normal>) = 10.335\n",
      "findfont: score(<Font 'Stencil' (STENCIL.TTF) normal normal 400 normal>) = 10.05\n",
      "findfont: score(<Font 'Rockwell' (ROCKB.TTF) normal normal 700 normal>) = 10.335\n",
      "findfont: score(<Font 'Bauhaus 93' (BAUHS93.TTF) normal normal 400 normal>) = 10.05\n",
      "findfont: score(<Font 'SWMath' (swmath.ttf) normal normal 400 normal>) = 10.05\n",
      "findfont: score(<Font 'Montserrat' (Montserrat-Regular.ttf) normal normal regular normal>) = 10.05\n",
      "findfont: score(<Font 'Impact' (impact.ttf) normal normal 400 normal>) = 10.05\n",
      "findfont: score(<Font 'Californian FB' (CALIFB.TTF) normal normal 700 normal>) = 10.335\n",
      "findfont: score(<Font 'Goudy Old Style' (GOUDOS.TTF) normal normal 400 normal>) = 10.05\n",
      "findfont: score(<Font 'Perpetua Titling MT' (PERTILI.TTF) normal normal light normal>) = 10.24\n",
      "findfont: score(<Font 'Times New Roman' (timesbd.ttf) normal normal 700 normal>) = 10.335\n",
      "findfont: score(<Font 'Arial' (arialbi.ttf) italic normal 700 normal>) = 1.335\n",
      "findfont: score(<Font 'Niagara Engraved' (NIAGENG.TTF) normal normal 400 normal>) = 10.05\n",
      "findfont: score(<Font 'Segoe UI' (segoeuil.ttf) normal normal light normal>) = 10.24\n",
      "findfont: score(<Font 'Bodoni MT' (BOD_CR.TTF) normal normal 400 condensed>) = 10.25\n",
      "findfont: score(<Font 'Book Antiqua' (ANTQUABI.TTF) italic normal 700 normal>) = 11.335\n",
      "findfont: score(<Font 'Microsoft YaHei' (msyhl.ttc) normal normal light normal>) = 10.24\n",
      "findfont: score(<Font 'DejaVu Sans' (DejaVuSansCondensed.ttf) normal normal 400 condensed>) = 2.25\n",
      "findfont: score(<Font 'Helonia' (HEB_____.ttf) normal normal 700 normal>) = 10.335\n",
      "findfont: score(<Font 'ESSTIXThree' (ESSTIX3_.TTF) normal normal 400 normal>) = 10.05\n",
      "findfont: score(<Font 'Cambria' (cambriaz.ttf) italic normal 700 normal>) = 11.335\n",
      "findfont: score(<Font 'Snap ITC' (SNAP____.TTF) normal normal 400 normal>) = 10.05\n",
      "findfont: score(<Font 'Corbel' (corbelli.ttf) italic normal light normal>) = 11.24\n",
      "findfont: score(<Font 'Century' (CENTURY.TTF) normal normal 400 normal>) = 10.05\n",
      "findfont: score(<Font 'DejaVu Serif' (DejaVuSerifCondensed-Italic.ttf) italic normal 400 condensed>) = 11.25\n",
      "findfont: score(<Font 'Haettenschweiler' (HATTEN.TTF) normal normal 400 normal>) = 10.05\n",
      "findfont: score(<Font 'Tahoma' (tahomabd.ttf) normal normal 700 normal>) = 10.335\n",
      "findfont: score(<Font 'Vivaldi' (VIVALDII.TTF) italic normal 400 normal>) = 11.05\n",
      "findfont: score(<Font 'Constantia' (constan.ttf) normal normal 400 normal>) = 10.05\n",
      "findfont: score(<Font 'Maiandra GD' (MAIAN.TTF) normal normal 400 normal>) = 10.05\n",
      "findfont: score(<Font 'Microsoft YaHei' (msyh.ttc) normal normal 400 normal>) = 10.05\n"
     ]
    },
    {
     "name": "stderr",
     "output_type": "stream",
     "text": [
      "findfont: score(<Font 'Eras Bold ITC' (ERASBD.TTF) normal normal bold normal>) = 10.335\n",
      "findfont: score(<Font 'Agency FB' (AGENCYB.TTF) normal normal 700 normal>) = 10.335\n",
      "findfont: score(<Font 'OCR A Extended' (OCRAEXT.TTF) normal normal 400 expanded>) = 10.25\n",
      "findfont: score(<Font 'Gill Sans Ultra Bold' (GILSANUB.TTF) normal normal bold normal>) = 10.335\n",
      "findfont: score(<Font 'Arial' (ARIALNB.TTF) normal normal 700 condensed>) = 0.5349999999999999\n",
      "findfont: score(<Font 'Candara' (Candaraz.ttf) italic normal 700 normal>) = 11.335\n",
      "findfont: score(<Font 'ESSTIXOne' (ESSTIX1_.TTF) normal normal 400 normal>) = 10.05\n",
      "findfont: score(<Font 'DejaVu Sans Mono' (DejaVuSansMono-Bold.ttf) normal normal 700 normal>) = 10.335\n",
      "findfont: score(<Font 'DejaVu Sans' (DejaVuSansCondensed-BoldOblique.ttf) oblique normal 700 condensed>) = 3.535\n",
      "findfont: score(<Font 'Georgia' (georgia.ttf) normal normal 400 normal>) = 10.05\n",
      "findfont: score(<Font 'Bodoni MT' (BOD_CI.TTF) italic normal 400 condensed>) = 11.25\n",
      "findfont: score(<Font 'Courier Std' (courierstd-oblique.otf) oblique normal medium normal>) = 11.145\n",
      "findfont: score(<Font 'Segoe Print' (segoeprb.ttf) normal normal 700 normal>) = 10.335\n",
      "findfont: score(<Font 'Bookman Old Style' (BOOKOSB.TTF) normal normal 700 normal>) = 10.335\n",
      "findfont: score(<Font 'Calisto MT' (CALISTI.TTF) italic normal 400 normal>) = 11.05\n",
      "findfont: score(<Font 'Trebuchet MS' (trebucit.ttf) italic normal 400 normal>) = 11.05\n",
      "findfont: score(<Font 'Baskerville Old Face' (BASKVILL.TTF) normal normal 400 normal>) = 10.05\n",
      "findfont: score(<Font 'DejaVu Sans Mono' (DejaVuSansMono-Oblique.ttf) oblique normal 400 normal>) = 11.05\n",
      "findfont: score(<Font 'Sitka Small' (SitkaZ.ttc) italic normal 700 normal>) = 11.335\n",
      "findfont: score(<Font 'Calibri' (calibrili.ttf) italic normal light normal>) = 11.24\n",
      "findfont: score(<Font 'Sitka Small' (SitkaI.ttc) italic normal 400 normal>) = 11.05\n",
      "findfont: score(<Font 'Corbel' (corbelb.ttf) normal normal 700 normal>) = 10.335\n",
      "findfont: score(<Font 'Microsoft Uighur' (MSUIGHUR.TTF) normal normal 400 normal>) = 10.05\n",
      "findfont: score(<Font 'SWItalt' (switalt.ttf) normal normal 400 normal>) = 10.05\n",
      "findfont: score(<Font 'SymbolPi' (SYP_____.ttf) normal normal normal normal>) = 10.0\n",
      "findfont: score(<Font 'Book Antiqua' (ANTQUAB.TTF) normal normal 700 normal>) = 10.335\n",
      "findfont: score(<Font 'DejaVu Serif' (DejaVuSerif-BoldItalic.ttf) italic normal 700 normal>) = 11.335\n",
      "findfont: score(<Font 'Sylfaen' (sylfaen.ttf) normal normal 400 normal>) = 10.05\n",
      "findfont: score(<Font 'Bookman Old Style' (BOOKOSI.TTF) italic normal book normal>) = 11.05\n",
      "findfont: score(<Font 'Ravie' (RAVIE.TTF) normal normal 400 normal>) = 10.05\n",
      "findfont: score(<Font 'Segoe UI Emoji' (seguiemj.ttf) normal normal 400 normal>) = 10.05\n",
      "findfont: score(<Font 'Perpetua' (PERBI___.TTF) italic normal 700 normal>) = 11.335\n",
      "findfont: score(<Font 'Lucida Fax' (LFAXDI.TTF) italic normal 700 normal>) = 11.335\n",
      "findfont: score(<Font 'SWSimp' (swsimp.ttf) normal normal 400 normal>) = 10.05\n",
      "findfont: score(<Font 'Microsoft Himalaya' (himalaya.ttf) normal normal 400 normal>) = 10.05\n",
      "findfont: score(<Font 'Courant' (CON_____.ttf) normal normal 400 normal>) = 10.05\n",
      "findfont: score(<Font 'Edwardian Script ITC' (ITCEDSCR.TTF) normal normal 400 normal>) = 10.05\n",
      "findfont: score(<Font 'ESSTIXFive' (ESSTIX5_.TTF) normal normal 400 normal>) = 10.05\n",
      "findfont: score(<Font 'Palatino Linotype' (palabi.ttf) italic normal 700 normal>) = 11.335\n",
      "findfont: score(<Font 'Segoe UI' (seguili.ttf) italic normal light normal>) = 11.24\n",
      "findfont: score(<Font 'Microsoft New Tai Lue' (ntailu.ttf) normal normal 400 normal>) = 10.05\n",
      "findfont: score(<Font 'Dubai' (DUBAI-BOLD.TTF) normal normal 700 normal>) = 10.335\n",
      "findfont: score(<Font 'Tw Cen MT' (TCB_____.TTF) normal normal 700 normal>) = 10.335\n",
      "findfont: score(<Font 'Myanmar Text' (mmrtextb.ttf) normal normal 700 normal>) = 10.335\n",
      "findfont: score(<Font 'ESSTIXSeven' (ESSTIX7_.TTF) normal normal 400 normal>) = 10.05\n",
      "findfont: score(<Font 'Lucida Sans Typewriter' (LTYPE.TTF) normal normal regular normal>) = 10.05\n",
      "findfont: score(<Font 'Comic Sans MS' (comic.ttf) normal normal 400 normal>) = 10.05\n",
      "findfont: score(<Font 'Century Gothic' (GOTHICBI.TTF) italic normal 700 normal>) = 11.335\n",
      "findfont: score(<Font 'Old English Text MT' (OLDENGL.TTF) normal normal 400 normal>) = 10.05\n",
      "findfont: score(<Font 'Myriad CAD' (myriadcad.otf) normal normal 400 normal>) = 10.05\n",
      "findfont: score(<Font 'Calisto MT' (CALISTBI.TTF) italic normal 700 normal>) = 11.335\n",
      "findfont: score(<Font 'Elephant' (ELEPHNTI.TTF) italic normal 400 normal>) = 11.05\n",
      "findfont: score(<Font 'SWTxt' (swtxt.ttf) normal normal 400 normal>) = 10.05\n",
      "findfont: score(<Font 'Lucida Sans Typewriter' (LTYPEBO.TTF) oblique normal 700 normal>) = 11.335\n",
      "findfont: score(<Font 'Monotype Corsiva' (MTCORSVA.TTF) normal normal 400 normal>) = 10.05\n",
      "findfont: score(<Font 'Wide Latin' (LATINWD.TTF) normal normal 400 expanded>) = 10.25\n",
      "findfont: score(<Font 'MV Boli' (mvboli.ttf) normal normal 400 normal>) = 10.05\n",
      "findfont: score(<Font 'Berlin Sans FB' (BRLNSB.TTF) normal normal 700 normal>) = 10.335\n",
      "findfont: score(<Font 'Georgia' (georgiai.ttf) italic normal 400 normal>) = 11.05\n",
      "findfont: score(<Font 'Garamond' (GARABD.TTF) normal normal 700 normal>) = 10.335\n",
      "findfont: score(<Font 'MaplePi' (MaplePi.ttf) normal normal 400 normal>) = 10.05\n",
      "findfont: score(<Font 'Constantia' (constanz.ttf) italic normal 700 normal>) = 11.335\n",
      "findfont: score(<Font 'Perpetua' (PERI____.TTF) italic normal 400 normal>) = 11.05\n",
      "findfont: score(<Font 'Bodoni MT' (BOD_CB.TTF) normal normal 700 condensed>) = 10.535\n",
      "findfont: score(<Font 'Bodoni MT' (BOD_CBI.TTF) italic normal 700 condensed>) = 11.535\n",
      "findfont: score(<Font 'Century Schoolbook' (CENSCBK.TTF) normal normal book normal>) = 10.05\n",
      "findfont: score(<Font 'Footlight MT Light' (FTLTLT.TTF) normal normal light normal>) = 10.24\n",
      "findfont: score(<Font 'ESSTIXSixteen' (ESSTIX16.TTF) normal normal 400 normal>) = 10.05\n",
      "findfont: score(<Font 'Microsoft JhengHei' (msjhl.ttc) normal normal light normal>) = 10.24\n",
      "findfont: score(<Font 'Bookshelf Symbol 7' (BSSYM7.TTF) normal normal book normal>) = 10.05\n",
      "findfont: score(<Font 'Lucida Fax' (LFAXD.TTF) normal normal 700 normal>) = 10.335\n",
      "findfont: score(<Font 'Blackadder ITC' (ITCBLKAD.TTF) normal normal black normal>) = 10.525\n",
      "findfont: score(<Font 'Consolas' (consolaz.ttf) italic normal 700 normal>) = 11.335\n",
      "findfont: score(<Font 'Myanmar Text' (mmrtext.ttf) normal normal 400 normal>) = 10.05\n",
      "findfont: score(<Font 'Franklin Gothic Book' (FRABKIT.TTF) italic normal book normal>) = 11.05\n",
      "findfont: score(<Font 'SWGothe' (swgothe.ttf) normal normal 400 normal>) = 10.05\n",
      "findfont: score(<Font 'Vladimir Script' (VLADIMIR.TTF) normal normal 400 normal>) = 10.05\n",
      "findfont: score(<Font 'Segoe UI Historic' (seguihis.ttf) normal normal 400 normal>) = 10.05\n",
      "findfont: score(<Font 'DejaVu Sans' (DejaVuSans-Bold.ttf) normal normal 700 normal>) = 2.335\n",
      "findfont: score(<Font 'DejaVu Sans' (DejaVuSans-Oblique.ttf) oblique normal 400 normal>) = 3.05\n",
      "findfont: score(<Font 'Segoe UI' (seguibli.ttf) italic normal black normal>) = 11.525\n",
      "findfont: score(<Font 'MingLiU-ExtB' (mingliub.ttc) normal normal 400 normal>) = 10.05\n",
      "findfont: score(<Font 'Lucida Sans' (LSANS.TTF) normal normal regular normal>) = 10.05\n",
      "findfont: score(<Font 'Lucida Sans' (LSANSDI.TTF) italic normal 700 normal>) = 11.335\n",
      "findfont: score(<Font 'Garamond' (GARA.TTF) normal normal 400 normal>) = 10.05\n",
      "findfont: score(<Font 'Perpetua Titling MT' (PERTIBD.TTF) normal normal 700 normal>) = 10.335\n",
      "findfont: score(<Font 'Goudy Old Style' (GOUDOSI.TTF) italic normal 400 normal>) = 11.05\n",
      "findfont: score(<Font 'DejaVu Serif' (DejaVuSerifCondensed.ttf) normal normal 400 condensed>) = 10.25\n",
      "findfont: score(<Font 'Georgia' (georgiab.ttf) normal normal 700 normal>) = 10.335\n",
      "findfont: score(<Font 'Segoe UI' (segoeuiz.ttf) italic normal 700 normal>) = 11.335\n",
      "findfont: score(<Font 'Bell MT' (BELLI.TTF) italic normal 400 normal>) = 11.05\n",
      "findfont: score(<Font '3ds' (3ds Light.otf) normal normal light normal>) = 10.24\n",
      "findfont: score(<Font 'SWIsot2' (swisot2.ttf) normal normal 400 normal>) = 10.05\n",
      "findfont: score(<Font 'Bodoni MT' (BOD_BLAR.TTF) normal normal black normal>) = 10.525\n"
     ]
    },
    {
     "name": "stderr",
     "output_type": "stream",
     "text": [
      "findfont: score(<Font 'Microsoft PhagsPa' (phagspa.ttf) normal normal 400 normal>) = 10.05\n",
      "findfont: score(<Font 'Magneto' (MAGNETOB.TTF) normal normal 700 normal>) = 10.335\n",
      "findfont: score(<Font 'Copperplate Gothic Bold' (COPRGTB.TTF) normal normal bold normal>) = 10.335\n",
      "findfont: score(<Font 'Eras Medium ITC' (ERASMD.TTF) normal normal medium normal>) = 10.145\n",
      "findfont: score(<Font 'Segoe UI' (seguisli.ttf) italic normal light normal>) = 11.24\n",
      "findfont: score(<Font 'Calibri' (calibriz.ttf) italic normal 700 normal>) = 11.335\n",
      "findfont: score(<Font 'Corbel' (corbel.ttf) normal normal 400 normal>) = 10.05\n",
      "findfont: score(<Font 'Thames' (THBI____.ttf) italic normal 700 normal>) = 11.335\n",
      "findfont: score(<Font 'Ebrima' (ebrimabd.ttf) normal normal 700 normal>) = 10.335\n",
      "findfont: score(<Font 'Eras Light ITC' (ERASLGHT.TTF) normal normal light normal>) = 10.24\n",
      "findfont: score(<Font 'Rockwell Condensed' (ROCCB___.TTF) normal normal 700 condensed>) = 10.535\n",
      "findfont: score(<Font 'Freestyle Script' (FREESCPT.TTF) normal normal 400 normal>) = 10.05\n",
      "findfont: score(<Font 'French Script MT' (FRSCRIPT.TTF) normal normal 400 normal>) = 10.05\n",
      "findfont: score(<Font 'Thames' (THB_____.ttf) normal normal 700 normal>) = 10.335\n",
      "findfont: score(<Font 'Gill Sans MT' (GILBI___.TTF) italic normal 700 normal>) = 11.335\n",
      "findfont: score(<Font 'Arial' (ARIALN.TTF) normal normal 400 condensed>) = 0.25\n",
      "findfont: score(<Font 'SWMusic' (swmusic.ttf) normal normal 400 normal>) = 10.05\n",
      "findfont: score(<Font 'Arial' (ARIALNBI.TTF) italic normal 700 condensed>) = 1.535\n",
      "findfont: score(<Font 'DejaVu Sans' (DejaVuSans.ttf) normal normal 400 normal>) = 2.05\n",
      "findfont: score(<Font 'ESSTIXEight' (ESSTIX8_.TTF) normal normal 400 normal>) = 10.05\n",
      "findfont: score(<Font 'Curlz MT' (CURLZ___.TTF) normal normal 400 normal>) = 10.05\n",
      "findfont: score(<Font 'Segoe Print' (segoepr.ttf) normal normal 400 normal>) = 10.05\n",
      "findfont: score(<Font 'Dubai' (DUBAI-LIGHT.TTF) normal normal light normal>) = 10.24\n",
      "findfont: score(<Font 'Perpetua' (PER_____.TTF) normal normal 400 normal>) = 10.05\n",
      "findfont: score(<Font 'Wingdings' (wingding.ttf) normal normal 400 normal>) = 10.05\n",
      "findfont: score(<Font 'ESSTIXFifteen' (ESSTIX15.TTF) normal normal 400 normal>) = 10.05\n",
      "findfont: score(<Font 'Eras Demi ITC' (ERASDEMI.TTF) normal normal demi normal>) = 10.24\n",
      "findfont: score(<Font 'Tw Cen MT Condensed Extra Bold' (TCCEB.TTF) normal normal bold condensed>) = 10.535\n",
      "findfont: score(<Font 'SimSun-ExtB' (simsunb.ttf) normal normal 400 normal>) = 10.05\n",
      "findfont: score(<Font 'Bahnschrift' (bahnschrift.ttf) normal normal 400 normal>) = 10.05\n",
      "findfont: score(<Font 'Lucida Fax' (LFAX.TTF) normal normal regular normal>) = 10.05\n",
      "findfont: score(<Font 'Verdana' (verdana.ttf) normal normal 400 normal>) = 10.05\n",
      "findfont: score(<Font 'Goudy Old Style' (GOUDOSB.TTF) normal normal 700 normal>) = 10.335\n",
      "findfont: score(<Font 'Broadway' (BROADW.TTF) normal normal 400 normal>) = 10.05\n",
      "findfont: score(<Font 'Candara' (Candara.ttf) normal normal 400 normal>) = 10.05\n",
      "findfont: score(<Font 'Bodoni MT' (BOD_PSTC.TTF) normal normal 400 normal>) = 10.05\n",
      "findfont: score(<Font 'Lato' (Lato-Bold.ttf) normal normal 700 normal>) = 10.335\n",
      "findfont: score(<Font 'Thames' (THI_____.ttf) italic normal 400 normal>) = 11.05\n",
      "findfont: score(<Font 'Arial' (ariali.ttf) italic normal 400 normal>) = 1.05\n",
      "findfont: score(<Font 'Berlin Sans FB' (BRLNSR.TTF) normal normal 400 normal>) = 10.05\n",
      "findfont: score(<Font 'Segoe UI' (segoeuib.ttf) normal normal 700 normal>) = 10.335\n",
      "findfont: score(<Font 'Courier New' (courbd.ttf) normal normal 700 normal>) = 10.335\n",
      "findfont: score(<Font 'Lucida Sans Unicode' (l_10646.ttf) normal normal 400 normal>) = 10.05\n",
      "findfont: score(<Font 'Agency FB' (AGENCYR.TTF) normal normal 400 normal>) = 10.05\n",
      "findfont: score(<Font 'Gigi' (GIGI.TTF) normal normal 400 normal>) = 10.05\n",
      "findfont: score(<Font 'Courier New' (couri.ttf) italic normal 400 normal>) = 11.05\n",
      "findfont: score(<Font 'Showcard Gothic' (SHOWG.TTF) normal normal 400 normal>) = 10.05\n",
      "findfont: score(<Font 'Arial' (ariblk.ttf) normal normal black normal>) = 0.525\n",
      "findfont: score(<Font 'DejaVu Sans' (DejaVuSans-ExtraLight.ttf) normal normal light normal>) = 2.24\n",
      "findfont: score(<Font 'Cambria' (cambriai.ttf) italic normal 400 normal>) = 11.05\n",
      "findfont: score(<Font 'Kozuka Mincho Pr6N' (kozminpr6n-regular.otf) normal normal 400 normal>) = 10.05\n",
      "findfont: score(<Font 'Segoe UI' (seguisb.ttf) normal normal semibold normal>) = 10.24\n",
      "findfont: score(<Font 'Wingdings 2' (WINGDNG2.TTF) normal normal 400 normal>) = 10.05\n",
      "findfont: score(<Font 'Microsoft Tai Le' (taile.ttf) normal normal 400 normal>) = 10.05\n",
      "findfont: score(<Font 'DejaVu Sans' (DejaVuSansCondensed-Oblique.ttf) oblique normal 400 condensed>) = 3.25\n",
      "findfont: score(<Font 'Malgun Gothic' (malgunbd.ttf) normal normal 700 normal>) = 10.335\n",
      "findfont: score(<Font 'Franklin Gothic Heavy' (FRAHV.TTF) normal normal heavy normal>) = 10.43\n",
      "findfont: score(<Font 'Californian FB' (CALIFR.TTF) normal normal 400 normal>) = 10.05\n",
      "findfont: score(<Font 'SWMap' (swmap.ttf) normal normal 400 normal>) = 10.05\n",
      "findfont: score(<Font 'Lucida Calligraphy' (LCALLIG.TTF) italic normal 400 normal>) = 11.05\n",
      "findfont: score(<Font 'Rockwell' (ROCKI.TTF) italic normal 400 normal>) = 11.05\n",
      "findfont: score(<Font 'Adobe Song Std' (adobesongstd-light.otf) normal normal 400 normal>) = 10.05\n",
      "findfont: score(<Font 'Courier New' (cour.ttf) normal normal 400 normal>) = 10.05\n",
      "findfont: score(<Font 'ESSTIXSix' (ESSTIX6_.TTF) normal normal 400 normal>) = 10.05\n",
      "findfont: score(<Font 'Arial Rounded MT Bold' (ARLRDBD.TTF) normal normal bold normal>) = 10.335\n",
      "findfont: score(<Font 'Tahoma' (tahoma.ttf) normal normal 400 normal>) = 10.05\n",
      "findfont: score(<Font 'Segoe UI' (seguisbi.ttf) italic normal semibold normal>) = 11.24\n",
      "findfont: score(<Font 'Microsoft Tai Le' (taileb.ttf) normal normal 700 normal>) = 10.335\n",
      "findfont: score(<Font 'SWScrps' (swscrps.ttf) normal normal 400 normal>) = 10.05\n",
      "findfont: score(<Font 'OLF SimpleSansOC' (olfsimplesansoc-regular.ttf) normal normal regular normal>) = 10.05\n",
      "findfont: score(<Font 'Candara' (Candarali.ttf) italic normal light normal>) = 11.24\n",
      "findfont: score(<Font 'Rockwell Extra Bold' (ROCKEB.TTF) normal normal bold normal>) = 10.335\n",
      "findfont: score(<Font 'ESSTIXFour' (ESSTIX4_.TTF) normal normal 400 normal>) = 10.05\n",
      "findfont: score(<Font 'Georgia' (georgiaz.ttf) italic normal 700 normal>) = 11.335\n",
      "findfont: score(<Font 'Bradley Hand ITC' (BRADHITC.TTF) normal normal 400 normal>) = 10.05\n",
      "findfont: score(<Font 'Lucida Sans Typewriter' (LTYPEO.TTF) oblique normal 400 normal>) = 11.05\n",
      "findfont: score(<Font 'Lucida Bright' (LBRITEI.TTF) italic normal 400 normal>) = 11.05\n",
      "findfont: score(<Font 'Malgun Gothic' (malgun.ttf) normal normal 400 normal>) = 10.05\n",
      "findfont: score(<Font 'Bookman Old Style' (BOOKOSBI.TTF) italic normal 700 normal>) = 11.335\n",
      "findfont: score(<Font 'Lucida Console' (lucon.ttf) normal normal 400 normal>) = 10.05\n",
      "findfont: score(<Font 'Viner Hand ITC' (VINERITC.TTF) normal normal 400 normal>) = 10.05\n",
      "findfont: score(<Font 'Verdana' (verdanai.ttf) italic normal 400 normal>) = 11.05\n",
      "findfont: score(<Font 'Symbol' (symbol.ttf) normal normal 400 normal>) = 10.05\n",
      "findfont: score(<Font 'Microsoft Yi Baiti' (msyi.ttf) normal normal 400 normal>) = 10.05\n",
      "findfont: score(<Font 'Colonna MT' (COLONNA.TTF) normal normal 400 normal>) = 10.05\n",
      "findfont: score(<Font 'DejaVu Serif' (DejaVuSerifCondensed-BoldItalic.ttf) italic normal 700 condensed>) = 11.535\n",
      "findfont: score(<Font 'Matura MT Script Capitals' (MATURASC.TTF) normal normal 400 normal>) = 10.05\n",
      "findfont: score(<Font 'Kunstler Script' (KUNSTLER.TTF) normal normal 400 normal>) = 10.05\n",
      "findfont: score(<Font 'ESSTIXNine' (ESSTIX9_.TTF) normal normal 400 normal>) = 10.05\n",
      "findfont: score(<Font 'Ebrima' (ebrima.ttf) normal normal 400 normal>) = 10.05\n",
      "findfont: score(<Font 'Segoe UI' (segoeuisl.ttf) normal normal light normal>) = 10.24\n",
      "findfont: score(<Font 'Comic Sans MS' (comicbd.ttf) normal normal 700 normal>) = 10.335\n",
      "findfont: score(<Font 'Yu Gothic' (YuGothB.ttc) normal normal 700 normal>) = 10.335\n",
      "findfont: score(<Font 'Segoe UI' (seguibl.ttf) normal normal black normal>) = 10.525\n"
     ]
    },
    {
     "name": "stderr",
     "output_type": "stream",
     "text": [
      "findfont: score(<Font 'SWComp' (swcomp.ttf) normal normal 400 normal>) = 10.05\n",
      "findfont: score(<Font 'Lucida Handwriting' (LHANDW.TTF) italic normal 400 normal>) = 11.05\n",
      "findfont: score(<Font 'Leelawadee UI' (LeelaUIb.ttf) normal normal 700 normal>) = 10.335\n",
      "findfont: score(<Font 'ESSTIXTen' (ESSTIX10.TTF) normal normal 400 normal>) = 10.05\n",
      "findfont: score(<Font 'Candara' (Candarai.ttf) italic normal 400 normal>) = 11.05\n",
      "findfont: score(<Font 'Helonia' (HEO_____.ttf) italic normal 400 normal>) = 11.05\n",
      "findfont: score(<Font 'Cooper Black' (COOPBL.TTF) normal normal black normal>) = 10.525\n",
      "findfont: score(<Font 'Thames' (THR_____.ttf) normal normal 400 normal>) = 10.05\n",
      "findfont: score(<Font 'Lucida Sans Typewriter' (LTYPEB.TTF) normal normal 700 normal>) = 10.335\n",
      "findfont: score(<Font 'Elephant' (ELEPHNT.TTF) normal normal 400 normal>) = 10.05\n",
      "findfont: score(<Font 'Gill Sans MT Ext Condensed Bold' (GLSNECB.TTF) normal normal bold condensed>) = 10.535\n",
      "findfont: score(<Font 'SWMeteo' (swmeteo.ttf) normal normal 400 normal>) = 10.05\n",
      "findfont: score(<Font 'Gill Sans MT Condensed' (GILC____.TTF) normal normal 400 condensed>) = 10.25\n",
      "findfont: score(<Font 'Segoe Script' (segoescb.ttf) normal normal 700 normal>) = 10.335\n",
      "findfont: score(<Font 'High Tower Text' (HTOWERTI.TTF) italic normal 400 normal>) = 11.05\n",
      "findfont: score(<Font 'Rockwell' (ROCK.TTF) normal normal 400 normal>) = 10.05\n",
      "findfont: score(<Font 'Leelawadee UI' (LeelUIsl.ttf) normal normal light normal>) = 10.24\n",
      "findfont: score(<Font 'Lucida Sans' (LSANSD.TTF) normal normal 700 normal>) = 10.335\n",
      "findfont: score(<Font 'DejaVu Serif' (DejaVuSerifCondensed-Bold.ttf) normal normal 700 condensed>) = 10.535\n",
      "findfont: score(<Font 'Helonia' (HEN_____.ttf) normal normal 400 normal>) = 10.05\n",
      "findfont: score(<Font 'SWRomnt' (swromnt.ttf) normal normal 400 normal>) = 10.05\n",
      "findfont: score(<Font 'DejaVu Sans Mono' (DejaVuSansMono.ttf) normal normal 400 normal>) = 10.05\n",
      "findfont: score(<Font 'Source Sans Pro' (SourceSansPro-Semibold.ttf) normal normal semibold normal>) = 10.24\n",
      "findfont: score(<Font 'Nirmala UI' (NirmalaB.ttf) normal normal 700 normal>) = 10.335\n",
      "findfont: score(<Font 'Century Schoolbook' (SCHLBKI.TTF) italic normal book normal>) = 11.05\n",
      "findfont: score(<Font 'Calibri' (calibrib.ttf) normal normal 700 normal>) = 10.335\n",
      "findfont: score(<Font 'Centaur' (CENTAUR.TTF) normal normal 400 normal>) = 10.05\n",
      "findfont: score(<Font 'Franklin Gothic Medium Cond' (FRAMDCN.TTF) normal normal medium condensed>) = 10.344999999999999\n",
      "findfont: score(<Font 'Corbel' (corbell.ttf) normal normal light normal>) = 10.24\n",
      "findfont: score(<Font 'Gadugi' (gadugib.ttf) normal normal 700 normal>) = 10.335\n",
      "findfont: score(<Font 'MS Outlook' (OUTLOOK.TTF) normal normal 400 normal>) = 10.05\n",
      "findfont: score(<Font 'Castellar' (CASTELAR.TTF) normal normal 400 normal>) = 10.05\n",
      "findfont: score(<Font 'Microsoft JhengHei' (msjhbd.ttc) normal normal 700 normal>) = 10.335\n",
      "findfont: score(<Font 'Franklin Gothic Demi' (FRADMIT.TTF) italic normal demi normal>) = 11.24\n",
      "findfont: score(<Font 'Imprint MT Shadow' (IMPRISHA.TTF) normal normal 400 normal>) = 10.05\n",
      "findfont: score(<Font 'Sitka Small' (SitkaB.ttc) normal normal 700 normal>) = 10.335\n",
      "findfont: score(<Font 'Engravers MT' (ENGR.TTF) normal normal 400 normal>) = 10.05\n",
      "findfont: score(<Font 'HYSWLongFangSong' (hyswlongfangsong.ttf) normal normal 400 normal>) = 10.05\n",
      "findfont: score(<Font 'MS Reference Sans Serif' (REFSAN.TTF) normal normal 400 normal>) = 10.05\n",
      "findfont: score(<Font 'Segoe UI' (segoeui.ttf) normal normal 400 normal>) = 10.05\n",
      "findfont: score(<Font 'Goudy Stout' (GOUDYSTO.TTF) normal normal 400 normal>) = 10.05\n",
      "findfont: score(<Font 'Malgun Gothic' (malgunsl.ttf) normal normal light normal>) = 10.24\n",
      "findfont: score(<Font 'Source Sans Pro' (SourceSansPro-Black.otf) normal normal black normal>) = 10.525\n",
      "findfont: score(<Font 'Dubai' (DUBAI-MEDIUM.TTF) normal normal medium normal>) = 10.145\n",
      "findfont: score(<Font 'Calibri' (calibrii.ttf) italic normal 400 normal>) = 11.05\n",
      "findfont: score(<Font 'Ink Free' (Inkfree.ttf) normal normal 400 normal>) = 10.05\n",
      "findfont: score(<Font 'DejaVu Sans' (DejaVuSansCondensed-Bold.ttf) normal normal 700 condensed>) = 2.535\n",
      "findfont: score(<Font 'Microsoft JhengHei' (msjh.ttc) normal normal 400 normal>) = 10.05\n",
      "findfont: score(<Font 'Times New Roman' (timesi.ttf) italic normal roman normal>) = 11.145\n",
      "findfont: score(<Font 'Juice ITC' (JUICE___.TTF) normal normal 400 normal>) = 10.05\n",
      "findfont: score(<Font 'Berlin Sans FB Demi' (BRLNSDB.TTF) normal normal 700 normal>) = 10.335\n",
      "findfont: score(<Font 'Comic Sans MS' (comicz.ttf) italic normal 700 normal>) = 11.335\n",
      "findfont: score(<Font 'Parchment' (PARCHM.TTF) normal normal 400 normal>) = 10.05\n",
      "findfont: score(<Font 'Bookman Old Style' (BOOKOS.TTF) normal normal book normal>) = 10.05\n",
      "findfont: score(<Font 'Algerian' (ALGER.TTF) normal normal 400 normal>) = 10.05\n",
      "findfont: score(<Font 'Microsoft Sans Serif' (micross.ttf) normal normal 400 normal>) = 10.05\n",
      "findfont: score(<Font 'Wingdings 3' (WINGDNG3.TTF) normal normal 400 normal>) = 10.05\n",
      "findfont: score(<Font 'Calibri' (calibril.ttf) normal normal light normal>) = 10.24\n",
      "findfont: score(<Font 'SWRomnd' (swromnd.ttf) normal normal 400 normal>) = 10.05\n",
      "findfont: score(<Font 'Franklin Gothic Heavy' (FRAHVIT.TTF) italic normal heavy normal>) = 11.43\n",
      "findfont: score(<Font 'Trebuchet MS' (trebucbi.ttf) italic normal 700 normal>) = 11.335\n",
      "findfont: score(<Font 'Bell MT' (BELLB.TTF) normal normal 700 normal>) = 10.335\n",
      "findfont: score(<Font 'Nirmala UI' (Nirmala.ttf) normal normal 400 normal>) = 10.05\n",
      "findfont: score(<Font 'Segoe Script' (segoesc.ttf) normal normal 400 normal>) = 10.05\n",
      "findfont: score(<Font 'MaplePi' (MP______.ttf) normal normal 400 normal>) = 10.05\n",
      "findfont: score(<Font 'Bodoni MT' (BOD_B.TTF) normal normal 700 normal>) = 10.335\n",
      "findfont: score(<Font 'Century Schoolbook' (SCHLBKBI.TTF) italic normal 700 normal>) = 11.335\n",
      "findfont: score(<Font 'MT Extra' (MTEXTRA.TTF) normal normal 400 normal>) = 10.05\n",
      "findfont: score(<Font 'Oswald' (Oswald-Regular.ttf) normal normal regular normal>) = 10.05\n",
      "findfont: score(<Font 'SWIsop3' (swisop3.ttf) normal normal 400 normal>) = 10.05\n",
      "findfont: score(<Font 'SWMono' (swmono.ttf) normal normal 400 normal>) = 10.05\n",
      "findfont: score(<Font 'Microsoft PhagsPa' (phagspab.ttf) normal normal 700 normal>) = 10.335\n",
      "findfont: score(<Font 'Century Gothic' (Gothic.ttf) normal normal 400 normal>) = 10.05\n",
      "findfont: score(<Font 'Franklin Gothic Demi' (FRADM.TTF) normal normal demi normal>) = 10.24\n",
      "findfont: score(<Font 'Javanese Text' (javatext.ttf) normal normal 400 normal>) = 10.05\n",
      "findfont: score(<Font 'Times New Roman' (timesbi.ttf) italic normal 700 normal>) = 11.335\n",
      "findfont: score(<Font 'Microsoft YaHei' (msyhbd.ttc) normal normal 700 normal>) = 10.335\n",
      "findfont: score(<Font 'SWScrpc' (swscrpc.ttf) normal normal 400 normal>) = 10.05\n",
      "findfont: score(<Font 'Microsoft New Tai Lue' (ntailub.ttf) normal normal 700 normal>) = 10.335\n",
      "findfont: score(<Font 'SWItal' (swital.ttf) normal normal 400 normal>) = 10.05\n",
      "findfont: score(<Font 'Courant' (COO_____.ttf) italic normal 400 normal>) = 11.05\n",
      "findfont: score(<Font 'Cambria' (cambriab.ttf) normal normal 700 normal>) = 10.335\n",
      "findfont: score(<Font 'Palatino Linotype' (palai.ttf) italic normal 400 normal>) = 11.05\n",
      "findfont: score(<Font 'Segoe MDL2 Assets' (segmdl2.ttf) normal normal 400 normal>) = 10.05\n",
      "findfont: score(<Font 'Century Gothic' (GOTHICB.TTF) normal normal 700 normal>) = 10.335\n",
      "findfont: score(<Font 'Courier Std' (courierstd.otf) normal normal medium normal>) = 10.145\n",
      "findfont: score(<Font 'Rockwell Condensed' (ROCC____.TTF) normal normal 400 condensed>) = 10.25\n",
      "findfont: score(<Font 'Forte' (FORTE.TTF) normal normal 400 normal>) = 10.05\n",
      "findfont: score(<Font 'Calisto MT' (CALIST.TTF) normal normal 400 normal>) = 10.05\n",
      "findfont: score(<Font 'Perpetua' (PERB____.TTF) normal normal 700 normal>) = 10.335\n",
      "findfont: score(<Font 'MS Reference Specialty' (REFSPCL.TTF) normal normal 400 normal>) = 10.05\n",
      "findfont: score(<Font 'SWRomnc' (swromnc.ttf) normal normal 400 normal>) = 10.05\n",
      "findfont: score(<Font 'Trebuchet MS' (trebuc.ttf) normal normal 400 normal>) = 10.05\n"
     ]
    },
    {
     "name": "stderr",
     "output_type": "stream",
     "text": [
      "findfont: score(<Font 'Informal Roman' (INFROMAN.TTF) normal normal roman normal>) = 10.145\n",
      "findfont: score(<Font 'SWGreks' (swgreks.ttf) normal normal 400 normal>) = 10.05\n",
      "findfont: score(<Font 'Lucida Bright' (LBRITE.TTF) normal normal 400 normal>) = 10.05\n",
      "findfont: score(<Font 'SWIsot1' (swisot1.ttf) normal normal 400 normal>) = 10.05\n",
      "findfont: score(<Font 'Nirmala UI' (NirmalaS.ttf) normal normal light normal>) = 10.24\n",
      "findfont: score(<Font 'Felix Titling' (FELIXTI.TTF) normal normal 400 normal>) = 10.05\n",
      "findfont: score(<Font 'Yu Gothic' (YuGothM.ttc) normal normal medium normal>) = 10.145\n",
      "findfont: score(<Font 'Courant' (COBO____.ttf) italic normal 700 normal>) = 11.335\n",
      "findfont: score(<Font 'Palace Script MT' (PALSCRI.TTF) normal normal 400 normal>) = 10.05\n",
      "findfont: score(<Font 'Tw Cen MT Condensed' (TCCM____.TTF) normal normal 400 condensed>) = 10.25\n",
      "findfont: score(<Font 'SWIsop2' (swisop2.ttf) normal normal 400 normal>) = 10.05\n",
      "findfont: score(<Font 'Palatino Linotype' (pala.ttf) normal normal 400 normal>) = 10.05\n",
      "findfont: score(<Font 'Mongolian Baiti' (monbaiti.ttf) normal normal 400 normal>) = 10.05\n",
      "findfont: score(<Font 'High Tower Text' (HTOWERT.TTF) normal normal 400 normal>) = 10.05\n",
      "findfont: score(<Font 'Poor Richard' (POORICH.TTF) normal normal 400 normal>) = 10.05\n",
      "findfont: score(<Font 'Lucida Bright' (LBRITEDI.TTF) italic normal 700 normal>) = 11.335\n",
      "findfont: score(<Font 'Franklin Gothic Demi Cond' (FRADMCN.TTF) normal normal demi condensed>) = 10.44\n",
      "findfont: score(<Font 'Bell MT' (BELL.TTF) normal normal 400 normal>) = 10.05\n",
      "findfont: score(<Font 'Consolas' (consolab.ttf) normal normal 700 normal>) = 10.335\n",
      "findfont: score(<Font 'Constantia' (constanb.ttf) normal normal 700 normal>) = 10.335\n",
      "findfont: score(<Font 'Trebuchet MS' (trebucbd.ttf) normal normal 700 normal>) = 10.335\n",
      "findfont: score(<Font 'Gadugi' (gadugi.ttf) normal normal 400 normal>) = 10.05\n",
      "findfont: score(<Font 'Script MT Bold' (SCRIPTBL.TTF) normal normal bold normal>) = 10.335\n",
      "findfont: score(<Font 'Tw Cen MT Condensed' (TCCB____.TTF) normal normal 700 condensed>) = 10.535\n",
      "findfont: score(<Font 'Tw Cen MT' (TCM_____.TTF) normal normal 400 normal>) = 10.05\n",
      "findfont: score(<Font 'Papyrus' (PAPYRUS.TTF) normal normal 400 normal>) = 10.05\n",
      "findfont: score(<Font 'Leelawadee' (LEELAWDB.TTF) normal normal 700 normal>) = 10.335\n",
      "findfont: score(<Font 'Arial' (arialbd.ttf) normal normal 700 normal>) = 0.33499999999999996\n",
      "findfont: score(<Font 'Kozuka Gothic Pr6N' (kozgopr6n-medium.otf) normal normal 400 normal>) = 10.05\n",
      "findfont: score(<Font 'Sitka Small' (Sitka.ttc) normal normal 400 normal>) = 10.05\n",
      "findfont: score(<Font 'Harlow Solid Italic' (HARLOWSI.TTF) italic normal 400 normal>) = 11.05\n",
      "findfont: score(<Font 'Book Antiqua' (BKANT.TTF) normal normal book normal>) = 10.05\n",
      "findfont: score(<Font 'Courier Std' (courierstd-bold.otf) normal normal 700 normal>) = 10.335\n",
      "findfont: score(<Font 'SWRomns' (swromns.ttf) normal normal 400 normal>) = 10.05\n",
      "findfont: score(<Font 'Dubai' (DUBAI-REGULAR.TTF) normal normal regular normal>) = 10.05\n",
      "findfont: score(<Font 'Adobe Heiti Std' (adobeheitistd-regular.otf) normal normal 400 normal>) = 10.05\n",
      "findfont: score(<Font 'ESSTIXFourteen' (ESSTIX14.TTF) normal normal 400 normal>) = 10.05\n",
      "findfont: score(<Font 'Verdana' (verdanaz.ttf) italic normal 700 normal>) = 11.335\n",
      "findfont: score(<Font 'Bodoni MT' (BOD_BLAI.TTF) italic normal black normal>) = 11.525\n",
      "findfont: score(<Font 'Tw Cen MT' (TCMI____.TTF) italic normal 400 normal>) = 11.05\n",
      "findfont: Matching sans\\-serif:style=normal:variant=normal:weight=normal:stretch=normal:size=12.0 to Arial ('C:\\\\Windows\\\\Fonts\\\\arial.ttf') with score of 0.050000.\n",
      "<ipython-input-83-704bc8988ce6>:21: UserWarning: Matplotlib is currently using agg, which is a non-GUI backend, so cannot show the figure.\n",
      "  plt.show()\n"
     ]
    }
   ],
   "source": [
    "# Prepare figure\n",
    "fig = plt.figure(figsize=(12, 10))\n",
    "\n",
    "# Obtain correlation matrix. Round the values to 2 decimal cases. Use the DataFrame corr() and round() method.\n",
    "corr = np.round(datasetlapsed[metric_features].corr(method=\"pearson\"), decimals=2)\n",
    "\n",
    "# Build annotation matrix (values above |0.5| will appear annotated in the plot)\n",
    "mask_annot = np.absolute(corr.values) >= 0.5\n",
    "annot = np.where(mask_annot, corr.values, np.full(corr.shape,\"\")) # Try to understand what this np.where() does\n",
    "matrix = np.triu(datasetlapsed[metric_features].corr())\n",
    "# Plot heatmap of the correlation matrix\n",
    "sns.heatmap(data=corr, annot=annot, mask=matrix, cmap=sns.diverging_palette(220, 10, as_cmap=True), \n",
    "            fmt='s', vmin=-1, vmax=1, center=0, square=True, linewidths=.5)\n",
    "\n",
    "# Layout\n",
    "fig.subplots_adjust(top=0.95)\n",
    "#fig.suptitle(\"Correlation Matrix\", fontsize=20)\n",
    "\n",
    "\n",
    "plt.savefig(os.path.join('Correlation_matrix.png'), dpi=300)\n",
    "plt.show()"
   ]
  },
  {
   "cell_type": "markdown",
   "metadata": {},
   "source": [
    "## 2.1Defining new metric features after analyzing the correlation matrix"
   ]
  },
  {
   "cell_type": "code",
   "execution_count": 84,
   "metadata": {},
   "outputs": [],
   "source": [
    "metric_features_nmulticolinearete=[\"RAMNTALL\",\"IC1\",\"AVGGIFT\",\"month_minimum_gift\",\"months_lastgift\",\n",
    "                                   \"month_largest_gift\", \"month_of_last_gift\"]#,, \"WEALTH2\", "
   ]
  },
  {
   "cell_type": "code",
   "execution_count": 85,
   "metadata": {},
   "outputs": [
    {
     "data": {
      "text/plain": [
       "RAMNTALL              0\n",
       "IC1                   0\n",
       "AVGGIFT               0\n",
       "month_minimum_gift    0\n",
       "months_lastgift       0\n",
       "month_largest_gift    0\n",
       "month_of_last_gift    0\n",
       "dtype: int64"
      ]
     },
     "execution_count": 85,
     "metadata": {},
     "output_type": "execute_result"
    }
   ],
   "source": [
    "# count of missing values\n",
    "datasetlapsed[metric_features_nmulticolinearete].isna().sum()"
   ]
  },
  {
   "cell_type": "code",
   "execution_count": 86,
   "metadata": {},
   "outputs": [
    {
     "data": {
      "text/html": [
       "<div>\n",
       "<style scoped>\n",
       "    .dataframe tbody tr th:only-of-type {\n",
       "        vertical-align: middle;\n",
       "    }\n",
       "\n",
       "    .dataframe tbody tr th {\n",
       "        vertical-align: top;\n",
       "    }\n",
       "\n",
       "    .dataframe thead th {\n",
       "        text-align: right;\n",
       "    }\n",
       "</style>\n",
       "<table border=\"1\" class=\"dataframe\">\n",
       "  <thead>\n",
       "    <tr style=\"text-align: right;\">\n",
       "      <th></th>\n",
       "      <th>count</th>\n",
       "      <th>mean</th>\n",
       "      <th>std</th>\n",
       "      <th>min</th>\n",
       "      <th>25%</th>\n",
       "      <th>50%</th>\n",
       "      <th>75%</th>\n",
       "      <th>max</th>\n",
       "    </tr>\n",
       "  </thead>\n",
       "  <tbody>\n",
       "    <tr>\n",
       "      <th>RAMNTALL</th>\n",
       "      <td>84125.0</td>\n",
       "      <td>98.358020</td>\n",
       "      <td>101.538644</td>\n",
       "      <td>13.000000</td>\n",
       "      <td>38.00</td>\n",
       "      <td>75.0</td>\n",
       "      <td>125.000000</td>\n",
       "      <td>5674.9</td>\n",
       "    </tr>\n",
       "    <tr>\n",
       "      <th>IC1</th>\n",
       "      <td>84125.0</td>\n",
       "      <td>339.471132</td>\n",
       "      <td>162.267917</td>\n",
       "      <td>0.000000</td>\n",
       "      <td>230.00</td>\n",
       "      <td>309.0</td>\n",
       "      <td>414.000000</td>\n",
       "      <td>1500.0</td>\n",
       "    </tr>\n",
       "    <tr>\n",
       "      <th>AVGGIFT</th>\n",
       "      <td>84125.0</td>\n",
       "      <td>13.166552</td>\n",
       "      <td>9.222358</td>\n",
       "      <td>1.285714</td>\n",
       "      <td>8.25</td>\n",
       "      <td>11.5</td>\n",
       "      <td>15.333333</td>\n",
       "      <td>500.0</td>\n",
       "    </tr>\n",
       "    <tr>\n",
       "      <th>month_minimum_gift</th>\n",
       "      <td>84125.0</td>\n",
       "      <td>6.360285</td>\n",
       "      <td>3.906519</td>\n",
       "      <td>1.000000</td>\n",
       "      <td>2.00</td>\n",
       "      <td>6.0</td>\n",
       "      <td>10.000000</td>\n",
       "      <td>12.0</td>\n",
       "    </tr>\n",
       "    <tr>\n",
       "      <th>months_lastgift</th>\n",
       "      <td>84125.0</td>\n",
       "      <td>18.277159</td>\n",
       "      <td>2.482902</td>\n",
       "      <td>13.000000</td>\n",
       "      <td>16.00</td>\n",
       "      <td>18.0</td>\n",
       "      <td>20.000000</td>\n",
       "      <td>24.0</td>\n",
       "    </tr>\n",
       "    <tr>\n",
       "      <th>month_largest_gift</th>\n",
       "      <td>84125.0</td>\n",
       "      <td>7.071251</td>\n",
       "      <td>4.043233</td>\n",
       "      <td>1.000000</td>\n",
       "      <td>3.00</td>\n",
       "      <td>8.0</td>\n",
       "      <td>11.000000</td>\n",
       "      <td>12.0</td>\n",
       "    </tr>\n",
       "    <tr>\n",
       "      <th>month_of_last_gift</th>\n",
       "      <td>84125.0</td>\n",
       "      <td>6.873771</td>\n",
       "      <td>4.346367</td>\n",
       "      <td>1.000000</td>\n",
       "      <td>2.00</td>\n",
       "      <td>8.0</td>\n",
       "      <td>11.000000</td>\n",
       "      <td>12.0</td>\n",
       "    </tr>\n",
       "  </tbody>\n",
       "</table>\n",
       "</div>"
      ],
      "text/plain": [
       "                      count        mean         std        min     25%    50%  \\\n",
       "RAMNTALL            84125.0   98.358020  101.538644  13.000000   38.00   75.0   \n",
       "IC1                 84125.0  339.471132  162.267917   0.000000  230.00  309.0   \n",
       "AVGGIFT             84125.0   13.166552    9.222358   1.285714    8.25   11.5   \n",
       "month_minimum_gift  84125.0    6.360285    3.906519   1.000000    2.00    6.0   \n",
       "months_lastgift     84125.0   18.277159    2.482902  13.000000   16.00   18.0   \n",
       "month_largest_gift  84125.0    7.071251    4.043233   1.000000    3.00    8.0   \n",
       "month_of_last_gift  84125.0    6.873771    4.346367   1.000000    2.00    8.0   \n",
       "\n",
       "                           75%     max  \n",
       "RAMNTALL            125.000000  5674.9  \n",
       "IC1                 414.000000  1500.0  \n",
       "AVGGIFT              15.333333   500.0  \n",
       "month_minimum_gift   10.000000    12.0  \n",
       "months_lastgift      20.000000    24.0  \n",
       "month_largest_gift   11.000000    12.0  \n",
       "month_of_last_gift   11.000000    12.0  "
      ]
     },
     "execution_count": 86,
     "metadata": {},
     "output_type": "execute_result"
    }
   ],
   "source": [
    "# descriptive statistics\n",
    "datasetlapsed[metric_features_nmulticolinearete].describe(include=\"all\").T  # try with all and without all"
   ]
  },
  {
   "cell_type": "code",
   "execution_count": 87,
   "metadata": {},
   "outputs": [],
   "source": [
    "clusterdataset=datasetlapsed[metric_features_nmulticolinearete].copy()"
   ]
  },
  {
   "cell_type": "code",
   "execution_count": 88,
   "metadata": {},
   "outputs": [
    {
     "data": {
      "text/html": [
       "<div>\n",
       "<style scoped>\n",
       "    .dataframe tbody tr th:only-of-type {\n",
       "        vertical-align: middle;\n",
       "    }\n",
       "\n",
       "    .dataframe tbody tr th {\n",
       "        vertical-align: top;\n",
       "    }\n",
       "\n",
       "    .dataframe thead th {\n",
       "        text-align: right;\n",
       "    }\n",
       "</style>\n",
       "<table border=\"1\" class=\"dataframe\">\n",
       "  <thead>\n",
       "    <tr style=\"text-align: right;\">\n",
       "      <th></th>\n",
       "      <th>RAMNTALL</th>\n",
       "      <th>IC1</th>\n",
       "      <th>AVGGIFT</th>\n",
       "      <th>month_minimum_gift</th>\n",
       "      <th>months_lastgift</th>\n",
       "      <th>month_largest_gift</th>\n",
       "      <th>month_of_last_gift</th>\n",
       "    </tr>\n",
       "    <tr>\n",
       "      <th>CONTROLN</th>\n",
       "      <th></th>\n",
       "      <th></th>\n",
       "      <th></th>\n",
       "      <th></th>\n",
       "      <th></th>\n",
       "      <th></th>\n",
       "      <th></th>\n",
       "    </tr>\n",
       "  </thead>\n",
       "  <tbody>\n",
       "    <tr>\n",
       "      <th>95515</th>\n",
       "      <td>240.0</td>\n",
       "      <td>307</td>\n",
       "      <td>7.741935</td>\n",
       "      <td>8</td>\n",
       "      <td>18</td>\n",
       "      <td>2</td>\n",
       "      <td>12</td>\n",
       "    </tr>\n",
       "    <tr>\n",
       "      <th>148535</th>\n",
       "      <td>47.0</td>\n",
       "      <td>1088</td>\n",
       "      <td>15.666667</td>\n",
       "      <td>10</td>\n",
       "      <td>18</td>\n",
       "      <td>12</td>\n",
       "      <td>12</td>\n",
       "    </tr>\n",
       "    <tr>\n",
       "      <th>15078</th>\n",
       "      <td>202.0</td>\n",
       "      <td>251</td>\n",
       "      <td>7.481481</td>\n",
       "      <td>11</td>\n",
       "      <td>18</td>\n",
       "      <td>7</td>\n",
       "      <td>12</td>\n",
       "    </tr>\n",
       "    <tr>\n",
       "      <th>172556</th>\n",
       "      <td>109.0</td>\n",
       "      <td>386</td>\n",
       "      <td>6.812500</td>\n",
       "      <td>11</td>\n",
       "      <td>18</td>\n",
       "      <td>11</td>\n",
       "      <td>12</td>\n",
       "    </tr>\n",
       "    <tr>\n",
       "      <th>7112</th>\n",
       "      <td>254.0</td>\n",
       "      <td>240</td>\n",
       "      <td>6.864865</td>\n",
       "      <td>10</td>\n",
       "      <td>17</td>\n",
       "      <td>1</td>\n",
       "      <td>1</td>\n",
       "    </tr>\n",
       "    <tr>\n",
       "      <th>...</th>\n",
       "      <td>...</td>\n",
       "      <td>...</td>\n",
       "      <td>...</td>\n",
       "      <td>...</td>\n",
       "      <td>...</td>\n",
       "      <td>...</td>\n",
       "      <td>...</td>\n",
       "    </tr>\n",
       "    <tr>\n",
       "      <th>58178</th>\n",
       "      <td>59.0</td>\n",
       "      <td>159</td>\n",
       "      <td>5.900000</td>\n",
       "      <td>1</td>\n",
       "      <td>20</td>\n",
       "      <td>8</td>\n",
       "      <td>10</td>\n",
       "    </tr>\n",
       "    <tr>\n",
       "      <th>156106</th>\n",
       "      <td>80.0</td>\n",
       "      <td>224</td>\n",
       "      <td>26.666667</td>\n",
       "      <td>8</td>\n",
       "      <td>22</td>\n",
       "      <td>12</td>\n",
       "      <td>8</td>\n",
       "    </tr>\n",
       "    <tr>\n",
       "      <th>35088</th>\n",
       "      <td>81.0</td>\n",
       "      <td>285</td>\n",
       "      <td>3.375000</td>\n",
       "      <td>2</td>\n",
       "      <td>16</td>\n",
       "      <td>3</td>\n",
       "      <td>2</td>\n",
       "    </tr>\n",
       "    <tr>\n",
       "      <th>184568</th>\n",
       "      <td>25.0</td>\n",
       "      <td>433</td>\n",
       "      <td>25.000000</td>\n",
       "      <td>2</td>\n",
       "      <td>16</td>\n",
       "      <td>2</td>\n",
       "      <td>2</td>\n",
       "    </tr>\n",
       "    <tr>\n",
       "      <th>122706</th>\n",
       "      <td>20.0</td>\n",
       "      <td>806</td>\n",
       "      <td>20.000000</td>\n",
       "      <td>3</td>\n",
       "      <td>15</td>\n",
       "      <td>3</td>\n",
       "      <td>3</td>\n",
       "    </tr>\n",
       "  </tbody>\n",
       "</table>\n",
       "<p>84125 rows × 7 columns</p>\n",
       "</div>"
      ],
      "text/plain": [
       "          RAMNTALL   IC1    AVGGIFT  month_minimum_gift  months_lastgift  \\\n",
       "CONTROLN                                                                   \n",
       "95515        240.0   307   7.741935                   8               18   \n",
       "148535        47.0  1088  15.666667                  10               18   \n",
       "15078        202.0   251   7.481481                  11               18   \n",
       "172556       109.0   386   6.812500                  11               18   \n",
       "7112         254.0   240   6.864865                  10               17   \n",
       "...            ...   ...        ...                 ...              ...   \n",
       "58178         59.0   159   5.900000                   1               20   \n",
       "156106        80.0   224  26.666667                   8               22   \n",
       "35088         81.0   285   3.375000                   2               16   \n",
       "184568        25.0   433  25.000000                   2               16   \n",
       "122706        20.0   806  20.000000                   3               15   \n",
       "\n",
       "          month_largest_gift  month_of_last_gift  \n",
       "CONTROLN                                          \n",
       "95515                      2                  12  \n",
       "148535                    12                  12  \n",
       "15078                      7                  12  \n",
       "172556                    11                  12  \n",
       "7112                       1                   1  \n",
       "...                      ...                 ...  \n",
       "58178                      8                  10  \n",
       "156106                    12                   8  \n",
       "35088                      3                   2  \n",
       "184568                     2                   2  \n",
       "122706                     3                   3  \n",
       "\n",
       "[84125 rows x 7 columns]"
      ]
     },
     "execution_count": 88,
     "metadata": {},
     "output_type": "execute_result"
    }
   ],
   "source": [
    "clusterdataset"
   ]
  },
  {
   "cell_type": "markdown",
   "metadata": {},
   "source": [
    "## IV Outliers"
   ]
  },
  {
   "cell_type": "markdown",
   "metadata": {},
   "source": [
    "# 1 Boxplot"
   ]
  },
  {
   "cell_type": "code",
   "execution_count": null,
   "metadata": {},
   "outputs": [],
   "source": [
    "# All Numeric Variables' Box Plots in one figure\n",
    "sns.set()\n",
    "\n",
    "# Prepare figure. Create individual axes where each box plot will be placed\n",
    "fig, axes = plt.subplots(2, math.ceil(len(metric_features_nmulticolinearete) / 2), figsize=(15, 10))\n",
    "\n",
    "# Plot data\n",
    "# Iterate across axes objects and associate each box plot (hint: use the ax argument):\n",
    "for ax, feat in zip(axes.flatten(), metric_features_nmulticolinearete): # Notice the zip() function and flatten() method\n",
    "    sns.boxplot(x=clusterdataset[feat], ax=ax)\n",
    "    \n",
    "# Layout\n",
    "# Add a centered title to the figure:\n",
    "#title = \"Numeric Variables' Box Plots\"\n",
    "\n",
    "#plt.suptitle(title)\n",
    "\n",
    "plt.savefig(os.path.join('numeric_variables_boxplots.png'), dpi=300)\n",
    "plt.show()"
   ]
  },
  {
   "cell_type": "markdown",
   "metadata": {},
   "source": [
    "# 2 Removing outiliers using DBSCAN"
   ]
  },
  {
   "cell_type": "code",
   "execution_count": null,
   "metadata": {},
   "outputs": [],
   "source": [
    "# Adapted from:\n",
    "# https://towardsdatascience.com/k-means-dbscan-gmm-agglomerative-clustering-mastering-the-popular-models-in-a-segmentation-c891a3818e29\n",
    "from kneed import KneeLocator\n",
    "neighbors=[10, 15, 50, 100, 500]#[10,15,20,25,30,35,40, 45, 50]\n",
    "eps=[]\n",
    "for i in neighbors:\n",
    "    nearest_neighbors = NearestNeighbors(n_neighbors=i)\n",
    "    neighbors = nearest_neighbors.fit(clusterdataset)\n",
    "    distances, indices = neighbors.kneighbors(clusterdataset)\n",
    "    distances = np.sort(distances[:,i-1], axis=0)\n",
    "    j = np.arange(len(distances))\n",
    "    knee = KneeLocator(j, distances, S=1, curve='convex', direction='increasing', interp_method='polynomial')\n",
    "    fig = plt.figure(figsize=(5, 5))\n",
    "    knee.plot_knee()\n",
    "    plt.xlabel(\"Points\")\n",
    "    plt.ylabel(\"Distance\")\n",
    "    eps.append(distances[knee.knee])\n",
    "    print(i, distances[knee.knee])\n",
    "    plt.savefig(os.path.join('eps.png'), dpi=350)"
   ]
  },
  {
   "cell_type": "code",
   "execution_count": null,
   "metadata": {},
   "outputs": [],
   "source": []
  },
  {
   "cell_type": "code",
   "execution_count": null,
   "metadata": {},
   "outputs": [],
   "source": []
  },
  {
   "cell_type": "code",
   "execution_count": null,
   "metadata": {},
   "outputs": [],
   "source": []
  },
  {
   "cell_type": "markdown",
   "metadata": {},
   "source": [
    "# 1 minmax"
   ]
  },
  {
   "cell_type": "code",
   "execution_count": 91,
   "metadata": {},
   "outputs": [
    {
     "data": {
      "text/html": [
       "<div>\n",
       "<style scoped>\n",
       "    .dataframe tbody tr th:only-of-type {\n",
       "        vertical-align: middle;\n",
       "    }\n",
       "\n",
       "    .dataframe tbody tr th {\n",
       "        vertical-align: top;\n",
       "    }\n",
       "\n",
       "    .dataframe thead th {\n",
       "        text-align: right;\n",
       "    }\n",
       "</style>\n",
       "<table border=\"1\" class=\"dataframe\">\n",
       "  <thead>\n",
       "    <tr style=\"text-align: right;\">\n",
       "      <th></th>\n",
       "      <th>RAMNTALL</th>\n",
       "      <th>IC1</th>\n",
       "      <th>AVGGIFT</th>\n",
       "      <th>month_minimum_gift</th>\n",
       "      <th>months_lastgift</th>\n",
       "      <th>month_largest_gift</th>\n",
       "      <th>month_of_last_gift</th>\n",
       "    </tr>\n",
       "    <tr>\n",
       "      <th>CONTROLN</th>\n",
       "      <th></th>\n",
       "      <th></th>\n",
       "      <th></th>\n",
       "      <th></th>\n",
       "      <th></th>\n",
       "      <th></th>\n",
       "      <th></th>\n",
       "    </tr>\n",
       "  </thead>\n",
       "  <tbody>\n",
       "    <tr>\n",
       "      <th>95515</th>\n",
       "      <td>240.0</td>\n",
       "      <td>307</td>\n",
       "      <td>7.741935</td>\n",
       "      <td>8</td>\n",
       "      <td>18</td>\n",
       "      <td>2</td>\n",
       "      <td>12</td>\n",
       "    </tr>\n",
       "    <tr>\n",
       "      <th>148535</th>\n",
       "      <td>47.0</td>\n",
       "      <td>1088</td>\n",
       "      <td>15.666667</td>\n",
       "      <td>10</td>\n",
       "      <td>18</td>\n",
       "      <td>12</td>\n",
       "      <td>12</td>\n",
       "    </tr>\n",
       "    <tr>\n",
       "      <th>15078</th>\n",
       "      <td>202.0</td>\n",
       "      <td>251</td>\n",
       "      <td>7.481481</td>\n",
       "      <td>11</td>\n",
       "      <td>18</td>\n",
       "      <td>7</td>\n",
       "      <td>12</td>\n",
       "    </tr>\n",
       "    <tr>\n",
       "      <th>172556</th>\n",
       "      <td>109.0</td>\n",
       "      <td>386</td>\n",
       "      <td>6.812500</td>\n",
       "      <td>11</td>\n",
       "      <td>18</td>\n",
       "      <td>11</td>\n",
       "      <td>12</td>\n",
       "    </tr>\n",
       "    <tr>\n",
       "      <th>7112</th>\n",
       "      <td>254.0</td>\n",
       "      <td>240</td>\n",
       "      <td>6.864865</td>\n",
       "      <td>10</td>\n",
       "      <td>17</td>\n",
       "      <td>1</td>\n",
       "      <td>1</td>\n",
       "    </tr>\n",
       "    <tr>\n",
       "      <th>...</th>\n",
       "      <td>...</td>\n",
       "      <td>...</td>\n",
       "      <td>...</td>\n",
       "      <td>...</td>\n",
       "      <td>...</td>\n",
       "      <td>...</td>\n",
       "      <td>...</td>\n",
       "    </tr>\n",
       "    <tr>\n",
       "      <th>58178</th>\n",
       "      <td>59.0</td>\n",
       "      <td>159</td>\n",
       "      <td>5.900000</td>\n",
       "      <td>1</td>\n",
       "      <td>20</td>\n",
       "      <td>8</td>\n",
       "      <td>10</td>\n",
       "    </tr>\n",
       "    <tr>\n",
       "      <th>156106</th>\n",
       "      <td>80.0</td>\n",
       "      <td>224</td>\n",
       "      <td>26.666667</td>\n",
       "      <td>8</td>\n",
       "      <td>22</td>\n",
       "      <td>12</td>\n",
       "      <td>8</td>\n",
       "    </tr>\n",
       "    <tr>\n",
       "      <th>35088</th>\n",
       "      <td>81.0</td>\n",
       "      <td>285</td>\n",
       "      <td>3.375000</td>\n",
       "      <td>2</td>\n",
       "      <td>16</td>\n",
       "      <td>3</td>\n",
       "      <td>2</td>\n",
       "    </tr>\n",
       "    <tr>\n",
       "      <th>184568</th>\n",
       "      <td>25.0</td>\n",
       "      <td>433</td>\n",
       "      <td>25.000000</td>\n",
       "      <td>2</td>\n",
       "      <td>16</td>\n",
       "      <td>2</td>\n",
       "      <td>2</td>\n",
       "    </tr>\n",
       "    <tr>\n",
       "      <th>122706</th>\n",
       "      <td>20.0</td>\n",
       "      <td>806</td>\n",
       "      <td>20.000000</td>\n",
       "      <td>3</td>\n",
       "      <td>15</td>\n",
       "      <td>3</td>\n",
       "      <td>3</td>\n",
       "    </tr>\n",
       "  </tbody>\n",
       "</table>\n",
       "<p>84125 rows × 7 columns</p>\n",
       "</div>"
      ],
      "text/plain": [
       "          RAMNTALL   IC1    AVGGIFT  month_minimum_gift  months_lastgift  \\\n",
       "CONTROLN                                                                   \n",
       "95515        240.0   307   7.741935                   8               18   \n",
       "148535        47.0  1088  15.666667                  10               18   \n",
       "15078        202.0   251   7.481481                  11               18   \n",
       "172556       109.0   386   6.812500                  11               18   \n",
       "7112         254.0   240   6.864865                  10               17   \n",
       "...            ...   ...        ...                 ...              ...   \n",
       "58178         59.0   159   5.900000                   1               20   \n",
       "156106        80.0   224  26.666667                   8               22   \n",
       "35088         81.0   285   3.375000                   2               16   \n",
       "184568        25.0   433  25.000000                   2               16   \n",
       "122706        20.0   806  20.000000                   3               15   \n",
       "\n",
       "          month_largest_gift  month_of_last_gift  \n",
       "CONTROLN                                          \n",
       "95515                      2                  12  \n",
       "148535                    12                  12  \n",
       "15078                      7                  12  \n",
       "172556                    11                  12  \n",
       "7112                       1                   1  \n",
       "...                      ...                 ...  \n",
       "58178                      8                  10  \n",
       "156106                    12                   8  \n",
       "35088                      3                   2  \n",
       "184568                     2                   2  \n",
       "122706                     3                   3  \n",
       "\n",
       "[84125 rows x 7 columns]"
      ]
     },
     "execution_count": 91,
     "metadata": {},
     "output_type": "execute_result"
    }
   ],
   "source": [
    "clusterdataset_minmax = clusterdataset.copy()\n",
    "clusterdataset_minmax "
   ]
  },
  {
   "cell_type": "code",
   "execution_count": 92,
   "metadata": {},
   "outputs": [
    {
     "data": {
      "text/plain": [
       "array([[0.04009255, 0.20466667, 0.01294573, ..., 0.45454545, 0.09090909,\n",
       "        1.        ],\n",
       "       [0.00600505, 0.72533333, 0.02883605, ..., 0.45454545, 1.        ,\n",
       "        1.        ],\n",
       "       [0.03338102, 0.16733333, 0.01242348, ..., 0.45454545, 0.54545455,\n",
       "        1.        ],\n",
       "       ...,\n",
       "       [0.0120101 , 0.19      , 0.00418934, ..., 0.27272727, 0.18181818,\n",
       "        0.09090909],\n",
       "       [0.00211943, 0.28866667, 0.04755085, ..., 0.27272727, 0.09090909,\n",
       "        0.09090909],\n",
       "       [0.00123633, 0.53733333, 0.03752506, ..., 0.18181818, 0.18181818,\n",
       "        0.18181818]])"
      ]
     },
     "execution_count": 92,
     "metadata": {},
     "output_type": "execute_result"
    }
   ],
   "source": [
    "# Use MinMaxScaler to scale the data\n",
    "scaler = MinMaxScaler()\n",
    "clusterdataset_minmax_scaled = scaler.fit_transform(clusterdataset_minmax)\n",
    "clusterdataset_minmax_scaled "
   ]
  },
  {
   "cell_type": "code",
   "execution_count": 93,
   "metadata": {},
   "outputs": [
    {
     "name": "stdout",
     "output_type": "stream",
     "text": [
      "Parameters fitted:\n",
      " [13.          0.          1.28571429  1.         13.          1.\n",
      "  1.        ] \n",
      " [5674.9 1500.   500.    12.    24.    12.    12. ]\n"
     ]
    }
   ],
   "source": [
    "# See what the fit method is doing (notice the trailing underscore):\n",
    "print(\"Parameters fitted:\\n\", scaler.data_min_, \"\\n\", scaler.data_max_)"
   ]
  },
  {
   "cell_type": "code",
   "execution_count": 94,
   "metadata": {},
   "outputs": [
    {
     "data": {
      "text/html": [
       "<div>\n",
       "<style scoped>\n",
       "    .dataframe tbody tr th:only-of-type {\n",
       "        vertical-align: middle;\n",
       "    }\n",
       "\n",
       "    .dataframe tbody tr th {\n",
       "        vertical-align: top;\n",
       "    }\n",
       "\n",
       "    .dataframe thead th {\n",
       "        text-align: right;\n",
       "    }\n",
       "</style>\n",
       "<table border=\"1\" class=\"dataframe\">\n",
       "  <thead>\n",
       "    <tr style=\"text-align: right;\">\n",
       "      <th></th>\n",
       "      <th>RAMNTALL</th>\n",
       "      <th>IC1</th>\n",
       "      <th>AVGGIFT</th>\n",
       "      <th>month_minimum_gift</th>\n",
       "      <th>months_lastgift</th>\n",
       "      <th>month_largest_gift</th>\n",
       "      <th>month_of_last_gift</th>\n",
       "    </tr>\n",
       "    <tr>\n",
       "      <th>CONTROLN</th>\n",
       "      <th></th>\n",
       "      <th></th>\n",
       "      <th></th>\n",
       "      <th></th>\n",
       "      <th></th>\n",
       "      <th></th>\n",
       "      <th></th>\n",
       "    </tr>\n",
       "  </thead>\n",
       "  <tbody>\n",
       "    <tr>\n",
       "      <th>95515</th>\n",
       "      <td>0.040093</td>\n",
       "      <td>0.204667</td>\n",
       "      <td>0.012946</td>\n",
       "      <td>0.636364</td>\n",
       "      <td>0.454545</td>\n",
       "      <td>0.090909</td>\n",
       "      <td>1.0</td>\n",
       "    </tr>\n",
       "    <tr>\n",
       "      <th>148535</th>\n",
       "      <td>0.006005</td>\n",
       "      <td>0.725333</td>\n",
       "      <td>0.028836</td>\n",
       "      <td>0.818182</td>\n",
       "      <td>0.454545</td>\n",
       "      <td>1.000000</td>\n",
       "      <td>1.0</td>\n",
       "    </tr>\n",
       "    <tr>\n",
       "      <th>15078</th>\n",
       "      <td>0.033381</td>\n",
       "      <td>0.167333</td>\n",
       "      <td>0.012423</td>\n",
       "      <td>0.909091</td>\n",
       "      <td>0.454545</td>\n",
       "      <td>0.545455</td>\n",
       "      <td>1.0</td>\n",
       "    </tr>\n",
       "    <tr>\n",
       "      <th>172556</th>\n",
       "      <td>0.016955</td>\n",
       "      <td>0.257333</td>\n",
       "      <td>0.011082</td>\n",
       "      <td>0.909091</td>\n",
       "      <td>0.454545</td>\n",
       "      <td>0.909091</td>\n",
       "      <td>1.0</td>\n",
       "    </tr>\n",
       "    <tr>\n",
       "      <th>7112</th>\n",
       "      <td>0.042565</td>\n",
       "      <td>0.160000</td>\n",
       "      <td>0.011187</td>\n",
       "      <td>0.818182</td>\n",
       "      <td>0.363636</td>\n",
       "      <td>0.000000</td>\n",
       "      <td>0.0</td>\n",
       "    </tr>\n",
       "  </tbody>\n",
       "</table>\n",
       "</div>"
      ],
      "text/plain": [
       "          RAMNTALL       IC1   AVGGIFT  month_minimum_gift  months_lastgift  \\\n",
       "CONTROLN                                                                      \n",
       "95515     0.040093  0.204667  0.012946            0.636364         0.454545   \n",
       "148535    0.006005  0.725333  0.028836            0.818182         0.454545   \n",
       "15078     0.033381  0.167333  0.012423            0.909091         0.454545   \n",
       "172556    0.016955  0.257333  0.011082            0.909091         0.454545   \n",
       "7112      0.042565  0.160000  0.011187            0.818182         0.363636   \n",
       "\n",
       "          month_largest_gift  month_of_last_gift  \n",
       "CONTROLN                                          \n",
       "95515               0.090909                 1.0  \n",
       "148535              1.000000                 1.0  \n",
       "15078               0.545455                 1.0  \n",
       "172556              0.909091                 1.0  \n",
       "7112                0.000000                 0.0  "
      ]
     },
     "execution_count": 94,
     "metadata": {},
     "output_type": "execute_result"
    }
   ],
   "source": [
    "clusterdataset_minmax[metric_features_nmulticolinearete] = clusterdataset_minmax_scaled\n",
    "clusterdataset_minmax.head()"
   ]
  },
  {
   "cell_type": "code",
   "execution_count": 95,
   "metadata": {},
   "outputs": [
    {
     "data": {
      "text/html": [
       "<div>\n",
       "<style scoped>\n",
       "    .dataframe tbody tr th:only-of-type {\n",
       "        vertical-align: middle;\n",
       "    }\n",
       "\n",
       "    .dataframe tbody tr th {\n",
       "        vertical-align: top;\n",
       "    }\n",
       "\n",
       "    .dataframe thead th {\n",
       "        text-align: right;\n",
       "    }\n",
       "</style>\n",
       "<table border=\"1\" class=\"dataframe\">\n",
       "  <thead>\n",
       "    <tr style=\"text-align: right;\">\n",
       "      <th></th>\n",
       "      <th>RAMNTALL</th>\n",
       "      <th>IC1</th>\n",
       "      <th>AVGGIFT</th>\n",
       "      <th>month_minimum_gift</th>\n",
       "      <th>months_lastgift</th>\n",
       "      <th>month_largest_gift</th>\n",
       "      <th>month_of_last_gift</th>\n",
       "    </tr>\n",
       "  </thead>\n",
       "  <tbody>\n",
       "    <tr>\n",
       "      <th>count</th>\n",
       "      <td>84125.00</td>\n",
       "      <td>84125.00</td>\n",
       "      <td>84125.00</td>\n",
       "      <td>84125.00</td>\n",
       "      <td>84125.00</td>\n",
       "      <td>84125.00</td>\n",
       "      <td>84125.00</td>\n",
       "    </tr>\n",
       "    <tr>\n",
       "      <th>mean</th>\n",
       "      <td>0.02</td>\n",
       "      <td>0.23</td>\n",
       "      <td>0.02</td>\n",
       "      <td>0.49</td>\n",
       "      <td>0.48</td>\n",
       "      <td>0.55</td>\n",
       "      <td>0.53</td>\n",
       "    </tr>\n",
       "    <tr>\n",
       "      <th>std</th>\n",
       "      <td>0.02</td>\n",
       "      <td>0.11</td>\n",
       "      <td>0.02</td>\n",
       "      <td>0.36</td>\n",
       "      <td>0.23</td>\n",
       "      <td>0.37</td>\n",
       "      <td>0.40</td>\n",
       "    </tr>\n",
       "    <tr>\n",
       "      <th>min</th>\n",
       "      <td>0.00</td>\n",
       "      <td>0.00</td>\n",
       "      <td>0.00</td>\n",
       "      <td>0.00</td>\n",
       "      <td>0.00</td>\n",
       "      <td>0.00</td>\n",
       "      <td>0.00</td>\n",
       "    </tr>\n",
       "    <tr>\n",
       "      <th>25%</th>\n",
       "      <td>0.00</td>\n",
       "      <td>0.15</td>\n",
       "      <td>0.01</td>\n",
       "      <td>0.09</td>\n",
       "      <td>0.27</td>\n",
       "      <td>0.18</td>\n",
       "      <td>0.09</td>\n",
       "    </tr>\n",
       "    <tr>\n",
       "      <th>50%</th>\n",
       "      <td>0.01</td>\n",
       "      <td>0.21</td>\n",
       "      <td>0.02</td>\n",
       "      <td>0.45</td>\n",
       "      <td>0.45</td>\n",
       "      <td>0.64</td>\n",
       "      <td>0.64</td>\n",
       "    </tr>\n",
       "    <tr>\n",
       "      <th>75%</th>\n",
       "      <td>0.02</td>\n",
       "      <td>0.28</td>\n",
       "      <td>0.03</td>\n",
       "      <td>0.82</td>\n",
       "      <td>0.64</td>\n",
       "      <td>0.91</td>\n",
       "      <td>0.91</td>\n",
       "    </tr>\n",
       "    <tr>\n",
       "      <th>max</th>\n",
       "      <td>1.00</td>\n",
       "      <td>1.00</td>\n",
       "      <td>1.00</td>\n",
       "      <td>1.00</td>\n",
       "      <td>1.00</td>\n",
       "      <td>1.00</td>\n",
       "      <td>1.00</td>\n",
       "    </tr>\n",
       "  </tbody>\n",
       "</table>\n",
       "</div>"
      ],
      "text/plain": [
       "       RAMNTALL       IC1   AVGGIFT  month_minimum_gift  months_lastgift  \\\n",
       "count  84125.00  84125.00  84125.00            84125.00         84125.00   \n",
       "mean       0.02      0.23      0.02                0.49             0.48   \n",
       "std        0.02      0.11      0.02                0.36             0.23   \n",
       "min        0.00      0.00      0.00                0.00             0.00   \n",
       "25%        0.00      0.15      0.01                0.09             0.27   \n",
       "50%        0.01      0.21      0.02                0.45             0.45   \n",
       "75%        0.02      0.28      0.03                0.82             0.64   \n",
       "max        1.00      1.00      1.00                1.00             1.00   \n",
       "\n",
       "       month_largest_gift  month_of_last_gift  \n",
       "count            84125.00            84125.00  \n",
       "mean                 0.55                0.53  \n",
       "std                  0.37                0.40  \n",
       "min                  0.00                0.00  \n",
       "25%                  0.18                0.09  \n",
       "50%                  0.64                0.64  \n",
       "75%                  0.91                0.91  \n",
       "max                  1.00                1.00  "
      ]
     },
     "execution_count": 95,
     "metadata": {},
     "output_type": "execute_result"
    }
   ],
   "source": [
    "# Checking max and min of minmaxed variables\n",
    "clusterdataset_minmax.describe().round(2)"
   ]
  },
  {
   "cell_type": "markdown",
   "metadata": {},
   "source": [
    "# V Outliers"
   ]
  },
  {
   "cell_type": "markdown",
   "metadata": {},
   "source": [
    "# 1 Boxplot"
   ]
  },
  {
   "cell_type": "code",
   "execution_count": 96,
   "metadata": {},
   "outputs": [
    {
     "name": "stderr",
     "output_type": "stream",
     "text": [
      "<ipython-input-96-847450aff172>:19: UserWarning: Matplotlib is currently using agg, which is a non-GUI backend, so cannot show the figure.\n",
      "  plt.show()\n"
     ]
    }
   ],
   "source": [
    "# All Numeric Variables' Box Plots in one figure\n",
    "sns.set()\n",
    "\n",
    "# Prepare figure. Create individual axes where each box plot will be placed\n",
    "fig, axes = plt.subplots(2, math.ceil(len(metric_features_nmulticolinearete) / 2), figsize=(15, 10))\n",
    "\n",
    "# Plot data\n",
    "# Iterate across axes objects and associate each box plot (hint: use the ax argument):\n",
    "for ax, feat in zip(axes.flatten(), metric_features_nmulticolinearete): # Notice the zip() function and flatten() method\n",
    "    sns.boxplot(x=clusterdataset[feat], ax=ax)\n",
    "    \n",
    "# Layout\n",
    "# Add a centered title to the figure:\n",
    "#title = \"Numeric Variables' Box Plots\"\n",
    "\n",
    "#plt.suptitle(title)\n",
    "\n",
    "plt.savefig(os.path.join('numeric_variables_boxplots.png'), dpi=300)\n",
    "plt.show()"
   ]
  },
  {
   "cell_type": "code",
   "execution_count": null,
   "metadata": {},
   "outputs": [],
   "source": []
  },
  {
   "cell_type": "markdown",
   "metadata": {},
   "source": [
    "# 2 Removing outiliers using DBSCAN"
   ]
  },
  {
   "cell_type": "code",
   "execution_count": null,
   "metadata": {},
   "outputs": [],
   "source": []
  },
  {
   "cell_type": "code",
   "execution_count": 97,
   "metadata": {},
   "outputs": [
    {
     "name": "stdout",
     "output_type": "stream",
     "text": [
      "10 0.07802905606646471\n",
      "15 0.09500833487906588\n",
      "50 0.12862159908300475\n",
      "100 0.15643176846694362\n",
      "500 0.22481194244797262\n"
     ]
    }
   ],
   "source": [
    "# Adapted from:\n",
    "# https://towardsdatascience.com/k-means-dbscan-gmm-agglomerative-clustering-mastering-the-popular-models-in-a-segmentation-c891a3818e29\n",
    "from kneed import KneeLocator\n",
    "neighbors=[10, 15, 50, 100, 500]#[10,15,20,25,30,35,40, 45, 50]\n",
    "eps=[]\n",
    "for i in neighbors:\n",
    "    nearest_neighbors = NearestNeighbors(n_neighbors=i)\n",
    "    neighbors = nearest_neighbors.fit(clusterdataset_minmax)\n",
    "    distances, indices = neighbors.kneighbors(clusterdataset_minmax)\n",
    "    distances = np.sort(distances[:,i-1], axis=0)\n",
    "    j = np.arange(len(distances))\n",
    "    knee = KneeLocator(j, distances, S=1, curve='convex', direction='increasing', interp_method='polynomial')\n",
    "    fig = plt.figure(figsize=(5, 5))\n",
    "    knee.plot_knee()\n",
    "    plt.xlabel(\"Points\")\n",
    "    plt.ylabel(\"Distance\")\n",
    "    eps.append(distances[knee.knee])\n",
    "    print(i, distances[knee.knee])\n",
    "    plt.savefig(os.path.join('eps.png'), dpi=350)"
   ]
  },
  {
   "cell_type": "code",
   "execution_count": null,
   "metadata": {},
   "outputs": [],
   "source": [
    "# dbscan = DBSCAN(eps= 0.19465529677899998, min_samples=10)\n",
    "\n",
    "# # Then fit the model to your data using the fit method\n",
    "# model = dbscan.fit(clusterdataset_minmax)\n",
    "    \n",
    "# # Calculate Silhoutte Score\n",
    "\n",
    "# score = silhouette_score(clusterdataset_minmax, model.labels_, metric='euclidean')\n",
    "    \n",
    "# score"
   ]
  },
  {
   "cell_type": "code",
   "execution_count": 98,
   "metadata": {},
   "outputs": [],
   "source": [
    "# addaptd from:\n",
    "# https://towardsdatascience.com/k-means-dbscan-gmm-agglomerative-clustering-mastering-the-popular-models-in-a-segmentation-c891a3818e29\n",
    "\n",
    "\n",
    "# Silhouette Score for DBSCAN\n",
    "\n",
    "from sklearn.metrics import silhouette_score \n",
    "from sklearn.cluster import DBSCAN\n",
    "\n",
    "def get_dbscan_score(dataframe, eps1, center):\n",
    "    '''\n",
    "    \n",
    "    INPUT:\n",
    "        data - the dataset you want to fit kmeans to\n",
    "        center - the number of centers you want (the k value)\n",
    "    OUTPUT:\n",
    "        score - the Silhouette Score for DBSCAN\n",
    "    '''\n",
    "    #instantiate kmeans\n",
    "    dbscan = DBSCAN(eps= eps1, min_samples=center)\n",
    "\n",
    "    # Then fit the model to your data using the fit method\n",
    "    model = dbscan.fit(dataframe)\n",
    "    \n",
    "    # Calculate Silhoutte Score\n",
    "\n",
    "    score = silhouette_score(dataframe, model.labels_, metric='euclidean')\n",
    "    \n",
    "    return score"
   ]
  },
  {
   "cell_type": "code",
   "execution_count": null,
   "metadata": {},
   "outputs": [],
   "source": [
    "np.linspace(10, 40, 4).astype(int)"
   ]
  },
  {
   "cell_type": "code",
   "execution_count": 100,
   "metadata": {},
   "outputs": [
    {
     "data": {
      "text/plain": [
       "[0.07802905606646471,\n",
       " 0.09500833487906588,\n",
       " 0.12862159908300475,\n",
       " 0.15643176846694362,\n",
       " 0.22481194244797262]"
      ]
     },
     "execution_count": 100,
     "metadata": {},
     "output_type": "execute_result"
    }
   ],
   "source": [
    "eps11"
   ]
  },
  {
   "cell_type": "code",
   "execution_count": 99,
   "metadata": {},
   "outputs": [
    {
     "name": "stdout",
     "output_type": "stream",
     "text": [
      "0.07802905606646471 10 0.16692815960043494\n",
      "0.07802905606646471 20 0.07385097705516432\n",
      "0.07802905606646471 30 -0.0024906424254366767\n",
      "0.07802905606646471 40 -0.0654615938669058\n",
      "0.09500833487906588 10 -0.09807575319481054\n",
      "0.09500833487906588 20 -0.11581568074730429\n",
      "0.09500833487906588 30 -0.18250372057736144\n",
      "0.09500833487906588 40 -0.29280419081989345\n",
      "0.12862159908300475 10 0.0790342568002073\n",
      "0.12862159908300475 20 0.2969360383304395\n",
      "0.12862159908300475 30 0.2913182255317231\n",
      "0.12862159908300475 40 0.279504125506109\n",
      "0.15643176846694362 10 0.3407376168461333\n",
      "0.15643176846694362 20 0.33024201111461116\n",
      "0.15643176846694362 30 0.32470218098651915\n",
      "0.15643176846694362 40 0.3203308486502024\n",
      "0.22481194244797262 10 0.3699136239278695\n",
      "0.22481194244797262 20 0.3714599901265763\n",
      "0.22481194244797262 30 0.36926013269611346\n",
      "0.22481194244797262 40 0.3670548863477449\n"
     ]
    }
   ],
   "source": [
    "# Adapted from:\n",
    "# https://towardsdatascience.com/k-means-dbscan-gmm-agglomerative-clustering-mastering-the-popular-models-in-a-segmentation-c891a3818e29\n",
    "centers = np.linspace(10, 40, 4).astype(int)\n",
    "eps11=eps\n",
    "eps_=[]\n",
    "for eps1 in eps11: \n",
    "    scores = []\n",
    "    min_samples= []\n",
    "    for center in centers:\n",
    "        scores.append(get_dbscan_score(clusterdataset_minmax, eps1, center))\n",
    "        eps_.append(eps1)\n",
    "        min_samples.append(center)\n",
    "        print (eps1, center,get_dbscan_score(clusterdataset_minmax, eps1, center) )\n",
    "    fig = plt.figure(figsize=(5, 5))\n",
    "    plt.plot(centers, scores, linestyle='--', marker='o', color='b');\n",
    "    plt.xlabel('min_samples');\n",
    "    plt.ylabel('Silhouette Score');\n",
    "    plt.title('Silhouette Score vs. min_samples');\n",
    "    plt.savefig(os.path.join('epsminptsshe.png'), dpi=300)\n",
    "\n",
    "#df3 = pd.DataFrame(centers,columns=['min_samples'])\n",
    "#df3['eps_'] =eps1\n",
    "#df3['scores'] = scores\n",
    "#df4 = df3[df3.scores == df3.scores.max()]\n",
    "\n",
    "#print('Optimal number of min_samples based on silhouette score:', df4['min_samples'].tolist())\n"
   ]
  },
  {
   "cell_type": "code",
   "execution_count": null,
   "metadata": {},
   "outputs": [],
   "source": []
  },
  {
   "cell_type": "code",
   "execution_count": 101,
   "metadata": {},
   "outputs": [
    {
     "data": {
      "text/html": [
       "<div>\n",
       "<style scoped>\n",
       "    .dataframe tbody tr th:only-of-type {\n",
       "        vertical-align: middle;\n",
       "    }\n",
       "\n",
       "    .dataframe tbody tr th {\n",
       "        vertical-align: top;\n",
       "    }\n",
       "\n",
       "    .dataframe thead th {\n",
       "        text-align: right;\n",
       "    }\n",
       "</style>\n",
       "<table border=\"1\" class=\"dataframe\">\n",
       "  <thead>\n",
       "    <tr style=\"text-align: right;\">\n",
       "      <th></th>\n",
       "      <th>min_samples</th>\n",
       "      <th>eps_</th>\n",
       "      <th>silhouette score</th>\n",
       "    </tr>\n",
       "  </thead>\n",
       "  <tbody>\n",
       "    <tr>\n",
       "      <th>0</th>\n",
       "      <td>10</td>\n",
       "      <td>0.224812</td>\n",
       "      <td>0.369914</td>\n",
       "    </tr>\n",
       "    <tr>\n",
       "      <th>1</th>\n",
       "      <td>20</td>\n",
       "      <td>0.224812</td>\n",
       "      <td>0.371460</td>\n",
       "    </tr>\n",
       "    <tr>\n",
       "      <th>2</th>\n",
       "      <td>30</td>\n",
       "      <td>0.224812</td>\n",
       "      <td>0.369260</td>\n",
       "    </tr>\n",
       "    <tr>\n",
       "      <th>3</th>\n",
       "      <td>40</td>\n",
       "      <td>0.224812</td>\n",
       "      <td>0.367055</td>\n",
       "    </tr>\n",
       "  </tbody>\n",
       "</table>\n",
       "</div>"
      ],
      "text/plain": [
       "   min_samples      eps_  silhouette score\n",
       "0           10  0.224812          0.369914\n",
       "1           20  0.224812          0.371460\n",
       "2           30  0.224812          0.369260\n",
       "3           40  0.224812          0.367055"
      ]
     },
     "execution_count": 101,
     "metadata": {},
     "output_type": "execute_result"
    }
   ],
   "source": [
    "#save the scores and mim_samples to csv\n",
    "df3 = pd.DataFrame(centers,columns=['min_samples'])\n",
    "df3['eps_'] =eps1\n",
    "df3['silhouette score'] = scores\n",
    "\n",
    "# df3.to_csv(os.path.join(\"scores and mim_samples.csv\"), index=True)\n",
    "df3"
   ]
  },
  {
   "cell_type": "code",
   "execution_count": null,
   "metadata": {},
   "outputs": [],
   "source": [
    "clusterdataset_minmax"
   ]
  },
  {
   "cell_type": "markdown",
   "metadata": {},
   "source": [
    "## 2.1 Finding DBSCAN the best parameter that result in the best Silhouette Score."
   ]
  },
  {
   "cell_type": "code",
   "execution_count": null,
   "metadata": {},
   "outputs": [],
   "source": [
    "# Based on the hyperparameters found in the previous class\n",
    "dbscan = DBSCAN(eps=0.22481194244797262, min_samples=20, n_jobs=4)\n",
    "dbscan_labels = dbscan.fit_predict(clusterdataset_minmax)\n",
    "Counter(dbscan_labels)"
   ]
  },
  {
   "cell_type": "code",
   "execution_count": null,
   "metadata": {},
   "outputs": [],
   "source": [
    "Counter(dbscan_labels)"
   ]
  },
  {
   "cell_type": "code",
   "execution_count": null,
   "metadata": {},
   "outputs": [],
   "source": [
    "dbscan_labels"
   ]
  },
  {
   "cell_type": "markdown",
   "metadata": {},
   "source": [
    "# Creating new df with detected outliers (they may be classified later based on the final clusters)"
   ]
  },
  {
   "cell_type": "code",
   "execution_count": null,
   "metadata": {},
   "outputs": [],
   "source": [
    "# Save the newly detected outliers (they will be classified later based on the final clusters)\n",
    "df_outliers = clusterdataset_minmax[dbscan_labels==-1].copy() #use method copy\n",
    "df_outliers.shape"
   ]
  },
  {
   "cell_type": "markdown",
   "metadata": {},
   "source": [
    "# Creating new df without outliers"
   ]
  },
  {
   "cell_type": "code",
   "execution_count": null,
   "metadata": {},
   "outputs": [],
   "source": [
    "# New df without outliers\n",
    "clusterdataset_minmax_no_outliers= clusterdataset_minmax[dbscan_labels!=-1].copy()"
   ]
  },
  {
   "cell_type": "code",
   "execution_count": null,
   "metadata": {},
   "outputs": [],
   "source": [
    "clusterdataset_minmax_no_outliers.shape"
   ]
  },
  {
   "cell_type": "markdown",
   "metadata": {},
   "source": [
    "# Kmeans ++"
   ]
  },
  {
   "cell_type": "code",
   "execution_count": null,
   "metadata": {},
   "outputs": [],
   "source": [
    "range_clusters = range(1, 6)"
   ]
  },
  {
   "cell_type": "code",
   "execution_count": null,
   "metadata": {},
   "outputs": [],
   "source": [
    "inertia = []\n",
    "for n_clus in range_clusters:  # iterate over desired ncluster range\n",
    "    kmclust = KMeans(n_clusters=n_clus, init='k-means++', n_init=15, random_state=1)\n",
    "    kmclust.fit(clusterdataset_minmax_no_outliers)\n",
    "    inertia.append(kmclust.inertia_)  # save the inertia of the given cluster solution"
   ]
  },
  {
   "cell_type": "code",
   "execution_count": null,
   "metadata": {},
   "outputs": [],
   "source": [
    "# The inertia plot\n",
    "plt.figure(figsize=(9,5))\n",
    "plt.plot(inertia)\n",
    "plt.ylabel(\"Inertia: SSw\")\n",
    "plt.xlabel(\"Number of clusters\")\n",
    "plt.title(\"Inertia plot over clusters\", size=15)\n",
    "plt.show()"
   ]
  },
  {
   "cell_type": "code",
   "execution_count": null,
   "metadata": {},
   "outputs": [],
   "source": [
    "# Adapted from:\n",
    "# https://scikit-learn.org/stable/auto_examples/cluster/plot_kmeans_silhouette_analysis.html#sphx-glr-auto-examples-cluster-plot-kmeans-silhouette-analysis-py\n",
    "\n",
    "# Storing average silhouette metric\n",
    "avg_silhouette = []\n",
    "for nclus in range_clusters:\n",
    "    # Skip nclus == 1\n",
    "    if nclus == 1:\n",
    "        continue\n",
    "    \n",
    "    # Create a figure\n",
    "    fig = plt.figure(figsize=(13, 7))\n",
    "\n",
    "    # Initialize the KMeans object with n_clusters value and a random generator\n",
    "    # seed of 10 for reproducibility.\n",
    "    kmclust = KMeans(n_clusters=nclus, init='k-means++', n_init=15, random_state=1)\n",
    "    cluster_labels = kmclust.fit_predict(clusterdataset_minmax_no_outliers)\n",
    "\n",
    "    # The silhouette_score gives the average value for all the samples.\n",
    "    # This gives a perspective into the density and separation of the formed clusters\n",
    "    silhouette_avg = silhouette_score(clusterdataset_minmax_no_outliers, cluster_labels)\n",
    "    avg_silhouette.append(silhouette_avg)\n",
    "    print(f\"For n_clusters = {nclus}, the average silhouette_score is : {silhouette_avg}\")\n",
    "\n",
    "    # Compute the silhouette scores for each sample\n",
    "    sample_silhouette_values = silhouette_samples(clusterdataset_minmax_no_outliers, cluster_labels)\n",
    "\n",
    "    y_lower = 10\n",
    "    for i in range(nclus):\n",
    "        # Aggregate the silhouette scores for samples belonging to cluster i, and sort them\n",
    "        ith_cluster_silhouette_values = sample_silhouette_values[cluster_labels == i]\n",
    "        ith_cluster_silhouette_values.sort()\n",
    "        \n",
    "        # Get y_upper to demarcate silhouette y range size\n",
    "        size_cluster_i = ith_cluster_silhouette_values.shape[0]\n",
    "        y_upper = y_lower + size_cluster_i\n",
    "        \n",
    "        # Filling the silhouette\n",
    "        color = cm.nipy_spectral(float(i) / nclus)\n",
    "        plt.fill_betweenx(np.arange(y_lower, y_upper),\n",
    "                          0, ith_cluster_silhouette_values,\n",
    "                          facecolor=color, edgecolor=color, alpha=0.7)\n",
    "\n",
    "        # Label the silhouette plots with their cluster numbers at the middle\n",
    "        plt.text(-0.05, y_lower + 0.5 * size_cluster_i, str(i))\n",
    "\n",
    "        # Compute the new y_lower for next plot\n",
    "        y_lower = y_upper + 10  # 10 for the 0 samples\n",
    "\n",
    "    plt.title(\"The silhouette plot for the various clusters.\")\n",
    "    plt.xlabel(\"The silhouette coefficient values\")\n",
    "    plt.ylabel(\"Cluster label\")\n",
    "\n",
    "    # The vertical line for average silhouette score of all the values\n",
    "    plt.axvline(x=silhouette_avg, color=\"red\", linestyle=\"--\")\n",
    "    \n",
    "    # The silhouette coefficient can range from -1, 1\n",
    "    xmin, xmax = np.round(sample_silhouette_values.min() -0.1, 2), np.round(sample_silhouette_values.max() + 0.1, 2)\n",
    "    plt.xlim([xmin, xmax])\n",
    "    \n",
    "    # The (nclus+1)*10 is for inserting blank space between silhouette\n",
    "    # plots of individual clusters, to demarcate them clearly.\n",
    "    plt.ylim([0, len(clusterdataset_minmax_no_outliers) + (nclus + 1) * 10])\n",
    "\n",
    "    plt.yticks([])  # Clear the yaxis labels / ticks\n",
    "    plt.xticks(np.arange(xmin, xmax, 0.1))\n",
    "    plt.savefig(os.path.join('kmean++.png'), dpi=300)"
   ]
  },
  {
   "cell_type": "markdown",
   "metadata": {},
   "source": [
    "### Final KMeans ++ clustering solution"
   ]
  },
  {
   "cell_type": "code",
   "execution_count": null,
   "metadata": {},
   "outputs": [],
   "source": []
  },
  {
   "cell_type": "code",
   "execution_count": null,
   "metadata": {},
   "outputs": [],
   "source": [
    "# final cluster solution\n",
    "number_clusters = 3\n",
    "kmclust = KMeans(n_clusters=number_clusters, init='k-means++', n_init=15, random_state=1)\n",
    "km_labels = kmclust.fit_predict(clusterdataset_minmax_no_outliers)\n",
    "km_labels.shape"
   ]
  },
  {
   "cell_type": "code",
   "execution_count": null,
   "metadata": {},
   "outputs": [],
   "source": []
  },
  {
   "cell_type": "code",
   "execution_count": null,
   "metadata": {},
   "outputs": [],
   "source": [
    "# Creating a dataFrame with labes\n",
    "df_labels = pd.DataFrame(km_labels,columns=['labelskmeans++'])\n",
    "df_labels['index'] =clusterdataset_minmax_no_outliers.index\n",
    "df_labels.set_index(\"index\", inplace = True)"
   ]
  },
  {
   "cell_type": "code",
   "execution_count": null,
   "metadata": {},
   "outputs": [],
   "source": []
  },
  {
   "cell_type": "markdown",
   "metadata": {},
   "source": [
    "# Characterizing the final clusters"
   ]
  },
  {
   "cell_type": "code",
   "execution_count": null,
   "metadata": {},
   "outputs": [],
   "source": [
    "# Characterizing the final clusters\n",
    "df_kmeanspp = pd.concat((clusterdataset_minmax_no_outliers, df_labels), axis=1)\n",
    "df_kmeanspp.groupby('labelskmeans++').count()"
   ]
  },
  {
   "cell_type": "code",
   "execution_count": null,
   "metadata": {},
   "outputs": [],
   "source": []
  },
  {
   "cell_type": "markdown",
   "metadata": {},
   "source": [
    "# inter-cluster distance map"
   ]
  },
  {
   "cell_type": "code",
   "execution_count": null,
   "metadata": {},
   "outputs": [],
   "source": [
    "# Inter cluster distance map\n",
    "from yellowbrick.cluster import InterclusterDistance\n",
    "# Instantiate the clustering model and visualizer\n",
    "visualizer = InterclusterDistance(kmclust)\n",
    "visualizer.fit(df_kmeanspp)        # Fit the data to the visualizer\n",
    "visualizer.show()        # Finalize and render the figure\n",
    "plt.savefig(os.path.join('InterclusterDistance.png'), dpi=300)"
   ]
  },
  {
   "cell_type": "markdown",
   "metadata": {},
   "source": [
    "## Cluster Analysis"
   ]
  },
  {
   "cell_type": "code",
   "execution_count": null,
   "metadata": {},
   "outputs": [],
   "source": [
    "def cluster_profiles(df, label_columns, figsize, compar_titles=None):\n",
    "    \"\"\"\n",
    "    Pass df with labels columns of one or multiple clustering labels. \n",
    "    Then specify this label columns to perform the cluster profile according to them.\n",
    "    \"\"\"\n",
    "    if compar_titles == None:\n",
    "        compar_titles = [\"\"]*len(label_columns)\n",
    "        \n",
    "    sns.set()\n",
    "    fig, axes = plt.subplots(nrows=len(label_columns), ncols=2, figsize=figsize, squeeze=False)\n",
    "    for ax, label, titl in zip(axes, label_columns, compar_titles):\n",
    "        # Filtering df\n",
    "        drop_cols = [i for i in label_columns if i!=label]\n",
    "        dfax = df.drop(drop_cols, axis=1)\n",
    "        \n",
    "        # Getting the cluster centroids and counts\n",
    "        centroids = dfax.groupby(by=label, as_index=False).mean()\n",
    "        counts = dfax.groupby(by=label, as_index=False).count().iloc[:,[0,1]]\n",
    "        counts.columns = [label, \"counts\"]\n",
    "        \n",
    "        # Setting Data\n",
    "        pd.plotting.parallel_coordinates(centroids, label, color=sns.color_palette(), ax=ax[0])\n",
    "        sns.barplot(x=label, y=\"counts\", data=counts, ax=ax[1])\n",
    "\n",
    "        #Setting Layout\n",
    "        handles, _ = ax[0].get_legend_handles_labels()\n",
    "        cluster_labels = [\"Cluster {}\".format(i) for i in range(len(handles))]\n",
    "#        ax[0].annotate(text=titl, xy=(0.95,1.1), xycoords='axes fraction', fontsize=13, fontweight = 'heavy') \n",
    "        ax[0].legend(handles, cluster_labels) # Adaptable to number of clusters\n",
    "        ax[0].axhline(color=\"black\", linestyle=\"--\")\n",
    "        ax[0].set_title(\"Cluster Means - {} Clusters\".format(len(handles)), fontsize=13)\n",
    "        ax[0].set_xticklabels(ax[0].get_xticklabels(), rotation=-20)\n",
    "        ax[1].set_xticklabels(cluster_labels)\n",
    "        ax[1].set_xlabel(\"\")\n",
    "        ax[1].set_ylabel(\"Absolute Frequency\")\n",
    "        ax[1].set_title(\"Cluster Sizes - {} Clusters\".format(len(handles)), fontsize=13)\n",
    "    \n",
    "    plt.subplots_adjust(hspace=0.4, top=0.90)\n",
    "    plt.suptitle(\"Cluster Simple Profilling\", fontsize=23)\n",
    "    plt.show()\n",
    "    plt.savefig(os.path.join('cluster_profiles.png'), dpi=300)"
   ]
  },
  {
   "cell_type": "code",
   "execution_count": null,
   "metadata": {},
   "outputs": [],
   "source": [
    "# Profilling each cluster (product, behavior, merged)\n",
    "cluster_profiles(\n",
    "    df_kmeanspp, \n",
    "    label_columns = ['labelskmeans++'], \n",
    "    figsize = (28, 13), \n",
    "    compar_titles = [\"cluster\"]\n",
    ")"
   ]
  },
  {
   "cell_type": "markdown",
   "metadata": {},
   "source": [
    "## Cluster visualization using t-SNE"
   ]
  },
  {
   "cell_type": "code",
   "execution_count": null,
   "metadata": {},
   "outputs": [],
   "source": [
    "# This is step can be quite time consuming\n",
    "two_dim = TSNE(random_state=42).fit_transform(df_kmeanspp)"
   ]
  },
  {
   "cell_type": "code",
   "execution_count": null,
   "metadata": {},
   "outputs": [],
   "source": [
    "# t-SNE visualization\n",
    "pd.DataFrame(two_dim).plot.scatter(x=0, y=1, c=df_kmeanspp['labelskmeans++'], colormap='tab10', figsize=(15,10))\n",
    "plt.savefig(os.path.join('t-sne.png'), dpi=300)\n",
    "plt.show()"
   ]
  },
  {
   "cell_type": "code",
   "execution_count": null,
   "metadata": {},
   "outputs": [],
   "source": []
  },
  {
   "cell_type": "markdown",
   "metadata": {},
   "source": [
    "# SOM"
   ]
  },
  {
   "cell_type": "code",
   "execution_count": null,
   "metadata": {},
   "outputs": [],
   "source": [
    "# This som implementation does not have a random seed parameter\n",
    "# We're going to set it up ourselves\n",
    "np.random.seed(42)\n",
    "\n",
    "sm = sompy.SOMFactory().build(\n",
    "    clusterdataset_minmax_no_outliers.values, \n",
    "    mapsize=(5, 5),\n",
    "    initialization='random', \n",
    "    neighborhood='gaussian',\n",
    "    training='batch',\n",
    "    lattice='hexa',\n",
    "    component_names=metric_features_nmulticolinearete\n",
    ")\n",
    "sm.train(n_job=4, verbose='info', train_rough_len=100, train_finetune_len=100)"
   ]
  },
  {
   "cell_type": "code",
   "execution_count": null,
   "metadata": {},
   "outputs": [],
   "source": [
    "# Visualizing the Component planes (feature values)\n",
    "sns.set()\n",
    "view2D = View2D(12,12,\"\", text_size=10)\n",
    "view2D.show(sm, col_sz=3, what='codebook')\n",
    "plt.subplots_adjust(top=0.90)\n",
    "plt.suptitle(\"Component Planes\", fontsize=20)\n",
    "plt.show()"
   ]
  },
  {
   "cell_type": "code",
   "execution_count": null,
   "metadata": {},
   "outputs": [],
   "source": [
    "# Here you have U-matrix\n",
    "u = sompy.umatrix.UMatrixView(12, 12, 'umatrix', show_axis=True, text_size=8, show_text=True)\n",
    "\n",
    "UMAT = u.show(\n",
    "    sm, \n",
    "    distance2=1, \n",
    "    row_normalized=False, \n",
    "    show_data=True, \n",
    "    contooor=True, # Visualize isomorphic curves\n",
    "    blob=False\n",
    ")\n",
    "\n",
    "UMAT[1]  # U-matrix values - no colorscale so we have to rely on the values :("
   ]
  },
  {
   "cell_type": "code",
   "execution_count": null,
   "metadata": {},
   "outputs": [],
   "source": [
    "vhts  = BmuHitsView(12,12,\"Hits Map\")\n",
    "vhts.show(sm, anotate=True, onlyzeros=False, labelsize=12, cmap=\"Blues\")\n",
    "plt.show()"
   ]
  },
  {
   "cell_type": "code",
   "execution_count": null,
   "metadata": {},
   "outputs": [],
   "source": [
    "# This som implementation does not have a random seed parameter\n",
    "# We're going to set it up ourselves\n",
    "np.random.seed(42)\n",
    "\n",
    "# Notice that the SOM did not converge - We're under a time constraint for this class\n",
    "sm = sompy.SOMFactory().build(\n",
    "    clusterdataset_minmax_no_outliers.values, \n",
    "    mapsize=(50, 50), \n",
    "    initialization='random',\n",
    "    neighborhood='gaussian',\n",
    "    training='batch',\n",
    "    lattice='hexa',\n",
    "    component_names=metric_features_nmulticolinearete\n",
    ")\n",
    "sm.train(n_job=-1, verbose='info', train_rough_len=300, train_finetune_len=300)"
   ]
  },
  {
   "cell_type": "code",
   "execution_count": null,
   "metadata": {},
   "outputs": [],
   "source": [
    "# Coordinates of the units in the input space\n",
    "sm.get_node_vectors()"
   ]
  },
  {
   "cell_type": "code",
   "execution_count": null,
   "metadata": {},
   "outputs": [],
   "source": [
    "# Component planes on the 50x50 grid\n",
    "sns.set()\n",
    "view2D = View2D(40,25,\"\", text_size=20)\n",
    "view2D.show(sm, col_sz=3, what='codebook')\n",
    "plt.subplots_adjust(top=0.90)\n",
    "plt.suptitle(\"Component Planes\", fontsize=20)\n",
    "plt.savefig(os.path.join('Component Planes.png'), dpi=300)\n",
    "plt.show()"
   ]
  },
  {
   "cell_type": "code",
   "execution_count": null,
   "metadata": {},
   "outputs": [],
   "source": [
    "# U-matrix of the 50x50 grid\n",
    "u = sompy.umatrix.UMatrixView(12, 12, 'umatrix', show_axis=True, text_size=8, show_text=True)\n",
    "\n",
    "UMAT = u.show(\n",
    "    sm, \n",
    "    distance2=1, \n",
    "    row_normalized=False, \n",
    "    show_data=True, \n",
    "    contooor=True # Visualize isomorphic curves\n",
    "    \n",
    ")\n",
    "plt.savefig(os.path.join('umatrix.png'), dpi=300)"
   ]
  },
  {
   "cell_type": "code",
   "execution_count": null,
   "metadata": {},
   "outputs": [],
   "source": [
    "#df_=pd.DataFrame(sm.get_node_vectors())\n",
    "#df_"
   ]
  },
  {
   "cell_type": "markdown",
   "metadata": {},
   "source": [
    "### K-Means on top of SOM units"
   ]
  },
  {
   "cell_type": "code",
   "execution_count": null,
   "metadata": {},
   "outputs": [],
   "source": [
    "# Perform K-Means clustering on top of the 2500 untis (sm.get_node_vectors() output)\n",
    "kmeans = KMeans(n_clusters=3, init='k-means++', n_init=20, random_state=42)\n",
    "nodeclus_labels = sm.cluster(kmeans)\n",
    "\n",
    "hits  = HitMapView(12, 12,\"Clustering\", text_size=10)\n",
    "hits.show(sm, anotate=True, onlyzeros=False, labelsize=7, cmap=\"Pastel1\")\n",
    "\n",
    "plt.show()"
   ]
  },
  {
   "cell_type": "code",
   "execution_count": null,
   "metadata": {},
   "outputs": [],
   "source": [
    "# Check the nodes and and respective clusters\n",
    "nodes = sm.get_node_vectors()\n",
    "\n",
    "df_nodes = pd.DataFrame(nodes, columns=metric_features_nmulticolinearete)\n",
    "df_nodes['label'] = nodeclus_labels\n",
    "df_nodes['label'].unique()"
   ]
  },
  {
   "cell_type": "code",
   "execution_count": null,
   "metadata": {},
   "outputs": [],
   "source": [
    "# Obtaining SOM's BMUs labels\n",
    "bmus_map = sm.find_bmu(clusterdataset_minmax_no_outliers)[0]  # get bmus for each observation in df\n",
    "\n",
    "df_bmus = pd.DataFrame(\n",
    "    np.concatenate(( clusterdataset_minmax_no_outliers, np.expand_dims(bmus_map,1)), axis=1),\n",
    "    index= clusterdataset_minmax_no_outliers.index, columns=np.append( clusterdataset_minmax_no_outliers.columns,\"BMU\")\n",
    ")\n",
    "df_bmus"
   ]
  },
  {
   "cell_type": "code",
   "execution_count": null,
   "metadata": {},
   "outputs": [],
   "source": [
    "# Get cluster labels for each observation\n",
    "df_final = df_bmus.merge(df_nodes['label'], how='left', left_on=\"BMU\", right_index=True)\n",
    "df_final['label'].unique()"
   ]
  },
  {
   "cell_type": "code",
   "execution_count": null,
   "metadata": {},
   "outputs": [],
   "source": []
  },
  {
   "cell_type": "code",
   "execution_count": null,
   "metadata": {},
   "outputs": [],
   "source": []
  },
  {
   "cell_type": "markdown",
   "metadata": {},
   "source": [
    "# Characterizing the final clusters"
   ]
  },
  {
   "cell_type": "markdown",
   "metadata": {},
   "source": [
    "## Lets define the features to describe the clusters"
   ]
  },
  {
   "cell_type": "code",
   "execution_count": null,
   "metadata": {},
   "outputs": [],
   "source": [
    "non_metric_features=[\"donor_resp_maill_offer\", \"donor_interest_collecting\",\"donor_have_child_y_n\",\\\n",
    "                     \"urban_city_level\", \"social_economical_status\", 'GENDER', 'Group_age', ]"
   ]
  },
  {
   "cell_type": "code",
   "execution_count": null,
   "metadata": {},
   "outputs": [],
   "source": [
    "metric_features_describe_cluster=[\"AVGGIFT\", \"NGIFTALL\", \"IC1\", \"MINRAMNT\", \"MAXRAMNT\", \"months_lastgift\", \"ETH14\"]"
   ]
  },
  {
   "cell_type": "markdown",
   "metadata": {},
   "source": [
    "# Merging the dataset with cluster solution and with the original dataset"
   ]
  },
  {
   "cell_type": "code",
   "execution_count": null,
   "metadata": {},
   "outputs": [],
   "source": [
    "# Creating a copy for catergorical dataset\n",
    "datalapsed_caterorical= datasetlapsed[non_metric_features].copy()"
   ]
  },
  {
   "cell_type": "code",
   "execution_count": null,
   "metadata": {},
   "outputs": [],
   "source": [
    "# Transforming categorical variables into dummies\n",
    "datalapsed_caterorical = pd.get_dummies(datalapsed_caterorical, non_metric_features)"
   ]
  },
  {
   "cell_type": "code",
   "execution_count": null,
   "metadata": {},
   "outputs": [],
   "source": [
    "datalapsed_caterorical"
   ]
  },
  {
   "cell_type": "code",
   "execution_count": null,
   "metadata": {},
   "outputs": [],
   "source": [
    "# Concatenating the origina data with df_labes for Characterizing the final clusters\n",
    "datalapsed_caterorical = pd.concat((datalapsed_caterorical, df_labels), axis=1)\n"
   ]
  },
  {
   "cell_type": "code",
   "execution_count": null,
   "metadata": {},
   "outputs": [],
   "source": [
    "demographic_analises= datalapsed_caterorical.groupby('labelskmeans++').sum()\n",
    "demographic_analises.columns"
   ]
  },
  {
   "cell_type": "code",
   "execution_count": null,
   "metadata": {},
   "outputs": [],
   "source": [
    "# Table for urdan results \n",
    "urban=['urban_city_level_City','urban_city_level_Rural','urban_city_level_Suburban', 'urban_city_level_Town',\n",
    "       'urban_city_level_Urban']\n",
    "demographic_analises[urban]"
   ]
  },
  {
   "cell_type": "code",
   "execution_count": null,
   "metadata": {},
   "outputs": [],
   "source": [
    "#save to csv \n",
    "demographic_analises[urban].to_csv(os.path.join(\"urban.csv\"), index=True)"
   ]
  },
  {
   "cell_type": "code",
   "execution_count": null,
   "metadata": {},
   "outputs": [],
   "source": [
    "# Table for social_economical_status results\n",
    "social_economical_status= ['social_economical_status_Above average SES','social_economical_status_Below average SES',\\\n",
    "                          'social_economical_status_Highest SES','social_economical_status_Lowest SES']\n",
    "demographic_analises[social_economical_status]"
   ]
  },
  {
   "cell_type": "code",
   "execution_count": null,
   "metadata": {},
   "outputs": [],
   "source": [
    "#save to csv \n",
    "demographic_analises[social_economical_status].to_csv(os.path.join(\"social.csv\"), index=True)"
   ]
  },
  {
   "cell_type": "code",
   "execution_count": null,
   "metadata": {},
   "outputs": [],
   "source": [
    "# Table for age results\n",
    "age =['Group_age_Age 0-18', 'Group_age_Age 18-24','Group_age_Age 25-34', 'Group_age_Age 35-44', 'Group_age_Age 45-54',\n",
    "       'Group_age_Age 55-64', 'Group_age_Age 65-74', 'Group_age_Age >= 75']\n",
    "demographic_analises[age]"
   ]
  },
  {
   "cell_type": "code",
   "execution_count": null,
   "metadata": {},
   "outputs": [],
   "source": [
    "#save to csv \n",
    "demographic_analises[age].to_csv(os.path.join(\"age.csv\"), index=True)"
   ]
  },
  {
   "cell_type": "code",
   "execution_count": null,
   "metadata": {},
   "outputs": [],
   "source": [
    "# Table for resp results\n",
    "resp=['donor_resp_maill_offer_None', 'donor_resp_maill_offer_both',\n",
    "       'donor_resp_maill_offer_hit', 'donor_resp_maill_offer_other types']\n",
    "demographic_analises[resp]"
   ]
  },
  {
   "cell_type": "code",
   "execution_count": null,
   "metadata": {},
   "outputs": [],
   "source": [
    "#save to csv \n",
    "demographic_analises[resp].to_csv(os.path.join(\"resp.csv\"), index=True)"
   ]
  },
  {
   "cell_type": "code",
   "execution_count": null,
   "metadata": {},
   "outputs": [],
   "source": [
    "# Table for interest results\n",
    "interest=['donor_interest_collecting_no', 'donor_interest_collecting_yes']\n",
    "demographic_analises[interest]\n"
   ]
  },
  {
   "cell_type": "code",
   "execution_count": null,
   "metadata": {},
   "outputs": [],
   "source": [
    "#save to csv \n",
    "demographic_analises[interest].to_csv(os.path.join(\"interest.csv\"), index=True)"
   ]
  },
  {
   "cell_type": "code",
   "execution_count": null,
   "metadata": {},
   "outputs": [],
   "source": [
    "# Table for sex results\n",
    "sex=['GENDER_F', 'GENDER_M']\n",
    "demographic_analises[sex]\n"
   ]
  },
  {
   "cell_type": "code",
   "execution_count": null,
   "metadata": {},
   "outputs": [],
   "source": [
    "#save to csv \n",
    "demographic_analises[sex].to_csv(os.path.join(\"sex.csv\"), index=True)"
   ]
  },
  {
   "cell_type": "code",
   "execution_count": null,
   "metadata": {},
   "outputs": [],
   "source": [
    "# Creating a copy for metric_features_describe_cluster dataset\n",
    "datalapsed_metric_cluster= datasetlapsed[metric_features_describe_cluster].copy()"
   ]
  },
  {
   "cell_type": "code",
   "execution_count": null,
   "metadata": {},
   "outputs": [],
   "source": [
    "datalapsed_metric_cluster"
   ]
  },
  {
   "cell_type": "code",
   "execution_count": null,
   "metadata": {},
   "outputs": [],
   "source": [
    "# Concatenating the origina data with df_labes for Characterizing the final clusters\n",
    "datalapsed_metric_cluster = pd.concat((datalapsed_metric_cluster, df_labels), axis=1)\n"
   ]
  },
  {
   "cell_type": "code",
   "execution_count": null,
   "metadata": {},
   "outputs": [],
   "source": [
    "# Creating a data frame with the mean values for each cluster\n",
    "Cluster=datalapsed_metric_cluster.groupby('labelskmeans++').mean()\n",
    "Cluster"
   ]
  },
  {
   "cell_type": "code",
   "execution_count": null,
   "metadata": {},
   "outputs": [],
   "source": [
    "#save AD to csv \n",
    "Cluster.to_csv(os.path.join(\"Cluster.csv\"), index=True)"
   ]
  },
  {
   "cell_type": "code",
   "execution_count": null,
   "metadata": {},
   "outputs": [],
   "source": [
    "# features for analyse the active donor \n",
    "metric_features_describe_clusterActive=[\"AVGGIFT\", \"NGIFTALL\", \"IC1\", \"MINRAMNT\", \"MAXRAMNT\", \"months_lastgift\",\\\n",
    "                                        \"DONOR_TYPE\", \"ETH14\"]"
   ]
  },
  {
   "cell_type": "code",
   "execution_count": null,
   "metadata": {},
   "outputs": [],
   "source": [
    "# Creating a data frame with the mean values for each active donor \n",
    "AD=datasetactive[metric_features_describe_clusterActive].groupby('DONOR_TYPE').mean()"
   ]
  },
  {
   "cell_type": "code",
   "execution_count": null,
   "metadata": {},
   "outputs": [],
   "source": [
    "AD"
   ]
  },
  {
   "cell_type": "code",
   "execution_count": null,
   "metadata": {},
   "outputs": [],
   "source": [
    "#save AD to csv for kaggle\n",
    "AD.to_csv(os.path.join(\"AD.csv\"), index=True)"
   ]
  },
  {
   "cell_type": "code",
   "execution_count": null,
   "metadata": {},
   "outputs": [],
   "source": [
    "# Creating a data frame with the mean values for each inactive donor \n",
    "ID=datasetinactive[metric_features_describe_clusterActive].groupby('DONOR_TYPE').mean()"
   ]
  },
  {
   "cell_type": "code",
   "execution_count": null,
   "metadata": {},
   "outputs": [],
   "source": [
    "#save ID to csv for kaggle\n",
    "ID.to_csv(os.path.join(\"ID.csv\"), index=True)"
   ]
  },
  {
   "cell_type": "code",
   "execution_count": null,
   "metadata": {},
   "outputs": [],
   "source": [
    "ID"
   ]
  },
  {
   "cell_type": "code",
   "execution_count": null,
   "metadata": {},
   "outputs": [],
   "source": []
  },
  {
   "cell_type": "markdown",
   "metadata": {},
   "source": [
    "## Assess feature importance and reclassify outliers"
   ]
  },
  {
   "cell_type": "code",
   "execution_count": null,
   "metadata": {},
   "outputs": [],
   "source": [
    "### Using the R²\n",
    "#What proportion of each variables total SS is explained between clusters?"
   ]
  },
  {
   "cell_type": "code",
   "execution_count": null,
   "metadata": {},
   "outputs": [],
   "source": [
    "def get_ss_variables(df):\n",
    "    \"\"\"Get the SS for each variable\n",
    "    \"\"\"\n",
    "    ss_vars = df.var() * (df.count() - 1)\n",
    "    return ss_vars\n",
    "\n",
    "def r2_variables(df, labels):\n",
    "    \"\"\"Get the R² for each variable\n",
    "    \"\"\"\n",
    "    sst_vars = get_ss_variables(df)\n",
    "    ssw_vars = np.sum(df.groupby(labels).apply(get_ss_variables))\n",
    "    return 1 - ssw_vars/sst_vars"
   ]
  },
  {
   "cell_type": "code",
   "execution_count": null,
   "metadata": {},
   "outputs": [],
   "source": [
    "# We are essentially decomposing the R² into the R² for each variable\n",
    "r2_variables(df[metric_features.to_list() + ['merged_labels']], 'merged_labels').drop('merged_labels')"
   ]
  },
  {
   "cell_type": "code",
   "execution_count": null,
   "metadata": {},
   "outputs": [],
   "source": [
    "### Using a Decision Tree\n",
    "We get the normalized total reduction of the criterion (gini or entropy) brought by that feature (also known as Gini importance)."
   ]
  },
  {
   "cell_type": "code",
   "execution_count": null,
   "metadata": {},
   "outputs": [],
   "source": [
    "# Preparing the data\n",
    "X = df.drop(columns=['product_labels','behavior_labels','merged_labels'])\n",
    "y = df.merged_labels\n",
    "\n",
    "# Splitting the data\n",
    "X_train, X_test, y_train, y_test = train_test_split(\n",
    "    X, y, test_size=0.2, random_state=42\n",
    ")\n",
    "\n",
    "# Fitting the decision tree\n",
    "dt = DecisionTreeClassifier(random_state=42, max_depth=3)\n",
    "dt.fit(X_train, y_train)\n",
    "print(\"It is estimated that in average, we are able to predict {0:.2f}% of the customers correctly\".format(dt.score(X_test, y_test)*100))"
   ]
  },
  {
   "cell_type": "code",
   "execution_count": null,
   "metadata": {},
   "outputs": [],
   "source": [
    "# Assessing feature importance\n",
    "pd.Series(dt.feature_importances_, index=X_train.columns)"
   ]
  },
  {
   "cell_type": "code",
   "execution_count": null,
   "metadata": {},
   "outputs": [],
   "source": [
    "# Predicting the cluster labels of the outliers\n",
    "df_out['merged_labels'] = dt.predict(df_out.drop(columns=['rcn']))\n",
    "df_out.head()"
   ]
  },
  {
   "cell_type": "code",
   "execution_count": null,
   "metadata": {},
   "outputs": [],
   "source": [
    "# Visualizing the decision tree\n",
    "dot_data = export_graphviz(dt, out_file=None, \n",
    "                           feature_names=X.columns.to_list(),\n",
    "                           filled=True,\n",
    "                           rounded=True,\n",
    "                           special_characters=True)  \n",
    "graphviz.Source(dot_data)"
   ]
  },
  {
   "cell_type": "markdown",
   "metadata": {},
   "source": [
    "# Marketing Approach"
   ]
  },
  {
   "cell_type": "markdown",
   "metadata": {},
   "source": [
    "## Features For marketing aproch"
   ]
  },
  {
   "cell_type": "code",
   "execution_count": null,
   "metadata": {},
   "outputs": [],
   "source": [
    "# selecting the features for the marketing approach\n",
    "marketing_aproch= [\"month_largest_gift\", \"month_minimum_gift\",\"MINRAMNT\",\"MAXRAMNT\", \"ETH14\"]# \"RFA_2F\", \"RFA_2A\","
   ]
  },
  {
   "cell_type": "code",
   "execution_count": null,
   "metadata": {},
   "outputs": [],
   "source": [
    "# Creating a copy for metric_features_describe_cluster dataset\n",
    "datalapsed_marketing_aproch= datasetlapsed[marketing_aproch].copy()"
   ]
  },
  {
   "cell_type": "code",
   "execution_count": null,
   "metadata": {},
   "outputs": [],
   "source": [
    "# Concatenating the origina data with df_labes for marketing approach\n",
    "datalapsed_marketing_aproch = pd.concat((datasetlapsed[marketing_aproch], df_labels), axis=1)"
   ]
  },
  {
   "cell_type": "code",
   "execution_count": null,
   "metadata": {},
   "outputs": [],
   "source": [
    "datalapsed_marketing_aproch"
   ]
  },
  {
   "cell_type": "code",
   "execution_count": null,
   "metadata": {},
   "outputs": [],
   "source": [
    "# Approach 1: When who the clusters who spend most gift and when "
   ]
  },
  {
   "cell_type": "code",
   "execution_count": null,
   "metadata": {},
   "outputs": [],
   "source": [
    "# Adapted from:\n",
    "# https://www.machinelearningplus.com/plots/top-50-matplotlib-visualizations-the-master-plots-python/#26.-Box-Plot\n",
    "\n",
    "\n",
    "from sklearn.cluster import AgglomerativeClustering\n",
    "from scipy.spatial import ConvexHull\n",
    "\n",
    "# Import Data\n",
    "df = datalapsed_marketing_aproch\n",
    "\n",
    "# Agglomerative Clustering\n",
    "#cluster = AgglomerativeClustering(n_clusters=5, affinity='euclidean', linkage='ward')  \n",
    "#cluster.fit_predict(df[['Murder', 'Assault', 'UrbanPop', 'Rape']])  \n",
    "\n",
    "# Plot\n",
    "plt.figure(figsize=(14, 10), dpi= 300)  \n",
    "plt.scatter(df.iloc[:,0], df.iloc[:,1], c=datalapsed_marketing_aproch[\"labelskmeans++\"], cmap='tab10')  \n",
    "\n",
    "# Encircle\n",
    "def encircle(x,y, ax=None, **kw):\n",
    "    if not ax: ax=plt.gca()\n",
    "    p = np.c_[x,y]\n",
    "    hull = ConvexHull(p)\n",
    "    poly = plt.Polygon(p[hull.vertices,:], **kw)\n",
    "    ax.add_patch(poly)\n",
    "\n",
    "# Draw polygon surrounding vertices    \n",
    "encircle(df.loc[datalapsed_marketing_aproch[\"labelskmeans++\"] == 0, 'month_largest_gift'], df.loc[datalapsed_marketing_aproch[\"labelskmeans++\"]== 0, 'MAXRAMNT'], ec=\"k\", fc=\"gold\", alpha=0.2, linewidth=0, label=\"cluster 0\")\n",
    "encircle(df.loc[datalapsed_marketing_aproch[\"labelskmeans++\"] == 1, 'month_largest_gift'], df.loc[datalapsed_marketing_aproch[\"labelskmeans++\"] == 1, 'MAXRAMNT'], ec=\"k\", fc=\"tab:blue\", alpha=0.2, linewidth=0, label=\"cluster 1\")\n",
    "encircle(df.loc[datalapsed_marketing_aproch[\"labelskmeans++\"] == 2, 'month_largest_gift'], df.loc[datalapsed_marketing_aproch[\"labelskmeans++\"] == 2, 'MAXRAMNT'], ec=\"k\", fc=\"tab:red\", alpha=0.2, linewidth=0, label=\"cluster 2\")\n",
    "#encircle(df.loc[datalapsed_marketing_aproch[\"labelskmeans++\"] == 3, 'month_largest_gift'], df.loc[datalapsed_marketing_aproch[\"labelskmeans++\"] == 3, 'MAXRAMNT'], ec=\"k\", fc=\"tab:green\", alpha=0.2, linewidth=0, label=\"cluster 3\")\n",
    "#encircle(df.loc[datalapsed_marketing_aproch[\"labelskmeans++\"] == 4, 'month_largest_gift'], df.loc[datalapsed_marketing_aproch[\"labelskmeans++\"] == 4, 'Assault'], ec=\"k\", fc=\"tab:orange\", alpha=0.2, linewidth=0, label=\"Individuals\")\n",
    "\n",
    "# Decorations\n",
    "plt.legend()\n",
    "plt.xlabel('Month associated with the largest gift'); plt.xticks(fontsize=12)\n",
    "plt.ylabel('Dollar amount of largest gift'); plt.yticks(fontsize=12)\n",
    "#plt.title('Agglomerative Clustering of USArrests (5 Groups)', fontsize=22)\n",
    "plt.savefig(os.path.join('month_largest_vs_MAXRANT.jpg'))\n",
    "plt.show()"
   ]
  },
  {
   "cell_type": "code",
   "execution_count": null,
   "metadata": {},
   "outputs": [],
   "source": [
    "# Approach 2: When who the clusters who mim gift and when "
   ]
  },
  {
   "cell_type": "code",
   "execution_count": null,
   "metadata": {},
   "outputs": [],
   "source": [
    "# Adapted from:\n",
    "# https://www.machinelearningplus.com/plots/top-50-matplotlib-visualizations-the-master-plots-python/#26.-Box-Plot\n",
    "from sklearn.cluster import AgglomerativeClustering\n",
    "from scipy.spatial import ConvexHull\n",
    "\n",
    "# Import Data\n",
    "df = datalapsed_marketing_aproch\n",
    "\n",
    "# Agglomerative Clustering\n",
    "#cluster = AgglomerativeClustering(n_clusters=5, affinity='euclidean', linkage='ward')  \n",
    "#cluster.fit_predict(df[['Murder', 'Assault', 'UrbanPop', 'Rape']])  \n",
    "\n",
    "# Plot\n",
    "plt.figure(figsize=(14, 10), dpi= 300)  \n",
    "plt.scatter(df.iloc[:,0], df.iloc[:,1], c=datalapsed_marketing_aproch[\"labelskmeans++\"], cmap='tab10')  \n",
    "\n",
    "# Encircle\n",
    "def encircle(x,y, ax=None, **kw):\n",
    "    if not ax: ax=plt.gca()\n",
    "    p = np.c_[x,y]\n",
    "    hull = ConvexHull(p)\n",
    "    poly = plt.Polygon(p[hull.vertices,:], **kw)\n",
    "    ax.add_patch(poly)\n",
    "\n",
    "# Draw polygon surrounding vertices    \n",
    "encircle(df.loc[datalapsed_marketing_aproch[\"labelskmeans++\"] == 0, 'month_minimum_gift'], df.loc[datalapsed_marketing_aproch[\"labelskmeans++\"]== 0, 'MINRAMNT'], ec=\"k\", fc=\"gold\", alpha=0.2, linewidth=0, label=\"cluster 0\")\n",
    "encircle(df.loc[datalapsed_marketing_aproch[\"labelskmeans++\"] == 1, 'month_minimum_gift'], df.loc[datalapsed_marketing_aproch[\"labelskmeans++\"] == 1, 'MINRAMNT'], ec=\"k\", fc=\"tab:blue\", alpha=0.2, linewidth=0, label=\"cluster 1\")\n",
    "encircle(df.loc[datalapsed_marketing_aproch[\"labelskmeans++\"] == 2, 'month_minimum_gift'], df.loc[datalapsed_marketing_aproch[\"labelskmeans++\"] == 2, 'MINRAMNT'], ec=\"k\", fc=\"tab:red\", alpha=0.2, linewidth=0, label=\"cluster 2\")\n",
    "#encircle(df.loc[datalapsed_marketing_aproch[\"labelskmeans++\"] == 3, 'month_minimum_gift'], df.loc[datalapsed_marketing_aproch[\"labelskmeans++\"] == 3, 'MINRAMNT'], ec=\"k\", fc=\"tab:green\", alpha=0.2, linewidth=0, label=\"cluster 3\")\n",
    "#encircle(df.loc[datalapsed_marketing_aproch[\"labelskmeans++\"] == 4, 'month_largest_gift'], df.loc[datalapsed_marketing_aproch[\"labelskmeans++\"] == 4, 'Assault'], ec=\"k\", fc=\"tab:orange\", alpha=0.2, linewidth=0, label=\"Individuals\")\n",
    "\n",
    "# Decorations\n",
    "plt.legend()\n",
    "plt.xlabel('Month associated with the smallest gift '); plt.xticks(fontsize=12)\n",
    "plt.ylabel('Dollar amount of smallest gift'); plt.yticks(fontsize=12)\n",
    "#plt.title('Agglomerative Clustering of USArrests (5 Groups)', fontsize=22)\n",
    "plt.savefig(os.path.join('month_smallest_giftvs_MINRAMNT.jpg'))\n",
    "plt.show()"
   ]
  },
  {
   "cell_type": "code",
   "execution_count": null,
   "metadata": {},
   "outputs": [],
   "source": []
  },
  {
   "cell_type": "code",
   "execution_count": null,
   "metadata": {},
   "outputs": [],
   "source": []
  },
  {
   "cell_type": "code",
   "execution_count": null,
   "metadata": {},
   "outputs": [],
   "source": [
    "# Approach 3: Puerto rican population "
   ]
  },
  {
   "cell_type": "code",
   "execution_count": null,
   "metadata": {},
   "outputs": [],
   "source": []
  },
  {
   "cell_type": "code",
   "execution_count": null,
   "metadata": {},
   "outputs": [],
   "source": [
    "Pouertto rican=datalapsed_marketing_aproch.groupby([\"labelskmeans++\"]).mean()[\"ETH14\"]"
   ]
  },
  {
   "cell_type": "code",
   "execution_count": null,
   "metadata": {},
   "outputs": [],
   "source": [
    "#save AD to csv for kaggle\n",
    "datalapsed_marketing_aproch.groupby([\"labelskmeans++\"]).mean()[\"ETH14\"].to_csv(os.path.join(\"Pouertto rican.csv\"), index=True)"
   ]
  },
  {
   "cell_type": "code",
   "execution_count": null,
   "metadata": {},
   "outputs": [],
   "source": []
  },
  {
   "cell_type": "code",
   "execution_count": null,
   "metadata": {},
   "outputs": [],
   "source": []
  },
  {
   "cell_type": "code",
   "execution_count": null,
   "metadata": {},
   "outputs": [],
   "source": []
  },
  {
   "cell_type": "code",
   "execution_count": null,
   "metadata": {},
   "outputs": [],
   "source": []
  },
  {
   "cell_type": "code",
   "execution_count": null,
   "metadata": {},
   "outputs": [],
   "source": []
  },
  {
   "cell_type": "code",
   "execution_count": null,
   "metadata": {},
   "outputs": [],
   "source": []
  },
  {
   "cell_type": "code",
   "execution_count": null,
   "metadata": {},
   "outputs": [],
   "source": []
  },
  {
   "cell_type": "code",
   "execution_count": null,
   "metadata": {},
   "outputs": [],
   "source": []
  },
  {
   "cell_type": "code",
   "execution_count": null,
   "metadata": {},
   "outputs": [],
   "source": []
  },
  {
   "cell_type": "markdown",
   "metadata": {},
   "source": [
    "# Kmeans ++"
   ]
  },
  {
   "cell_type": "code",
   "execution_count": null,
   "metadata": {},
   "outputs": [],
   "source": []
  },
  {
   "cell_type": "code",
   "execution_count": null,
   "metadata": {},
   "outputs": [],
   "source": []
  },
  {
   "cell_type": "code",
   "execution_count": null,
   "metadata": {},
   "outputs": [],
   "source": []
  },
  {
   "cell_type": "code",
   "execution_count": null,
   "metadata": {},
   "outputs": [],
   "source": []
  },
  {
   "cell_type": "code",
   "execution_count": null,
   "metadata": {},
   "outputs": [],
   "source": []
  },
  {
   "cell_type": "code",
   "execution_count": null,
   "metadata": {},
   "outputs": [],
   "source": []
  },
  {
   "cell_type": "code",
   "execution_count": null,
   "metadata": {},
   "outputs": [],
   "source": []
  },
  {
   "cell_type": "code",
   "execution_count": null,
   "metadata": {},
   "outputs": [],
   "source": []
  },
  {
   "cell_type": "code",
   "execution_count": null,
   "metadata": {},
   "outputs": [],
   "source": []
  },
  {
   "cell_type": "code",
   "execution_count": null,
   "metadata": {},
   "outputs": [],
   "source": []
  },
  {
   "cell_type": "markdown",
   "metadata": {},
   "source": [
    "# SOM"
   ]
  },
  {
   "cell_type": "code",
   "execution_count": null,
   "metadata": {},
   "outputs": [],
   "source": []
  },
  {
   "cell_type": "code",
   "execution_count": null,
   "metadata": {},
   "outputs": [],
   "source": []
  },
  {
   "cell_type": "code",
   "execution_count": null,
   "metadata": {},
   "outputs": [],
   "source": []
  },
  {
   "cell_type": "code",
   "execution_count": null,
   "metadata": {},
   "outputs": [],
   "source": []
  },
  {
   "cell_type": "code",
   "execution_count": null,
   "metadata": {},
   "outputs": [],
   "source": []
  },
  {
   "cell_type": "code",
   "execution_count": null,
   "metadata": {},
   "outputs": [],
   "source": []
  },
  {
   "cell_type": "code",
   "execution_count": null,
   "metadata": {},
   "outputs": [],
   "source": []
  },
  {
   "cell_type": "code",
   "execution_count": null,
   "metadata": {},
   "outputs": [],
   "source": []
  },
  {
   "cell_type": "code",
   "execution_count": null,
   "metadata": {},
   "outputs": [],
   "source": []
  },
  {
   "cell_type": "code",
   "execution_count": null,
   "metadata": {},
   "outputs": [],
   "source": []
  },
  {
   "cell_type": "code",
   "execution_count": null,
   "metadata": {},
   "outputs": [],
   "source": []
  },
  {
   "cell_type": "code",
   "execution_count": null,
   "metadata": {},
   "outputs": [],
   "source": [
    "sm.cluster??"
   ]
  },
  {
   "cell_type": "code",
   "execution_count": null,
   "metadata": {},
   "outputs": [],
   "source": []
  },
  {
   "cell_type": "code",
   "execution_count": null,
   "metadata": {},
   "outputs": [],
   "source": []
  },
  {
   "cell_type": "code",
   "execution_count": null,
   "metadata": {},
   "outputs": [],
   "source": []
  }
 ],
 "metadata": {
  "kernelspec": {
   "display_name": "Python 3",
   "language": "python",
   "name": "python3"
  },
  "language_info": {
   "codemirror_mode": {
    "name": "ipython",
    "version": 3
   },
   "file_extension": ".py",
   "mimetype": "text/x-python",
   "name": "python",
   "nbconvert_exporter": "python",
   "pygments_lexer": "ipython3",
   "version": "3.9.1"
  }
 },
 "nbformat": 4,
 "nbformat_minor": 4
}
